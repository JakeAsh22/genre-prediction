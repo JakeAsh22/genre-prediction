{
 "cells": [
  {
   "cell_type": "markdown",
   "metadata": {},
   "source": [
    "# Phase 3 Artist Genre Prediction"
   ]
  },
  {
   "cell_type": "code",
   "execution_count": 75,
   "metadata": {},
   "outputs": [],
   "source": [
    "import pandas as pd\n",
    "import re\n",
    "import numpy as np\n",
    "import matplotlib.pyplot as plt\n",
    "import seaborn as sns\n",
    "from ast import literal_eval\n",
    "\n",
    "pd.set_option('display.max_columns', 300)\n",
    "pd.set_option('display.max_rows', 200)\n",
    "pd.options.display.max_colwidth = 100\n",
    "\n",
    "\n",
    "\n",
    "from sklearn.linear_model import LinearRegression\n",
    "from sklearn.preprocessing import MinMaxScaler\n",
    "from sklearn.linear_model import Lasso, Ridge, LinearRegression\n",
    "from sklearn.model_selection import train_test_split\n",
    "import pandas as pd\n",
    "import numpy as np\n",
    "import matplotlib.pyplot as plt\n",
    "\n",
    "import numpy as np\n",
    "import pandas as pd\n",
    "import matplotlib as mpl\n",
    "import matplotlib.pyplot as plt\n",
    "from sklearn.model_selection import train_test_split\n",
    "from sklearn.tree import DecisionTreeClassifier\n",
    "from sklearn.metrics import roc_curve, auc\n",
    "plt.style.use('seaborn')\n",
    "from sklearn.metrics import confusion_matrix\n",
    "from sklearn.metrics import f1_score\n",
    "from sklearn.neighbors import KNeighborsClassifier\n",
    "from sklearn.linear_model import LogisticRegression\n",
    "from sklearn.model_selection import train_test_split, GridSearchCV,\\\n",
    "cross_val_score, RandomizedSearchCV\n",
    "from sklearn.preprocessing import PolynomialFeatures\n",
    "from sklearn.feature_selection import RFE, RFECV\n",
    "from sklearn.ensemble import RandomForestClassifier\n",
    "import xgboost"
   ]
  },
  {
   "cell_type": "markdown",
   "metadata": {},
   "source": [
    "## Column Descriptions: \n",
    "\n",
    "**Acousticness**: The relative metric of the track being acoustic\\\n",
    "**Danceability**: The relative measurement of the track being danceable\\\n",
    "**Duration_MS**: The duration length of track (in ms)\\\n",
    "**Energy**: The energy of the track\\\n",
    "**Instrumentalness**: The relative ratio of the track being instrumental\\\n",
    "**Liveness**: The relative duration of the track sounding as a live performance\\\n",
    "**Loudness**: Relative loudness of the track in the typical range [-60, 0] in decibel (dB)\\\n",
    "**Speechiness**: The relative length of the track containing any kind of human voice\\\n",
    "**Tempo**: The tempo of the track in Beat Per Minute (BPM)\\\n",
    "**Valence**: The positivity of the track\\\n",
    "**Popularity**: The popularity of the song lately, default country = US\\\n",
    "**Key**: The primary key of the track encoded as integers in between 0 and 11\\\n",
    "**Mode**: The binary value representing whether the track starts with a major (1) chord progression or not (0)\\\n",
    "**Count**: The number of tracks from the original dataset, produced by the given artist (Dropped)\n"
   ]
  },
  {
   "cell_type": "markdown",
   "metadata": {},
   "source": [
    "## Data Cleaning"
   ]
  },
  {
   "cell_type": "code",
   "execution_count": 2,
   "metadata": {},
   "outputs": [
    {
     "data": {
      "text/html": [
       "<div>\n",
       "<style scoped>\n",
       "    .dataframe tbody tr th:only-of-type {\n",
       "        vertical-align: middle;\n",
       "    }\n",
       "\n",
       "    .dataframe tbody tr th {\n",
       "        vertical-align: top;\n",
       "    }\n",
       "\n",
       "    .dataframe thead th {\n",
       "        text-align: right;\n",
       "    }\n",
       "</style>\n",
       "<table border=\"1\" class=\"dataframe\">\n",
       "  <thead>\n",
       "    <tr style=\"text-align: right;\">\n",
       "      <th></th>\n",
       "      <th>artists</th>\n",
       "      <th>acousticness</th>\n",
       "      <th>danceability</th>\n",
       "      <th>duration_ms</th>\n",
       "      <th>energy</th>\n",
       "      <th>instrumentalness</th>\n",
       "      <th>liveness</th>\n",
       "      <th>loudness</th>\n",
       "      <th>speechiness</th>\n",
       "      <th>tempo</th>\n",
       "      <th>valence</th>\n",
       "      <th>popularity</th>\n",
       "      <th>key</th>\n",
       "      <th>mode</th>\n",
       "      <th>count</th>\n",
       "      <th>genres</th>\n",
       "    </tr>\n",
       "  </thead>\n",
       "  <tbody>\n",
       "    <tr>\n",
       "      <th>0</th>\n",
       "      <td>\"Cats\" 1981 Original London Cast</td>\n",
       "      <td>0.598500</td>\n",
       "      <td>0.470100</td>\n",
       "      <td>267072.000000</td>\n",
       "      <td>0.376203</td>\n",
       "      <td>0.010261</td>\n",
       "      <td>0.283050</td>\n",
       "      <td>-14.434300</td>\n",
       "      <td>0.209150</td>\n",
       "      <td>114.128800</td>\n",
       "      <td>0.358320</td>\n",
       "      <td>38.200000</td>\n",
       "      <td>5</td>\n",
       "      <td>1</td>\n",
       "      <td>10</td>\n",
       "      <td>['show tunes']</td>\n",
       "    </tr>\n",
       "    <tr>\n",
       "      <th>1</th>\n",
       "      <td>\"Cats\" 1983 Broadway Cast</td>\n",
       "      <td>0.862538</td>\n",
       "      <td>0.441731</td>\n",
       "      <td>287280.000000</td>\n",
       "      <td>0.406808</td>\n",
       "      <td>0.081158</td>\n",
       "      <td>0.315215</td>\n",
       "      <td>-10.690000</td>\n",
       "      <td>0.176212</td>\n",
       "      <td>103.044154</td>\n",
       "      <td>0.268865</td>\n",
       "      <td>31.538462</td>\n",
       "      <td>5</td>\n",
       "      <td>1</td>\n",
       "      <td>26</td>\n",
       "      <td>[]</td>\n",
       "    </tr>\n",
       "    <tr>\n",
       "      <th>2</th>\n",
       "      <td>\"Fiddler On The Roof” Motion Picture Chorus</td>\n",
       "      <td>0.856571</td>\n",
       "      <td>0.348286</td>\n",
       "      <td>328920.000000</td>\n",
       "      <td>0.286571</td>\n",
       "      <td>0.024593</td>\n",
       "      <td>0.325786</td>\n",
       "      <td>-15.230714</td>\n",
       "      <td>0.118514</td>\n",
       "      <td>77.375857</td>\n",
       "      <td>0.354857</td>\n",
       "      <td>34.571429</td>\n",
       "      <td>0</td>\n",
       "      <td>1</td>\n",
       "      <td>7</td>\n",
       "      <td>[]</td>\n",
       "    </tr>\n",
       "    <tr>\n",
       "      <th>3</th>\n",
       "      <td>\"Fiddler On The Roof” Motion Picture Orchestra</td>\n",
       "      <td>0.884926</td>\n",
       "      <td>0.425074</td>\n",
       "      <td>262890.962963</td>\n",
       "      <td>0.245770</td>\n",
       "      <td>0.073587</td>\n",
       "      <td>0.275481</td>\n",
       "      <td>-15.639370</td>\n",
       "      <td>0.123200</td>\n",
       "      <td>88.667630</td>\n",
       "      <td>0.372030</td>\n",
       "      <td>34.407407</td>\n",
       "      <td>0</td>\n",
       "      <td>1</td>\n",
       "      <td>27</td>\n",
       "      <td>[]</td>\n",
       "    </tr>\n",
       "    <tr>\n",
       "      <th>4</th>\n",
       "      <td>\"Joseph And The Amazing Technicolor Dreamcoat\" 1991 London Cast</td>\n",
       "      <td>0.510714</td>\n",
       "      <td>0.467143</td>\n",
       "      <td>270436.142857</td>\n",
       "      <td>0.488286</td>\n",
       "      <td>0.009400</td>\n",
       "      <td>0.195000</td>\n",
       "      <td>-10.236714</td>\n",
       "      <td>0.098543</td>\n",
       "      <td>122.835857</td>\n",
       "      <td>0.482286</td>\n",
       "      <td>42.000000</td>\n",
       "      <td>5</td>\n",
       "      <td>1</td>\n",
       "      <td>7</td>\n",
       "      <td>[]</td>\n",
       "    </tr>\n",
       "    <tr>\n",
       "      <th>...</th>\n",
       "      <td>...</td>\n",
       "      <td>...</td>\n",
       "      <td>...</td>\n",
       "      <td>...</td>\n",
       "      <td>...</td>\n",
       "      <td>...</td>\n",
       "      <td>...</td>\n",
       "      <td>...</td>\n",
       "      <td>...</td>\n",
       "      <td>...</td>\n",
       "      <td>...</td>\n",
       "      <td>...</td>\n",
       "      <td>...</td>\n",
       "      <td>...</td>\n",
       "      <td>...</td>\n",
       "      <td>...</td>\n",
       "    </tr>\n",
       "    <tr>\n",
       "      <th>32534</th>\n",
       "      <td>김효근</td>\n",
       "      <td>0.939000</td>\n",
       "      <td>0.174000</td>\n",
       "      <td>341821.000000</td>\n",
       "      <td>0.321000</td>\n",
       "      <td>0.756000</td>\n",
       "      <td>0.695000</td>\n",
       "      <td>-13.411000</td>\n",
       "      <td>0.042200</td>\n",
       "      <td>138.300000</td>\n",
       "      <td>0.055400</td>\n",
       "      <td>0.000000</td>\n",
       "      <td>3</td>\n",
       "      <td>1</td>\n",
       "      <td>1</td>\n",
       "      <td>[]</td>\n",
       "    </tr>\n",
       "    <tr>\n",
       "      <th>32535</th>\n",
       "      <td>나율</td>\n",
       "      <td>0.717000</td>\n",
       "      <td>0.591500</td>\n",
       "      <td>241281.500000</td>\n",
       "      <td>0.473500</td>\n",
       "      <td>0.000000</td>\n",
       "      <td>0.105000</td>\n",
       "      <td>-6.588500</td>\n",
       "      <td>0.053700</td>\n",
       "      <td>107.599000</td>\n",
       "      <td>0.507500</td>\n",
       "      <td>16.000000</td>\n",
       "      <td>1</td>\n",
       "      <td>1</td>\n",
       "      <td>4</td>\n",
       "      <td>[]</td>\n",
       "    </tr>\n",
       "    <tr>\n",
       "      <th>32536</th>\n",
       "      <td>미스티</td>\n",
       "      <td>0.416000</td>\n",
       "      <td>0.686000</td>\n",
       "      <td>216715.000000</td>\n",
       "      <td>0.822000</td>\n",
       "      <td>0.000000</td>\n",
       "      <td>0.110000</td>\n",
       "      <td>-6.300000</td>\n",
       "      <td>0.080200</td>\n",
       "      <td>122.047000</td>\n",
       "      <td>0.625000</td>\n",
       "      <td>0.000000</td>\n",
       "      <td>5</td>\n",
       "      <td>0</td>\n",
       "      <td>2</td>\n",
       "      <td>[]</td>\n",
       "    </tr>\n",
       "    <tr>\n",
       "      <th>32537</th>\n",
       "      <td>시온 Zion &amp; 한해 Hanhae of 팬텀 Phantom</td>\n",
       "      <td>0.288000</td>\n",
       "      <td>0.739000</td>\n",
       "      <td>242480.000000</td>\n",
       "      <td>0.475000</td>\n",
       "      <td>0.000000</td>\n",
       "      <td>0.075700</td>\n",
       "      <td>-8.920000</td>\n",
       "      <td>0.379000</td>\n",
       "      <td>81.490000</td>\n",
       "      <td>0.800000</td>\n",
       "      <td>8.000000</td>\n",
       "      <td>2</td>\n",
       "      <td>0</td>\n",
       "      <td>2</td>\n",
       "      <td>[]</td>\n",
       "    </tr>\n",
       "    <tr>\n",
       "      <th>32538</th>\n",
       "      <td>조정현</td>\n",
       "      <td>0.568000</td>\n",
       "      <td>0.447000</td>\n",
       "      <td>237688.000000</td>\n",
       "      <td>0.215000</td>\n",
       "      <td>0.000001</td>\n",
       "      <td>0.064900</td>\n",
       "      <td>-16.478000</td>\n",
       "      <td>0.027200</td>\n",
       "      <td>71.979000</td>\n",
       "      <td>0.177000</td>\n",
       "      <td>30.000000</td>\n",
       "      <td>10</td>\n",
       "      <td>1</td>\n",
       "      <td>2</td>\n",
       "      <td>['classic korean pop']</td>\n",
       "    </tr>\n",
       "  </tbody>\n",
       "</table>\n",
       "<p>32539 rows × 16 columns</p>\n",
       "</div>"
      ],
      "text/plain": [
       "                                                               artists  \\\n",
       "0                                     \"Cats\" 1981 Original London Cast   \n",
       "1                                            \"Cats\" 1983 Broadway Cast   \n",
       "2                          \"Fiddler On The Roof” Motion Picture Chorus   \n",
       "3                       \"Fiddler On The Roof” Motion Picture Orchestra   \n",
       "4      \"Joseph And The Amazing Technicolor Dreamcoat\" 1991 London Cast   \n",
       "...                                                                ...   \n",
       "32534                                                              김효근   \n",
       "32535                                                               나율   \n",
       "32536                                                              미스티   \n",
       "32537                                시온 Zion & 한해 Hanhae of 팬텀 Phantom   \n",
       "32538                                                              조정현   \n",
       "\n",
       "       acousticness  danceability    duration_ms    energy  instrumentalness  \\\n",
       "0          0.598500      0.470100  267072.000000  0.376203          0.010261   \n",
       "1          0.862538      0.441731  287280.000000  0.406808          0.081158   \n",
       "2          0.856571      0.348286  328920.000000  0.286571          0.024593   \n",
       "3          0.884926      0.425074  262890.962963  0.245770          0.073587   \n",
       "4          0.510714      0.467143  270436.142857  0.488286          0.009400   \n",
       "...             ...           ...            ...       ...               ...   \n",
       "32534      0.939000      0.174000  341821.000000  0.321000          0.756000   \n",
       "32535      0.717000      0.591500  241281.500000  0.473500          0.000000   \n",
       "32536      0.416000      0.686000  216715.000000  0.822000          0.000000   \n",
       "32537      0.288000      0.739000  242480.000000  0.475000          0.000000   \n",
       "32538      0.568000      0.447000  237688.000000  0.215000          0.000001   \n",
       "\n",
       "       liveness   loudness  speechiness       tempo   valence  popularity  \\\n",
       "0      0.283050 -14.434300     0.209150  114.128800  0.358320   38.200000   \n",
       "1      0.315215 -10.690000     0.176212  103.044154  0.268865   31.538462   \n",
       "2      0.325786 -15.230714     0.118514   77.375857  0.354857   34.571429   \n",
       "3      0.275481 -15.639370     0.123200   88.667630  0.372030   34.407407   \n",
       "4      0.195000 -10.236714     0.098543  122.835857  0.482286   42.000000   \n",
       "...         ...        ...          ...         ...       ...         ...   \n",
       "32534  0.695000 -13.411000     0.042200  138.300000  0.055400    0.000000   \n",
       "32535  0.105000  -6.588500     0.053700  107.599000  0.507500   16.000000   \n",
       "32536  0.110000  -6.300000     0.080200  122.047000  0.625000    0.000000   \n",
       "32537  0.075700  -8.920000     0.379000   81.490000  0.800000    8.000000   \n",
       "32538  0.064900 -16.478000     0.027200   71.979000  0.177000   30.000000   \n",
       "\n",
       "       key  mode  count                  genres  \n",
       "0        5     1     10          ['show tunes']  \n",
       "1        5     1     26                      []  \n",
       "2        0     1      7                      []  \n",
       "3        0     1     27                      []  \n",
       "4        5     1      7                      []  \n",
       "...    ...   ...    ...                     ...  \n",
       "32534    3     1      1                      []  \n",
       "32535    1     1      4                      []  \n",
       "32536    5     0      2                      []  \n",
       "32537    2     0      2                      []  \n",
       "32538   10     1      2  ['classic korean pop']  \n",
       "\n",
       "[32539 rows x 16 columns]"
      ]
     },
     "execution_count": 2,
     "metadata": {},
     "output_type": "execute_result"
    }
   ],
   "source": [
    "df = pd.read_csv('data/data_w_genres.csv')\n",
    "df"
   ]
  },
  {
   "cell_type": "markdown",
   "metadata": {},
   "source": [
    "### Removed all the empty genres"
   ]
  },
  {
   "cell_type": "code",
   "execution_count": 3,
   "metadata": {},
   "outputs": [],
   "source": [
    "df = df.loc[df['genres'] != '[]']"
   ]
  },
  {
   "cell_type": "code",
   "execution_count": 4,
   "metadata": {},
   "outputs": [],
   "source": [
    "df = df.reset_index()"
   ]
  },
  {
   "cell_type": "code",
   "execution_count": 5,
   "metadata": {},
   "outputs": [],
   "source": [
    "df = df.drop('index',axis=1)"
   ]
  },
  {
   "cell_type": "code",
   "execution_count": 6,
   "metadata": {},
   "outputs": [
    {
     "data": {
      "text/plain": [
       "(18976, 16)"
      ]
     },
     "execution_count": 6,
     "metadata": {},
     "output_type": "execute_result"
    }
   ],
   "source": [
    "df.shape"
   ]
  },
  {
   "cell_type": "markdown",
   "metadata": {},
   "source": [
    "### First Iteration: Map data to Rap or country ###"
   ]
  },
  {
   "cell_type": "code",
   "execution_count": 7,
   "metadata": {},
   "outputs": [],
   "source": [
    "df['rap'] = 0\n",
    "df['country'] = 0\n",
    "df['classical'] = 0\n",
    "df['jazz'] = 0"
   ]
  },
  {
   "cell_type": "code",
   "execution_count": 8,
   "metadata": {},
   "outputs": [
    {
     "name": "stderr",
     "output_type": "stream",
     "text": [
      "<ipython-input-8-365487a95f8b>:7: SettingWithCopyWarning: \n",
      "A value is trying to be set on a copy of a slice from a DataFrame\n",
      "\n",
      "See the caveats in the documentation: https://pandas.pydata.org/pandas-docs/stable/user_guide/indexing.html#returning-a-view-versus-a-copy\n",
      "  df['rap'][count] += 1\n",
      "<ipython-input-8-365487a95f8b>:9: SettingWithCopyWarning: \n",
      "A value is trying to be set on a copy of a slice from a DataFrame\n",
      "\n",
      "See the caveats in the documentation: https://pandas.pydata.org/pandas-docs/stable/user_guide/indexing.html#returning-a-view-versus-a-copy\n",
      "  df['country'][count] += 1\n",
      "<ipython-input-8-365487a95f8b>:11: SettingWithCopyWarning: \n",
      "A value is trying to be set on a copy of a slice from a DataFrame\n",
      "\n",
      "See the caveats in the documentation: https://pandas.pydata.org/pandas-docs/stable/user_guide/indexing.html#returning-a-view-versus-a-copy\n",
      "  df['classical'][count]+=1\n",
      "<ipython-input-8-365487a95f8b>:13: SettingWithCopyWarning: \n",
      "A value is trying to be set on a copy of a slice from a DataFrame\n",
      "\n",
      "See the caveats in the documentation: https://pandas.pydata.org/pandas-docs/stable/user_guide/indexing.html#returning-a-view-versus-a-copy\n",
      "  df['jazz'][count]+=1\n"
     ]
    }
   ],
   "source": [
    "count=0\n",
    "\n",
    "for songs in df['genres']:\n",
    "    song1 = songs.split(', ')\n",
    "    for song in song1:\n",
    "        if ' rap' in song and \"trap\" not in song and \"country rap\" not in song:\n",
    "            df['rap'][count] += 1\n",
    "        if \"country\" in song:\n",
    "            df['country'][count] += 1\n",
    "        if \"classical\" in song:\n",
    "            df['classical'][count]+=1\n",
    "        if \"jazz\" in song and 'jazz rap' not in song and 'classical jazz' not in song and 'country jazz' not in song:\n",
    "            df['jazz'][count]+=1\n",
    "    count+=1"
   ]
  },
  {
   "cell_type": "markdown",
   "metadata": {},
   "source": [
    "### Further Categorize Rap or country"
   ]
  },
  {
   "cell_type": "code",
   "execution_count": 9,
   "metadata": {},
   "outputs": [],
   "source": [
    "#rap 0 country 1 rock 2 pop 3"
   ]
  },
  {
   "cell_type": "code",
   "execution_count": 10,
   "metadata": {},
   "outputs": [],
   "source": [
    "# conditons =  [\n",
    "#                 ((df['rap'] > df['country']) & (df['rap'] > df['classical'])& (df['rap'] > df['jazz'])),\n",
    "#                 ((df['country'] > df['rap']) &  (df['country'] > df['classical']) &  (df['country'] > df['jazz'])),\n",
    "#                 ((df['classical'] > df['rap']) &  (df['classical'] > df['country'])&  (df['classical'] > df['jazz'])),\n",
    "#                 ((df['jazz'] > df['rap']) &  (df['jazz'] > df['country'])&  (df['jazz'] > df['classical']))\n",
    "#              ]\n",
    "\n",
    "# choices = ['rap',\n",
    "#            'country',\n",
    "#            'classical',\n",
    "#            'jazz'\n",
    "           \n",
    "# ]\n",
    "\n",
    "# df['clean_genres'] = np.select(conditons, choices)"
   ]
  },
  {
   "cell_type": "code",
   "execution_count": 11,
   "metadata": {},
   "outputs": [],
   "source": [
    "df = df[(df.rap >= 1) | (df.country >= 1) | (df.classical >= 1) | (df.jazz >= 1)]"
   ]
  },
  {
   "cell_type": "code",
   "execution_count": 12,
   "metadata": {},
   "outputs": [],
   "source": [
    "df['clean_genres'] = df[['rap','country','classical','jazz']].idxmax(axis=1)"
   ]
  },
  {
   "cell_type": "code",
   "execution_count": 13,
   "metadata": {},
   "outputs": [
    {
     "data": {
      "text/plain": [
       "classical    1231\n",
       "jazz         1164\n",
       "rap          1133\n",
       "country      1007\n",
       "Name: clean_genres, dtype: int64"
      ]
     },
     "execution_count": 13,
     "metadata": {},
     "output_type": "execute_result"
    }
   ],
   "source": [
    "df['clean_genres'].value_counts()"
   ]
  },
  {
   "cell_type": "code",
   "execution_count": 14,
   "metadata": {},
   "outputs": [
    {
     "data": {
      "text/plain": [
       "classical    1231\n",
       "jazz         1164\n",
       "rap          1133\n",
       "country      1007\n",
       "Name: clean_genres, dtype: int64"
      ]
     },
     "execution_count": 14,
     "metadata": {},
     "output_type": "execute_result"
    }
   ],
   "source": [
    "df['clean_genres'].value_counts()"
   ]
  },
  {
   "cell_type": "code",
   "execution_count": 15,
   "metadata": {},
   "outputs": [
    {
     "data": {
      "text/plain": [
       "'classical'"
      ]
     },
     "execution_count": 15,
     "metadata": {},
     "output_type": "execute_result"
    }
   ],
   "source": [
    "df.iloc[257]['clean_genres']"
   ]
  },
  {
   "cell_type": "code",
   "execution_count": 16,
   "metadata": {},
   "outputs": [
    {
     "data": {
      "text/plain": [
       "0    3294\n",
       "1     904\n",
       "2     255\n",
       "3      64\n",
       "4      16\n",
       "5       2\n",
       "Name: classical, dtype: int64"
      ]
     },
     "execution_count": 16,
     "metadata": {},
     "output_type": "execute_result"
    }
   ],
   "source": [
    "df['classical'].value_counts()"
   ]
  },
  {
   "cell_type": "code",
   "execution_count": 17,
   "metadata": {},
   "outputs": [
    {
     "data": {
      "text/html": [
       "<div>\n",
       "<style scoped>\n",
       "    .dataframe tbody tr th:only-of-type {\n",
       "        vertical-align: middle;\n",
       "    }\n",
       "\n",
       "    .dataframe tbody tr th {\n",
       "        vertical-align: top;\n",
       "    }\n",
       "\n",
       "    .dataframe thead th {\n",
       "        text-align: right;\n",
       "    }\n",
       "</style>\n",
       "<table border=\"1\" class=\"dataframe\">\n",
       "  <thead>\n",
       "    <tr style=\"text-align: right;\">\n",
       "      <th></th>\n",
       "      <th>artists</th>\n",
       "      <th>genres</th>\n",
       "      <th>country</th>\n",
       "      <th>classical</th>\n",
       "      <th>clean_genres</th>\n",
       "    </tr>\n",
       "  </thead>\n",
       "  <tbody>\n",
       "  </tbody>\n",
       "</table>\n",
       "</div>"
      ],
      "text/plain": [
       "Empty DataFrame\n",
       "Columns: [artists, genres, country, classical, clean_genres]\n",
       "Index: []"
      ]
     },
     "execution_count": 17,
     "metadata": {},
     "output_type": "execute_result"
    }
   ],
   "source": [
    "df[\n",
    "    (df['classical'] >= 1) & (df['country'] >= 1) &\n",
    "    ((df['country'] == df['classical']))\n",
    "    ][['artists','genres', 'country', \"classical\", 'clean_genres']].sort_values(by=['classical'], ascending=False)"
   ]
  },
  {
   "cell_type": "code",
   "execution_count": 18,
   "metadata": {},
   "outputs": [
    {
     "data": {
      "text/html": [
       "<div>\n",
       "<style scoped>\n",
       "    .dataframe tbody tr th:only-of-type {\n",
       "        vertical-align: middle;\n",
       "    }\n",
       "\n",
       "    .dataframe tbody tr th {\n",
       "        vertical-align: top;\n",
       "    }\n",
       "\n",
       "    .dataframe thead th {\n",
       "        text-align: right;\n",
       "    }\n",
       "</style>\n",
       "<table border=\"1\" class=\"dataframe\">\n",
       "  <thead>\n",
       "    <tr style=\"text-align: right;\">\n",
       "      <th></th>\n",
       "      <th>artists</th>\n",
       "      <th>genres</th>\n",
       "      <th>rap</th>\n",
       "      <th>classical</th>\n",
       "      <th>clean_genres</th>\n",
       "    </tr>\n",
       "  </thead>\n",
       "  <tbody>\n",
       "  </tbody>\n",
       "</table>\n",
       "</div>"
      ],
      "text/plain": [
       "Empty DataFrame\n",
       "Columns: [artists, genres, rap, classical, clean_genres]\n",
       "Index: []"
      ]
     },
     "execution_count": 18,
     "metadata": {},
     "output_type": "execute_result"
    }
   ],
   "source": [
    "df[\n",
    "    (df['classical'] >= 1) & (df['rap'] >= 1) &\n",
    "    ((df['rap'] == df['classical']))\n",
    "    ][['artists','genres', 'rap', \"classical\", 'clean_genres']].sort_values(by=['rap'], ascending=False)"
   ]
  },
  {
   "cell_type": "code",
   "execution_count": 19,
   "metadata": {},
   "outputs": [
    {
     "data": {
      "text/html": [
       "<div>\n",
       "<style scoped>\n",
       "    .dataframe tbody tr th:only-of-type {\n",
       "        vertical-align: middle;\n",
       "    }\n",
       "\n",
       "    .dataframe tbody tr th {\n",
       "        vertical-align: top;\n",
       "    }\n",
       "\n",
       "    .dataframe thead th {\n",
       "        text-align: right;\n",
       "    }\n",
       "</style>\n",
       "<table border=\"1\" class=\"dataframe\">\n",
       "  <thead>\n",
       "    <tr style=\"text-align: right;\">\n",
       "      <th></th>\n",
       "      <th>artists</th>\n",
       "      <th>genres</th>\n",
       "      <th>rap</th>\n",
       "      <th>country</th>\n",
       "      <th>clean_genres</th>\n",
       "    </tr>\n",
       "  </thead>\n",
       "  <tbody>\n",
       "    <tr>\n",
       "      <th>257</th>\n",
       "      <td>Adam Calhoun</td>\n",
       "      <td>['country rap', 'military rap', 'redneck']</td>\n",
       "      <td>1</td>\n",
       "      <td>1</td>\n",
       "      <td>rap</td>\n",
       "    </tr>\n",
       "    <tr>\n",
       "      <th>13913</th>\n",
       "      <td>Rittz</td>\n",
       "      <td>['atl hip hop', 'country rap', 'pop rap', 'southern hip hop']</td>\n",
       "      <td>1</td>\n",
       "      <td>1</td>\n",
       "      <td>rap</td>\n",
       "    </tr>\n",
       "  </tbody>\n",
       "</table>\n",
       "</div>"
      ],
      "text/plain": [
       "            artists  \\\n",
       "257    Adam Calhoun   \n",
       "13913         Rittz   \n",
       "\n",
       "                                                              genres  rap  \\\n",
       "257                       ['country rap', 'military rap', 'redneck']    1   \n",
       "13913  ['atl hip hop', 'country rap', 'pop rap', 'southern hip hop']    1   \n",
       "\n",
       "       country clean_genres  \n",
       "257          1          rap  \n",
       "13913        1          rap  "
      ]
     },
     "execution_count": 19,
     "metadata": {},
     "output_type": "execute_result"
    }
   ],
   "source": [
    "df[\n",
    "    (df['country'] >= 1) & (df['rap'] >= 1) &\n",
    "    ((df['country'] == df['rap']))\n",
    "    ][['artists','genres', 'rap', \"country\", 'clean_genres']].sort_values(by=['rap'], ascending=False)"
   ]
  },
  {
   "cell_type": "code",
   "execution_count": 20,
   "metadata": {},
   "outputs": [
    {
     "data": {
      "text/html": [
       "<div>\n",
       "<style scoped>\n",
       "    .dataframe tbody tr th:only-of-type {\n",
       "        vertical-align: middle;\n",
       "    }\n",
       "\n",
       "    .dataframe tbody tr th {\n",
       "        vertical-align: top;\n",
       "    }\n",
       "\n",
       "    .dataframe thead th {\n",
       "        text-align: right;\n",
       "    }\n",
       "</style>\n",
       "<table border=\"1\" class=\"dataframe\">\n",
       "  <thead>\n",
       "    <tr style=\"text-align: right;\">\n",
       "      <th></th>\n",
       "      <th>artists</th>\n",
       "      <th>genres</th>\n",
       "      <th>rap</th>\n",
       "      <th>jazz</th>\n",
       "      <th>clean_genres</th>\n",
       "    </tr>\n",
       "  </thead>\n",
       "  <tbody>\n",
       "    <tr>\n",
       "      <th>17827</th>\n",
       "      <td>Us3</td>\n",
       "      <td>['electronica', 'jazz rap', 'nu jazz']</td>\n",
       "      <td>1</td>\n",
       "      <td>1</td>\n",
       "      <td>rap</td>\n",
       "    </tr>\n",
       "  </tbody>\n",
       "</table>\n",
       "</div>"
      ],
      "text/plain": [
       "      artists                                  genres  rap  jazz clean_genres\n",
       "17827     Us3  ['electronica', 'jazz rap', 'nu jazz']    1     1          rap"
      ]
     },
     "execution_count": 20,
     "metadata": {},
     "output_type": "execute_result"
    }
   ],
   "source": [
    "df[\n",
    "    (df['jazz'] >= 1) & (df['rap'] >= 1) &\n",
    "    ((df['jazz'] == df['rap']))\n",
    "    ][['artists','genres', 'rap', \"jazz\", 'clean_genres']].sort_values(by=['rap'], ascending=False)"
   ]
  },
  {
   "cell_type": "code",
   "execution_count": 21,
   "metadata": {},
   "outputs": [
    {
     "data": {
      "text/html": [
       "<div>\n",
       "<style scoped>\n",
       "    .dataframe tbody tr th:only-of-type {\n",
       "        vertical-align: middle;\n",
       "    }\n",
       "\n",
       "    .dataframe tbody tr th {\n",
       "        vertical-align: top;\n",
       "    }\n",
       "\n",
       "    .dataframe thead th {\n",
       "        text-align: right;\n",
       "    }\n",
       "</style>\n",
       "<table border=\"1\" class=\"dataframe\">\n",
       "  <thead>\n",
       "    <tr style=\"text-align: right;\">\n",
       "      <th></th>\n",
       "      <th>artists</th>\n",
       "      <th>genres</th>\n",
       "      <th>country</th>\n",
       "      <th>jazz</th>\n",
       "      <th>clean_genres</th>\n",
       "    </tr>\n",
       "  </thead>\n",
       "  <tbody>\n",
       "    <tr>\n",
       "      <th>2016</th>\n",
       "      <td>Blood, Sweat &amp; Tears</td>\n",
       "      <td>['album rock', 'art rock', 'blues rock', 'brill building pop', 'classic rock', 'country rock', '...</td>\n",
       "      <td>1</td>\n",
       "      <td>1</td>\n",
       "      <td>country</td>\n",
       "    </tr>\n",
       "    <tr>\n",
       "      <th>4641</th>\n",
       "      <td>Dr. John</td>\n",
       "      <td>['blues', 'blues rock', 'classic rock', 'country rock', 'electric blues', 'folk rock', 'funk', '...</td>\n",
       "      <td>1</td>\n",
       "      <td>1</td>\n",
       "      <td>country</td>\n",
       "    </tr>\n",
       "    <tr>\n",
       "      <th>7858</th>\n",
       "      <td>Jeff Beck</td>\n",
       "      <td>['album rock', 'art rock', 'blues', 'blues rock', 'british blues', 'classic rock', 'country rock...</td>\n",
       "      <td>1</td>\n",
       "      <td>1</td>\n",
       "      <td>country</td>\n",
       "    </tr>\n",
       "    <tr>\n",
       "      <th>9923</th>\n",
       "      <td>Lonnie Johnson</td>\n",
       "      <td>['acoustic blues', 'blues', 'country blues', 'jazz blues', 'louisiana blues', 'memphis blues', '...</td>\n",
       "      <td>1</td>\n",
       "      <td>1</td>\n",
       "      <td>country</td>\n",
       "    </tr>\n",
       "  </tbody>\n",
       "</table>\n",
       "</div>"
      ],
      "text/plain": [
       "                   artists  \\\n",
       "2016  Blood, Sweat & Tears   \n",
       "4641              Dr. John   \n",
       "7858             Jeff Beck   \n",
       "9923        Lonnie Johnson   \n",
       "\n",
       "                                                                                                   genres  \\\n",
       "2016  ['album rock', 'art rock', 'blues rock', 'brill building pop', 'classic rock', 'country rock', '...   \n",
       "4641  ['blues', 'blues rock', 'classic rock', 'country rock', 'electric blues', 'folk rock', 'funk', '...   \n",
       "7858  ['album rock', 'art rock', 'blues', 'blues rock', 'british blues', 'classic rock', 'country rock...   \n",
       "9923  ['acoustic blues', 'blues', 'country blues', 'jazz blues', 'louisiana blues', 'memphis blues', '...   \n",
       "\n",
       "      country  jazz clean_genres  \n",
       "2016        1     1      country  \n",
       "4641        1     1      country  \n",
       "7858        1     1      country  \n",
       "9923        1     1      country  "
      ]
     },
     "execution_count": 21,
     "metadata": {},
     "output_type": "execute_result"
    }
   ],
   "source": [
    "df[\n",
    "    (df['jazz'] >= 1) & (df['country'] >= 1) &\n",
    "    ((df['jazz'] == df['country']))\n",
    "    ][['artists','genres', 'country', \"jazz\", 'clean_genres']].sort_values(by=['country'], ascending=False)"
   ]
  },
  {
   "cell_type": "code",
   "execution_count": 22,
   "metadata": {},
   "outputs": [
    {
     "data": {
      "text/html": [
       "<div>\n",
       "<style scoped>\n",
       "    .dataframe tbody tr th:only-of-type {\n",
       "        vertical-align: middle;\n",
       "    }\n",
       "\n",
       "    .dataframe tbody tr th {\n",
       "        vertical-align: top;\n",
       "    }\n",
       "\n",
       "    .dataframe thead th {\n",
       "        text-align: right;\n",
       "    }\n",
       "</style>\n",
       "<table border=\"1\" class=\"dataframe\">\n",
       "  <thead>\n",
       "    <tr style=\"text-align: right;\">\n",
       "      <th></th>\n",
       "      <th>artists</th>\n",
       "      <th>genres</th>\n",
       "      <th>classical</th>\n",
       "      <th>jazz</th>\n",
       "      <th>clean_genres</th>\n",
       "    </tr>\n",
       "  </thead>\n",
       "  <tbody>\n",
       "    <tr>\n",
       "      <th>4954</th>\n",
       "      <td>Egberto Gismonti</td>\n",
       "      <td>['bossa nova', 'brazilian contemporary classical', 'brazilian jazz', 'ecm-style jazz', 'latin cl...</td>\n",
       "      <td>2</td>\n",
       "      <td>2</td>\n",
       "      <td>classical</td>\n",
       "    </tr>\n",
       "    <tr>\n",
       "      <th>938</th>\n",
       "      <td>Anja Lechner</td>\n",
       "      <td>['classical cello', 'ecm-style jazz']</td>\n",
       "      <td>1</td>\n",
       "      <td>1</td>\n",
       "      <td>classical</td>\n",
       "    </tr>\n",
       "    <tr>\n",
       "      <th>1677</th>\n",
       "      <td>Benny Andersson</td>\n",
       "      <td>['classic swedish pop', 'neo-classical', 'swedish jazz']</td>\n",
       "      <td>1</td>\n",
       "      <td>1</td>\n",
       "      <td>classical</td>\n",
       "    </tr>\n",
       "    <tr>\n",
       "      <th>8049</th>\n",
       "      <td>Jimmy Hamilton</td>\n",
       "      <td>['classical clarinet', 'jazz clarinet']</td>\n",
       "      <td>1</td>\n",
       "      <td>1</td>\n",
       "      <td>classical</td>\n",
       "    </tr>\n",
       "    <tr>\n",
       "      <th>9799</th>\n",
       "      <td>Liquid Tension Experiment</td>\n",
       "      <td>['instrumental rock', 'jazz metal', 'neo classical metal', 'progressive metal', 'shred']</td>\n",
       "      <td>1</td>\n",
       "      <td>1</td>\n",
       "      <td>classical</td>\n",
       "    </tr>\n",
       "    <tr>\n",
       "      <th>11796</th>\n",
       "      <td>Münir Nurettin Selçuk</td>\n",
       "      <td>['turkish classical', 'turkish jazz']</td>\n",
       "      <td>1</td>\n",
       "      <td>1</td>\n",
       "      <td>classical</td>\n",
       "    </tr>\n",
       "    <tr>\n",
       "      <th>14401</th>\n",
       "      <td>Safiye Ayla</td>\n",
       "      <td>['turkish classical', 'turkish jazz']</td>\n",
       "      <td>1</td>\n",
       "      <td>1</td>\n",
       "      <td>classical</td>\n",
       "    </tr>\n",
       "    <tr>\n",
       "      <th>15537</th>\n",
       "      <td>Steve Morse</td>\n",
       "      <td>['instrumental rock', 'jazz fusion', 'neo classical metal', 'shred']</td>\n",
       "      <td>1</td>\n",
       "      <td>1</td>\n",
       "      <td>classical</td>\n",
       "    </tr>\n",
       "    <tr>\n",
       "      <th>16049</th>\n",
       "      <td>Tension</td>\n",
       "      <td>['instrumental rock', 'jazz metal', 'neo classical metal', 'progressive metal', 'shred']</td>\n",
       "      <td>1</td>\n",
       "      <td>1</td>\n",
       "      <td>classical</td>\n",
       "    </tr>\n",
       "  </tbody>\n",
       "</table>\n",
       "</div>"
      ],
      "text/plain": [
       "                         artists  \\\n",
       "4954            Egberto Gismonti   \n",
       "938                 Anja Lechner   \n",
       "1677             Benny Andersson   \n",
       "8049              Jimmy Hamilton   \n",
       "9799   Liquid Tension Experiment   \n",
       "11796      Münir Nurettin Selçuk   \n",
       "14401                Safiye Ayla   \n",
       "15537                Steve Morse   \n",
       "16049                    Tension   \n",
       "\n",
       "                                                                                                    genres  \\\n",
       "4954   ['bossa nova', 'brazilian contemporary classical', 'brazilian jazz', 'ecm-style jazz', 'latin cl...   \n",
       "938                                                                  ['classical cello', 'ecm-style jazz']   \n",
       "1677                                              ['classic swedish pop', 'neo-classical', 'swedish jazz']   \n",
       "8049                                                               ['classical clarinet', 'jazz clarinet']   \n",
       "9799              ['instrumental rock', 'jazz metal', 'neo classical metal', 'progressive metal', 'shred']   \n",
       "11796                                                                ['turkish classical', 'turkish jazz']   \n",
       "14401                                                                ['turkish classical', 'turkish jazz']   \n",
       "15537                                 ['instrumental rock', 'jazz fusion', 'neo classical metal', 'shred']   \n",
       "16049             ['instrumental rock', 'jazz metal', 'neo classical metal', 'progressive metal', 'shred']   \n",
       "\n",
       "       classical  jazz clean_genres  \n",
       "4954           2     2    classical  \n",
       "938            1     1    classical  \n",
       "1677           1     1    classical  \n",
       "8049           1     1    classical  \n",
       "9799           1     1    classical  \n",
       "11796          1     1    classical  \n",
       "14401          1     1    classical  \n",
       "15537          1     1    classical  \n",
       "16049          1     1    classical  "
      ]
     },
     "execution_count": 22,
     "metadata": {},
     "output_type": "execute_result"
    }
   ],
   "source": [
    "df[\n",
    "    (df['jazz'] >= 1) & (df['classical'] >= 1) &\n",
    "    ((df['jazz'] == df['classical']))\n",
    "    ][['artists','genres', 'classical', \"jazz\", 'clean_genres']].sort_values(by=['classical'], ascending=False)"
   ]
  },
  {
   "cell_type": "code",
   "execution_count": 23,
   "metadata": {
    "scrolled": true
   },
   "outputs": [
    {
     "name": "stderr",
     "output_type": "stream",
     "text": [
      "<ipython-input-23-030fec7978d1>:1: SettingWithCopyWarning: \n",
      "A value is trying to be set on a copy of a slice from a DataFrame\n",
      "\n",
      "See the caveats in the documentation: https://pandas.pydata.org/pandas-docs/stable/user_guide/indexing.html#returning-a-view-versus-a-copy\n",
      "  df['clean_genres'][257] = \"country\"\n",
      "<ipython-input-23-030fec7978d1>:2: SettingWithCopyWarning: \n",
      "A value is trying to be set on a copy of a slice from a DataFrame\n",
      "\n",
      "See the caveats in the documentation: https://pandas.pydata.org/pandas-docs/stable/user_guide/indexing.html#returning-a-view-versus-a-copy\n",
      "  df['clean_genres'][13913] = \"rap\"\n",
      "<ipython-input-23-030fec7978d1>:3: SettingWithCopyWarning: \n",
      "A value is trying to be set on a copy of a slice from a DataFrame\n",
      "\n",
      "See the caveats in the documentation: https://pandas.pydata.org/pandas-docs/stable/user_guide/indexing.html#returning-a-view-versus-a-copy\n",
      "  df['clean_genres'][17827] = \"rap\"\n",
      "<ipython-input-23-030fec7978d1>:4: SettingWithCopyWarning: \n",
      "A value is trying to be set on a copy of a slice from a DataFrame\n",
      "\n",
      "See the caveats in the documentation: https://pandas.pydata.org/pandas-docs/stable/user_guide/indexing.html#returning-a-view-versus-a-copy\n",
      "  df['clean_genres'][2016] = \"country\"\n",
      "<ipython-input-23-030fec7978d1>:5: SettingWithCopyWarning: \n",
      "A value is trying to be set on a copy of a slice from a DataFrame\n",
      "\n",
      "See the caveats in the documentation: https://pandas.pydata.org/pandas-docs/stable/user_guide/indexing.html#returning-a-view-versus-a-copy\n",
      "  df['clean_genres'][4641] = \"jazz\"\n",
      "<ipython-input-23-030fec7978d1>:6: SettingWithCopyWarning: \n",
      "A value is trying to be set on a copy of a slice from a DataFrame\n",
      "\n",
      "See the caveats in the documentation: https://pandas.pydata.org/pandas-docs/stable/user_guide/indexing.html#returning-a-view-versus-a-copy\n",
      "  df['clean_genres'][7858] = \"jazz\"\n",
      "<ipython-input-23-030fec7978d1>:7: SettingWithCopyWarning: \n",
      "A value is trying to be set on a copy of a slice from a DataFrame\n",
      "\n",
      "See the caveats in the documentation: https://pandas.pydata.org/pandas-docs/stable/user_guide/indexing.html#returning-a-view-versus-a-copy\n",
      "  df['clean_genres'][9923] = \"jazz\"\n",
      "<ipython-input-23-030fec7978d1>:8: SettingWithCopyWarning: \n",
      "A value is trying to be set on a copy of a slice from a DataFrame\n",
      "\n",
      "See the caveats in the documentation: https://pandas.pydata.org/pandas-docs/stable/user_guide/indexing.html#returning-a-view-versus-a-copy\n",
      "  df['clean_genres'][4954] = \"jazz\"\n",
      "<ipython-input-23-030fec7978d1>:9: SettingWithCopyWarning: \n",
      "A value is trying to be set on a copy of a slice from a DataFrame\n",
      "\n",
      "See the caveats in the documentation: https://pandas.pydata.org/pandas-docs/stable/user_guide/indexing.html#returning-a-view-versus-a-copy\n",
      "  df['clean_genres'][938] = \"classical\"\n",
      "<ipython-input-23-030fec7978d1>:10: SettingWithCopyWarning: \n",
      "A value is trying to be set on a copy of a slice from a DataFrame\n",
      "\n",
      "See the caveats in the documentation: https://pandas.pydata.org/pandas-docs/stable/user_guide/indexing.html#returning-a-view-versus-a-copy\n",
      "  df['clean_genres'][1677] = \"classical\"\n",
      "<ipython-input-23-030fec7978d1>:11: SettingWithCopyWarning: \n",
      "A value is trying to be set on a copy of a slice from a DataFrame\n",
      "\n",
      "See the caveats in the documentation: https://pandas.pydata.org/pandas-docs/stable/user_guide/indexing.html#returning-a-view-versus-a-copy\n",
      "  df['clean_genres'][8049] = \"jazz\"\n",
      "<ipython-input-23-030fec7978d1>:12: SettingWithCopyWarning: \n",
      "A value is trying to be set on a copy of a slice from a DataFrame\n",
      "\n",
      "See the caveats in the documentation: https://pandas.pydata.org/pandas-docs/stable/user_guide/indexing.html#returning-a-view-versus-a-copy\n",
      "  df['clean_genres'][9799] = \"jazz\"\n",
      "<ipython-input-23-030fec7978d1>:13: SettingWithCopyWarning: \n",
      "A value is trying to be set on a copy of a slice from a DataFrame\n",
      "\n",
      "See the caveats in the documentation: https://pandas.pydata.org/pandas-docs/stable/user_guide/indexing.html#returning-a-view-versus-a-copy\n",
      "  df['clean_genres'][11796] = \"classical\"\n",
      "<ipython-input-23-030fec7978d1>:14: SettingWithCopyWarning: \n",
      "A value is trying to be set on a copy of a slice from a DataFrame\n",
      "\n",
      "See the caveats in the documentation: https://pandas.pydata.org/pandas-docs/stable/user_guide/indexing.html#returning-a-view-versus-a-copy\n",
      "  df['clean_genres'][14401] = \"classical\"\n",
      "<ipython-input-23-030fec7978d1>:15: SettingWithCopyWarning: \n",
      "A value is trying to be set on a copy of a slice from a DataFrame\n",
      "\n",
      "See the caveats in the documentation: https://pandas.pydata.org/pandas-docs/stable/user_guide/indexing.html#returning-a-view-versus-a-copy\n",
      "  df['clean_genres'][15537] = \"jazz\"\n",
      "<ipython-input-23-030fec7978d1>:16: SettingWithCopyWarning: \n",
      "A value is trying to be set on a copy of a slice from a DataFrame\n",
      "\n",
      "See the caveats in the documentation: https://pandas.pydata.org/pandas-docs/stable/user_guide/indexing.html#returning-a-view-versus-a-copy\n",
      "  df['clean_genres'][16049] = \"jazz\"\n"
     ]
    }
   ],
   "source": [
    "df['clean_genres'][257] = \"country\"\n",
    "df['clean_genres'][13913] = \"rap\"\n",
    "df['clean_genres'][17827] = \"rap\"\n",
    "df['clean_genres'][2016] = \"country\"\n",
    "df['clean_genres'][4641] = \"jazz\"\n",
    "df['clean_genres'][7858] = \"jazz\"\n",
    "df['clean_genres'][9923] = \"jazz\"\n",
    "df['clean_genres'][4954] = \"jazz\"\n",
    "df['clean_genres'][938] = \"classical\"\n",
    "df['clean_genres'][1677] = \"classical\"\n",
    "df['clean_genres'][8049] = \"jazz\"\n",
    "df['clean_genres'][9799] = \"jazz\"\n",
    "df['clean_genres'][11796] = \"classical\"\n",
    "df['clean_genres'][14401] = \"classical\"\n",
    "df['clean_genres'][15537] = \"jazz\"\n",
    "df['clean_genres'][16049] = \"jazz\""
   ]
  },
  {
   "cell_type": "code",
   "execution_count": 24,
   "metadata": {},
   "outputs": [
    {
     "data": {
      "text/plain": [
       "classical    1226\n",
       "jazz         1172\n",
       "rap          1132\n",
       "country      1005\n",
       "Name: clean_genres, dtype: int64"
      ]
     },
     "execution_count": 24,
     "metadata": {},
     "output_type": "execute_result"
    }
   ],
   "source": [
    "df['clean_genres'].value_counts()"
   ]
  },
  {
   "cell_type": "code",
   "execution_count": 25,
   "metadata": {},
   "outputs": [
    {
     "data": {
      "text/plain": [
       "(1012, 21)"
      ]
     },
     "execution_count": 25,
     "metadata": {},
     "output_type": "execute_result"
    }
   ],
   "source": [
    "df[df.country > 0 ].shape"
   ]
  },
  {
   "cell_type": "code",
   "execution_count": 26,
   "metadata": {},
   "outputs": [
    {
     "data": {
      "text/plain": [
       "(1135, 21)"
      ]
     },
     "execution_count": 26,
     "metadata": {},
     "output_type": "execute_result"
    }
   ],
   "source": [
    "df[df.rap > 0 ].shape"
   ]
  },
  {
   "cell_type": "code",
   "execution_count": 27,
   "metadata": {},
   "outputs": [],
   "source": [
    "df['duration_sec'] = round(df['duration_ms']/1000,2)"
   ]
  },
  {
   "cell_type": "markdown",
   "metadata": {},
   "source": [
    "## Basic EDA"
   ]
  },
  {
   "cell_type": "code",
   "execution_count": 28,
   "metadata": {},
   "outputs": [
    {
     "data": {
      "text/plain": [
       "classical    1226\n",
       "jazz         1172\n",
       "rap          1132\n",
       "country      1005\n",
       "Name: clean_genres, dtype: int64"
      ]
     },
     "execution_count": 28,
     "metadata": {},
     "output_type": "execute_result"
    }
   ],
   "source": [
    "df.clean_genres.value_counts()"
   ]
  },
  {
   "cell_type": "code",
   "execution_count": 29,
   "metadata": {},
   "outputs": [],
   "source": [
    "genres_df = df.copy()"
   ]
  },
  {
   "cell_type": "code",
   "execution_count": 30,
   "metadata": {},
   "outputs": [],
   "source": [
    "genres_df.reset_index(inplace=True)"
   ]
  },
  {
   "cell_type": "code",
   "execution_count": 31,
   "metadata": {},
   "outputs": [],
   "source": [
    "genres_df = genres_df.drop('index', axis=1)"
   ]
  },
  {
   "cell_type": "code",
   "execution_count": 32,
   "metadata": {
    "scrolled": true
   },
   "outputs": [],
   "source": [
    "## dropped count because it is the count of songs that the artist has in the dataset\n",
    "genres_df.drop('count', axis=1, inplace=True)"
   ]
  },
  {
   "cell_type": "code",
   "execution_count": 33,
   "metadata": {},
   "outputs": [
    {
     "data": {
      "text/html": [
       "<div>\n",
       "<style scoped>\n",
       "    .dataframe tbody tr th:only-of-type {\n",
       "        vertical-align: middle;\n",
       "    }\n",
       "\n",
       "    .dataframe tbody tr th {\n",
       "        vertical-align: top;\n",
       "    }\n",
       "\n",
       "    .dataframe thead th {\n",
       "        text-align: right;\n",
       "    }\n",
       "</style>\n",
       "<table border=\"1\" class=\"dataframe\">\n",
       "  <thead>\n",
       "    <tr style=\"text-align: right;\">\n",
       "      <th></th>\n",
       "      <th>artists</th>\n",
       "      <th>acousticness</th>\n",
       "      <th>danceability</th>\n",
       "      <th>duration_ms</th>\n",
       "      <th>energy</th>\n",
       "      <th>instrumentalness</th>\n",
       "      <th>liveness</th>\n",
       "      <th>loudness</th>\n",
       "      <th>speechiness</th>\n",
       "      <th>tempo</th>\n",
       "      <th>valence</th>\n",
       "      <th>popularity</th>\n",
       "      <th>key</th>\n",
       "      <th>mode</th>\n",
       "      <th>genres</th>\n",
       "      <th>rap</th>\n",
       "      <th>country</th>\n",
       "      <th>classical</th>\n",
       "      <th>jazz</th>\n",
       "      <th>clean_genres</th>\n",
       "      <th>duration_sec</th>\n",
       "    </tr>\n",
       "  </thead>\n",
       "  <tbody>\n",
       "    <tr>\n",
       "      <th>0</th>\n",
       "      <td>$NOT</td>\n",
       "      <td>0.458167</td>\n",
       "      <td>0.826667</td>\n",
       "      <td>146886.333333</td>\n",
       "      <td>0.518667</td>\n",
       "      <td>7.108333e-06</td>\n",
       "      <td>0.201683</td>\n",
       "      <td>-8.713167</td>\n",
       "      <td>0.272550</td>\n",
       "      <td>90.728833</td>\n",
       "      <td>0.426750</td>\n",
       "      <td>74.166667</td>\n",
       "      <td>0</td>\n",
       "      <td>1</td>\n",
       "      <td>['florida rap', 'underground hip hop', 'vapor trap']</td>\n",
       "      <td>1</td>\n",
       "      <td>0</td>\n",
       "      <td>0</td>\n",
       "      <td>0</td>\n",
       "      <td>rap</td>\n",
       "      <td>146.89</td>\n",
       "    </tr>\n",
       "    <tr>\n",
       "      <th>1</th>\n",
       "      <td>$atori Zoom</td>\n",
       "      <td>0.239000</td>\n",
       "      <td>0.883000</td>\n",
       "      <td>141519.000000</td>\n",
       "      <td>0.625000</td>\n",
       "      <td>0.000000e+00</td>\n",
       "      <td>0.076500</td>\n",
       "      <td>-4.098000</td>\n",
       "      <td>0.245000</td>\n",
       "      <td>126.677000</td>\n",
       "      <td>0.871000</td>\n",
       "      <td>69.000000</td>\n",
       "      <td>6</td>\n",
       "      <td>1</td>\n",
       "      <td>['dark trap', 'meme rap']</td>\n",
       "      <td>1</td>\n",
       "      <td>0</td>\n",
       "      <td>0</td>\n",
       "      <td>0</td>\n",
       "      <td>rap</td>\n",
       "      <td>141.52</td>\n",
       "    </tr>\n",
       "    <tr>\n",
       "      <th>2</th>\n",
       "      <td>$uicideBoy$</td>\n",
       "      <td>0.154637</td>\n",
       "      <td>0.778551</td>\n",
       "      <td>149915.289855</td>\n",
       "      <td>0.625870</td>\n",
       "      <td>2.472048e-02</td>\n",
       "      <td>0.209223</td>\n",
       "      <td>-6.553899</td>\n",
       "      <td>0.149986</td>\n",
       "      <td>117.679087</td>\n",
       "      <td>0.242772</td>\n",
       "      <td>65.333333</td>\n",
       "      <td>1</td>\n",
       "      <td>1</td>\n",
       "      <td>['dark trap', 'new orleans rap', 'underground hip hop']</td>\n",
       "      <td>1</td>\n",
       "      <td>0</td>\n",
       "      <td>0</td>\n",
       "      <td>0</td>\n",
       "      <td>rap</td>\n",
       "      <td>149.92</td>\n",
       "    </tr>\n",
       "    <tr>\n",
       "      <th>3</th>\n",
       "      <td>03 Greedo</td>\n",
       "      <td>0.144920</td>\n",
       "      <td>0.644600</td>\n",
       "      <td>244528.800000</td>\n",
       "      <td>0.526000</td>\n",
       "      <td>8.000000e-07</td>\n",
       "      <td>0.104660</td>\n",
       "      <td>-9.282200</td>\n",
       "      <td>0.066560</td>\n",
       "      <td>83.897800</td>\n",
       "      <td>0.356800</td>\n",
       "      <td>66.000000</td>\n",
       "      <td>3</td>\n",
       "      <td>0</td>\n",
       "      <td>['cali rap', 'melodic rap', 'trap', 'underground hip hop', 'vapor trap']</td>\n",
       "      <td>2</td>\n",
       "      <td>0</td>\n",
       "      <td>0</td>\n",
       "      <td>0</td>\n",
       "      <td>rap</td>\n",
       "      <td>244.53</td>\n",
       "    </tr>\n",
       "    <tr>\n",
       "      <th>4</th>\n",
       "      <td>070 Shake</td>\n",
       "      <td>0.011400</td>\n",
       "      <td>0.696000</td>\n",
       "      <td>398106.000000</td>\n",
       "      <td>0.667000</td>\n",
       "      <td>0.000000e+00</td>\n",
       "      <td>0.181000</td>\n",
       "      <td>-7.665000</td>\n",
       "      <td>0.040700</td>\n",
       "      <td>121.932000</td>\n",
       "      <td>0.287000</td>\n",
       "      <td>62.000000</td>\n",
       "      <td>0</td>\n",
       "      <td>0</td>\n",
       "      <td>['alternative r&amp;b', 'new jersey rap']</td>\n",
       "      <td>1</td>\n",
       "      <td>0</td>\n",
       "      <td>0</td>\n",
       "      <td>0</td>\n",
       "      <td>rap</td>\n",
       "      <td>398.11</td>\n",
       "    </tr>\n",
       "    <tr>\n",
       "      <th>...</th>\n",
       "      <td>...</td>\n",
       "      <td>...</td>\n",
       "      <td>...</td>\n",
       "      <td>...</td>\n",
       "      <td>...</td>\n",
       "      <td>...</td>\n",
       "      <td>...</td>\n",
       "      <td>...</td>\n",
       "      <td>...</td>\n",
       "      <td>...</td>\n",
       "      <td>...</td>\n",
       "      <td>...</td>\n",
       "      <td>...</td>\n",
       "      <td>...</td>\n",
       "      <td>...</td>\n",
       "      <td>...</td>\n",
       "      <td>...</td>\n",
       "      <td>...</td>\n",
       "      <td>...</td>\n",
       "      <td>...</td>\n",
       "      <td>...</td>\n",
       "    </tr>\n",
       "    <tr>\n",
       "      <th>4530</th>\n",
       "      <td>セキトオ・シゲオ</td>\n",
       "      <td>0.611615</td>\n",
       "      <td>0.425692</td>\n",
       "      <td>235317.538462</td>\n",
       "      <td>0.297062</td>\n",
       "      <td>4.252538e-01</td>\n",
       "      <td>0.091523</td>\n",
       "      <td>-13.489231</td>\n",
       "      <td>0.033900</td>\n",
       "      <td>124.615000</td>\n",
       "      <td>0.312800</td>\n",
       "      <td>31.153846</td>\n",
       "      <td>9</td>\n",
       "      <td>1</td>\n",
       "      <td>['classic japanese jazz']</td>\n",
       "      <td>0</td>\n",
       "      <td>0</td>\n",
       "      <td>0</td>\n",
       "      <td>1</td>\n",
       "      <td>jazz</td>\n",
       "      <td>235.32</td>\n",
       "    </tr>\n",
       "    <tr>\n",
       "      <th>4531</th>\n",
       "      <td>猪俣猛</td>\n",
       "      <td>0.870000</td>\n",
       "      <td>0.457000</td>\n",
       "      <td>395067.000000</td>\n",
       "      <td>0.115000</td>\n",
       "      <td>8.150000e-01</td>\n",
       "      <td>0.082400</td>\n",
       "      <td>-27.753000</td>\n",
       "      <td>0.061000</td>\n",
       "      <td>92.571000</td>\n",
       "      <td>0.162000</td>\n",
       "      <td>27.000000</td>\n",
       "      <td>1</td>\n",
       "      <td>1</td>\n",
       "      <td>['classic japanese jazz']</td>\n",
       "      <td>0</td>\n",
       "      <td>0</td>\n",
       "      <td>0</td>\n",
       "      <td>1</td>\n",
       "      <td>jazz</td>\n",
       "      <td>395.07</td>\n",
       "    </tr>\n",
       "    <tr>\n",
       "      <th>4532</th>\n",
       "      <td>福居良</td>\n",
       "      <td>0.782500</td>\n",
       "      <td>0.463167</td>\n",
       "      <td>413395.666667</td>\n",
       "      <td>0.371000</td>\n",
       "      <td>3.808683e-01</td>\n",
       "      <td>0.163417</td>\n",
       "      <td>-12.028500</td>\n",
       "      <td>0.037417</td>\n",
       "      <td>97.863500</td>\n",
       "      <td>0.265217</td>\n",
       "      <td>42.166667</td>\n",
       "      <td>7</td>\n",
       "      <td>0</td>\n",
       "      <td>['classic japanese jazz', 'japanese jazz']</td>\n",
       "      <td>0</td>\n",
       "      <td>0</td>\n",
       "      <td>0</td>\n",
       "      <td>2</td>\n",
       "      <td>jazz</td>\n",
       "      <td>413.40</td>\n",
       "    </tr>\n",
       "    <tr>\n",
       "      <th>4533</th>\n",
       "      <td>笠井 紀美子</td>\n",
       "      <td>0.085600</td>\n",
       "      <td>0.614000</td>\n",
       "      <td>428427.000000</td>\n",
       "      <td>0.761000</td>\n",
       "      <td>6.180000e-01</td>\n",
       "      <td>0.063000</td>\n",
       "      <td>-14.346000</td>\n",
       "      <td>0.047600</td>\n",
       "      <td>122.889000</td>\n",
       "      <td>0.881000</td>\n",
       "      <td>40.000000</td>\n",
       "      <td>8</td>\n",
       "      <td>0</td>\n",
       "      <td>['classic japanese jazz', 'japanese vocal jazz']</td>\n",
       "      <td>0</td>\n",
       "      <td>0</td>\n",
       "      <td>0</td>\n",
       "      <td>2</td>\n",
       "      <td>jazz</td>\n",
       "      <td>428.43</td>\n",
       "    </tr>\n",
       "    <tr>\n",
       "      <th>4534</th>\n",
       "      <td>鈴木 弘</td>\n",
       "      <td>0.350400</td>\n",
       "      <td>0.557000</td>\n",
       "      <td>483925.200000</td>\n",
       "      <td>0.387000</td>\n",
       "      <td>8.468000e-01</td>\n",
       "      <td>0.149160</td>\n",
       "      <td>-13.733600</td>\n",
       "      <td>0.037400</td>\n",
       "      <td>92.183000</td>\n",
       "      <td>0.385800</td>\n",
       "      <td>38.000000</td>\n",
       "      <td>9</td>\n",
       "      <td>1</td>\n",
       "      <td>['classic japanese jazz', 'japanese jazz']</td>\n",
       "      <td>0</td>\n",
       "      <td>0</td>\n",
       "      <td>0</td>\n",
       "      <td>2</td>\n",
       "      <td>jazz</td>\n",
       "      <td>483.93</td>\n",
       "    </tr>\n",
       "  </tbody>\n",
       "</table>\n",
       "<p>4535 rows × 21 columns</p>\n",
       "</div>"
      ],
      "text/plain": [
       "          artists  acousticness  danceability    duration_ms    energy  \\\n",
       "0            $NOT      0.458167      0.826667  146886.333333  0.518667   \n",
       "1     $atori Zoom      0.239000      0.883000  141519.000000  0.625000   \n",
       "2     $uicideBoy$      0.154637      0.778551  149915.289855  0.625870   \n",
       "3       03 Greedo      0.144920      0.644600  244528.800000  0.526000   \n",
       "4       070 Shake      0.011400      0.696000  398106.000000  0.667000   \n",
       "...           ...           ...           ...            ...       ...   \n",
       "4530     セキトオ・シゲオ      0.611615      0.425692  235317.538462  0.297062   \n",
       "4531          猪俣猛      0.870000      0.457000  395067.000000  0.115000   \n",
       "4532          福居良      0.782500      0.463167  413395.666667  0.371000   \n",
       "4533       笠井 紀美子      0.085600      0.614000  428427.000000  0.761000   \n",
       "4534         鈴木 弘      0.350400      0.557000  483925.200000  0.387000   \n",
       "\n",
       "      instrumentalness  liveness   loudness  speechiness       tempo  \\\n",
       "0         7.108333e-06  0.201683  -8.713167     0.272550   90.728833   \n",
       "1         0.000000e+00  0.076500  -4.098000     0.245000  126.677000   \n",
       "2         2.472048e-02  0.209223  -6.553899     0.149986  117.679087   \n",
       "3         8.000000e-07  0.104660  -9.282200     0.066560   83.897800   \n",
       "4         0.000000e+00  0.181000  -7.665000     0.040700  121.932000   \n",
       "...                ...       ...        ...          ...         ...   \n",
       "4530      4.252538e-01  0.091523 -13.489231     0.033900  124.615000   \n",
       "4531      8.150000e-01  0.082400 -27.753000     0.061000   92.571000   \n",
       "4532      3.808683e-01  0.163417 -12.028500     0.037417   97.863500   \n",
       "4533      6.180000e-01  0.063000 -14.346000     0.047600  122.889000   \n",
       "4534      8.468000e-01  0.149160 -13.733600     0.037400   92.183000   \n",
       "\n",
       "       valence  popularity  key  mode  \\\n",
       "0     0.426750   74.166667    0     1   \n",
       "1     0.871000   69.000000    6     1   \n",
       "2     0.242772   65.333333    1     1   \n",
       "3     0.356800   66.000000    3     0   \n",
       "4     0.287000   62.000000    0     0   \n",
       "...        ...         ...  ...   ...   \n",
       "4530  0.312800   31.153846    9     1   \n",
       "4531  0.162000   27.000000    1     1   \n",
       "4532  0.265217   42.166667    7     0   \n",
       "4533  0.881000   40.000000    8     0   \n",
       "4534  0.385800   38.000000    9     1   \n",
       "\n",
       "                                                                        genres  \\\n",
       "0                         ['florida rap', 'underground hip hop', 'vapor trap']   \n",
       "1                                                    ['dark trap', 'meme rap']   \n",
       "2                      ['dark trap', 'new orleans rap', 'underground hip hop']   \n",
       "3     ['cali rap', 'melodic rap', 'trap', 'underground hip hop', 'vapor trap']   \n",
       "4                                        ['alternative r&b', 'new jersey rap']   \n",
       "...                                                                        ...   \n",
       "4530                                                 ['classic japanese jazz']   \n",
       "4531                                                 ['classic japanese jazz']   \n",
       "4532                                ['classic japanese jazz', 'japanese jazz']   \n",
       "4533                          ['classic japanese jazz', 'japanese vocal jazz']   \n",
       "4534                                ['classic japanese jazz', 'japanese jazz']   \n",
       "\n",
       "      rap  country  classical  jazz clean_genres  duration_sec  \n",
       "0       1        0          0     0          rap        146.89  \n",
       "1       1        0          0     0          rap        141.52  \n",
       "2       1        0          0     0          rap        149.92  \n",
       "3       2        0          0     0          rap        244.53  \n",
       "4       1        0          0     0          rap        398.11  \n",
       "...   ...      ...        ...   ...          ...           ...  \n",
       "4530    0        0          0     1         jazz        235.32  \n",
       "4531    0        0          0     1         jazz        395.07  \n",
       "4532    0        0          0     2         jazz        413.40  \n",
       "4533    0        0          0     2         jazz        428.43  \n",
       "4534    0        0          0     2         jazz        483.93  \n",
       "\n",
       "[4535 rows x 21 columns]"
      ]
     },
     "execution_count": 33,
     "metadata": {},
     "output_type": "execute_result"
    }
   ],
   "source": [
    "genres_df"
   ]
  },
  {
   "cell_type": "code",
   "execution_count": 34,
   "metadata": {},
   "outputs": [
    {
     "data": {
      "text/html": [
       "<div>\n",
       "<style scoped>\n",
       "    .dataframe tbody tr th:only-of-type {\n",
       "        vertical-align: middle;\n",
       "    }\n",
       "\n",
       "    .dataframe tbody tr th {\n",
       "        vertical-align: top;\n",
       "    }\n",
       "\n",
       "    .dataframe thead th {\n",
       "        text-align: right;\n",
       "    }\n",
       "</style>\n",
       "<table border=\"1\" class=\"dataframe\">\n",
       "  <thead>\n",
       "    <tr style=\"text-align: right;\">\n",
       "      <th></th>\n",
       "      <th>acousticness</th>\n",
       "      <th>danceability</th>\n",
       "      <th>duration_ms</th>\n",
       "      <th>energy</th>\n",
       "      <th>instrumentalness</th>\n",
       "      <th>liveness</th>\n",
       "      <th>loudness</th>\n",
       "      <th>speechiness</th>\n",
       "      <th>tempo</th>\n",
       "      <th>valence</th>\n",
       "      <th>popularity</th>\n",
       "      <th>key</th>\n",
       "      <th>mode</th>\n",
       "      <th>rap</th>\n",
       "      <th>country</th>\n",
       "      <th>classical</th>\n",
       "      <th>jazz</th>\n",
       "      <th>duration_sec</th>\n",
       "    </tr>\n",
       "  </thead>\n",
       "  <tbody>\n",
       "    <tr>\n",
       "      <th>count</th>\n",
       "      <td>4535.000000</td>\n",
       "      <td>4535.000000</td>\n",
       "      <td>4.535000e+03</td>\n",
       "      <td>4535.000000</td>\n",
       "      <td>4535.000000</td>\n",
       "      <td>4535.000000</td>\n",
       "      <td>4535.000000</td>\n",
       "      <td>4535.000000</td>\n",
       "      <td>4535.000000</td>\n",
       "      <td>4535.000000</td>\n",
       "      <td>4535.000000</td>\n",
       "      <td>4535.000000</td>\n",
       "      <td>4535.000000</td>\n",
       "      <td>4535.000000</td>\n",
       "      <td>4535.000000</td>\n",
       "      <td>4535.000000</td>\n",
       "      <td>4535.000000</td>\n",
       "      <td>4535.000000</td>\n",
       "    </tr>\n",
       "    <tr>\n",
       "      <th>mean</th>\n",
       "      <td>0.520531</td>\n",
       "      <td>0.542850</td>\n",
       "      <td>2.612275e+05</td>\n",
       "      <td>0.450619</td>\n",
       "      <td>0.243755</td>\n",
       "      <td>0.190534</td>\n",
       "      <td>-12.778079</td>\n",
       "      <td>0.093700</td>\n",
       "      <td>113.718717</td>\n",
       "      <td>0.473156</td>\n",
       "      <td>33.117513</td>\n",
       "      <td>5.334950</td>\n",
       "      <td>0.757442</td>\n",
       "      <td>0.385006</td>\n",
       "      <td>0.436384</td>\n",
       "      <td>0.370452</td>\n",
       "      <td>0.530981</td>\n",
       "      <td>261.227385</td>\n",
       "    </tr>\n",
       "    <tr>\n",
       "      <th>std</th>\n",
       "      <td>0.364094</td>\n",
       "      <td>0.186238</td>\n",
       "      <td>1.184078e+05</td>\n",
       "      <td>0.253944</td>\n",
       "      <td>0.331448</td>\n",
       "      <td>0.121381</td>\n",
       "      <td>6.835489</td>\n",
       "      <td>0.094634</td>\n",
       "      <td>22.067439</td>\n",
       "      <td>0.233566</td>\n",
       "      <td>21.060983</td>\n",
       "      <td>3.438482</td>\n",
       "      <td>0.428677</td>\n",
       "      <td>0.773369</td>\n",
       "      <td>1.018509</td>\n",
       "      <td>0.693985</td>\n",
       "      <td>1.248678</td>\n",
       "      <td>118.407736</td>\n",
       "    </tr>\n",
       "    <tr>\n",
       "      <th>min</th>\n",
       "      <td>0.000003</td>\n",
       "      <td>0.062300</td>\n",
       "      <td>3.228767e+04</td>\n",
       "      <td>0.000707</td>\n",
       "      <td>0.000000</td>\n",
       "      <td>0.020800</td>\n",
       "      <td>-44.761000</td>\n",
       "      <td>0.023400</td>\n",
       "      <td>36.970000</td>\n",
       "      <td>0.026600</td>\n",
       "      <td>0.000000</td>\n",
       "      <td>0.000000</td>\n",
       "      <td>0.000000</td>\n",
       "      <td>0.000000</td>\n",
       "      <td>0.000000</td>\n",
       "      <td>0.000000</td>\n",
       "      <td>0.000000</td>\n",
       "      <td>32.290000</td>\n",
       "    </tr>\n",
       "    <tr>\n",
       "      <th>25%</th>\n",
       "      <td>0.155656</td>\n",
       "      <td>0.409793</td>\n",
       "      <td>1.942070e+05</td>\n",
       "      <td>0.220531</td>\n",
       "      <td>0.000025</td>\n",
       "      <td>0.113806</td>\n",
       "      <td>-16.760250</td>\n",
       "      <td>0.040400</td>\n",
       "      <td>99.619733</td>\n",
       "      <td>0.284738</td>\n",
       "      <td>15.500000</td>\n",
       "      <td>2.000000</td>\n",
       "      <td>1.000000</td>\n",
       "      <td>0.000000</td>\n",
       "      <td>0.000000</td>\n",
       "      <td>0.000000</td>\n",
       "      <td>0.000000</td>\n",
       "      <td>194.210000</td>\n",
       "    </tr>\n",
       "    <tr>\n",
       "      <th>50%</th>\n",
       "      <td>0.513333</td>\n",
       "      <td>0.557600</td>\n",
       "      <td>2.381585e+05</td>\n",
       "      <td>0.467500</td>\n",
       "      <td>0.020100</td>\n",
       "      <td>0.158030</td>\n",
       "      <td>-11.356000</td>\n",
       "      <td>0.050745</td>\n",
       "      <td>112.954900</td>\n",
       "      <td>0.497000</td>\n",
       "      <td>35.000000</td>\n",
       "      <td>5.000000</td>\n",
       "      <td>1.000000</td>\n",
       "      <td>0.000000</td>\n",
       "      <td>0.000000</td>\n",
       "      <td>0.000000</td>\n",
       "      <td>0.000000</td>\n",
       "      <td>238.160000</td>\n",
       "    </tr>\n",
       "    <tr>\n",
       "      <th>75%</th>\n",
       "      <td>0.912716</td>\n",
       "      <td>0.679378</td>\n",
       "      <td>2.944865e+05</td>\n",
       "      <td>0.658214</td>\n",
       "      <td>0.477750</td>\n",
       "      <td>0.226000</td>\n",
       "      <td>-7.292500</td>\n",
       "      <td>0.100367</td>\n",
       "      <td>125.869722</td>\n",
       "      <td>0.645000</td>\n",
       "      <td>49.000000</td>\n",
       "      <td>8.000000</td>\n",
       "      <td>1.000000</td>\n",
       "      <td>1.000000</td>\n",
       "      <td>0.000000</td>\n",
       "      <td>1.000000</td>\n",
       "      <td>1.000000</td>\n",
       "      <td>294.485000</td>\n",
       "    </tr>\n",
       "    <tr>\n",
       "      <th>max</th>\n",
       "      <td>0.996000</td>\n",
       "      <td>0.986000</td>\n",
       "      <td>2.043024e+06</td>\n",
       "      <td>0.998000</td>\n",
       "      <td>0.982000</td>\n",
       "      <td>0.965000</td>\n",
       "      <td>-0.062600</td>\n",
       "      <td>0.933000</td>\n",
       "      <td>212.141000</td>\n",
       "      <td>0.976000</td>\n",
       "      <td>82.000000</td>\n",
       "      <td>11.000000</td>\n",
       "      <td>1.000000</td>\n",
       "      <td>5.000000</td>\n",
       "      <td>8.000000</td>\n",
       "      <td>5.000000</td>\n",
       "      <td>12.000000</td>\n",
       "      <td>2043.020000</td>\n",
       "    </tr>\n",
       "  </tbody>\n",
       "</table>\n",
       "</div>"
      ],
      "text/plain": [
       "       acousticness  danceability   duration_ms       energy  \\\n",
       "count   4535.000000   4535.000000  4.535000e+03  4535.000000   \n",
       "mean       0.520531      0.542850  2.612275e+05     0.450619   \n",
       "std        0.364094      0.186238  1.184078e+05     0.253944   \n",
       "min        0.000003      0.062300  3.228767e+04     0.000707   \n",
       "25%        0.155656      0.409793  1.942070e+05     0.220531   \n",
       "50%        0.513333      0.557600  2.381585e+05     0.467500   \n",
       "75%        0.912716      0.679378  2.944865e+05     0.658214   \n",
       "max        0.996000      0.986000  2.043024e+06     0.998000   \n",
       "\n",
       "       instrumentalness     liveness     loudness  speechiness        tempo  \\\n",
       "count       4535.000000  4535.000000  4535.000000  4535.000000  4535.000000   \n",
       "mean           0.243755     0.190534   -12.778079     0.093700   113.718717   \n",
       "std            0.331448     0.121381     6.835489     0.094634    22.067439   \n",
       "min            0.000000     0.020800   -44.761000     0.023400    36.970000   \n",
       "25%            0.000025     0.113806   -16.760250     0.040400    99.619733   \n",
       "50%            0.020100     0.158030   -11.356000     0.050745   112.954900   \n",
       "75%            0.477750     0.226000    -7.292500     0.100367   125.869722   \n",
       "max            0.982000     0.965000    -0.062600     0.933000   212.141000   \n",
       "\n",
       "           valence   popularity          key         mode          rap  \\\n",
       "count  4535.000000  4535.000000  4535.000000  4535.000000  4535.000000   \n",
       "mean      0.473156    33.117513     5.334950     0.757442     0.385006   \n",
       "std       0.233566    21.060983     3.438482     0.428677     0.773369   \n",
       "min       0.026600     0.000000     0.000000     0.000000     0.000000   \n",
       "25%       0.284738    15.500000     2.000000     1.000000     0.000000   \n",
       "50%       0.497000    35.000000     5.000000     1.000000     0.000000   \n",
       "75%       0.645000    49.000000     8.000000     1.000000     1.000000   \n",
       "max       0.976000    82.000000    11.000000     1.000000     5.000000   \n",
       "\n",
       "           country    classical         jazz  duration_sec  \n",
       "count  4535.000000  4535.000000  4535.000000   4535.000000  \n",
       "mean      0.436384     0.370452     0.530981    261.227385  \n",
       "std       1.018509     0.693985     1.248678    118.407736  \n",
       "min       0.000000     0.000000     0.000000     32.290000  \n",
       "25%       0.000000     0.000000     0.000000    194.210000  \n",
       "50%       0.000000     0.000000     0.000000    238.160000  \n",
       "75%       0.000000     1.000000     1.000000    294.485000  \n",
       "max       8.000000     5.000000    12.000000   2043.020000  "
      ]
     },
     "execution_count": 34,
     "metadata": {},
     "output_type": "execute_result"
    }
   ],
   "source": [
    "genres_df.describe()"
   ]
  },
  {
   "cell_type": "code",
   "execution_count": 35,
   "metadata": {},
   "outputs": [
    {
     "data": {
      "text/plain": [
       "classical    1226\n",
       "jazz         1172\n",
       "rap          1132\n",
       "country      1005\n",
       "Name: clean_genres, dtype: int64"
      ]
     },
     "execution_count": 35,
     "metadata": {},
     "output_type": "execute_result"
    }
   ],
   "source": [
    "genres_df['clean_genres'].value_counts()"
   ]
  },
  {
   "cell_type": "code",
   "execution_count": 36,
   "metadata": {},
   "outputs": [
    {
     "data": {
      "image/png": "[encoded data removed]",
      "text/plain": [
       "<Figure size 432x432 with 1 Axes>"
      ]
     },
     "metadata": {},
     "output_type": "display_data"
    }
   ],
   "source": [
    "#number of artists per genre\n",
    "\n",
    "fig, ax = plt.subplots(figsize=(6,6))\n",
    "sns.barplot(x=genres_df.clean_genres.value_counts().index, y=genres_df.clean_genres.value_counts().values);\n",
    "ax.set_ylabel('Artist Counts')\n",
    "ax.set_xlabel('Genre')\n",
    "ax.set_title('# of Artists by Genre');"
   ]
  },
  {
   "cell_type": "code",
   "execution_count": 37,
   "metadata": {},
   "outputs": [
    {
     "data": {
      "image/png": "[encoded data removed]",
      "text/plain": [
       "<Figure size 432x432 with 1 Axes>"
      ]
     },
     "metadata": {},
     "output_type": "display_data"
    }
   ],
   "source": [
    "## distribution of duration by each genre\n",
    "\n",
    "fig, ax = plt.subplots(figsize=(6,6))\n",
    "sns.boxplot(x=genres_df.clean_genres,y=genres_df.duration_sec);"
   ]
  },
  {
   "cell_type": "code",
   "execution_count": 38,
   "metadata": {},
   "outputs": [
    {
     "data": {
      "image/png": "[encoded data removed]",
      "text/plain": [
       "<Figure size 432x432 with 1 Axes>"
      ]
     },
     "metadata": {},
     "output_type": "display_data"
    }
   ],
   "source": [
    "## Mean of duration for each genre\n",
    "fig, ax = plt.subplots(figsize=(6,6))\n",
    "sns.barplot(x=genres_df.groupby('clean_genres')['duration_sec'].mean().index, y=genres_df.groupby('clean_genres')['duration_sec'].mean().values);\n",
    "ax.set_ylabel(\"Duration (Sec)\")\n",
    "ax.set_xlabel(\"Genres\")\n",
    "ax.set_title('Duration by Genre');"
   ]
  },
  {
   "cell_type": "code",
   "execution_count": 39,
   "metadata": {},
   "outputs": [
    {
     "data": {
      "image/png": "[encoded data removed]",
      "text/plain": [
       "<Figure size 432x432 with 1 Axes>"
      ]
     },
     "metadata": {},
     "output_type": "display_data"
    }
   ],
   "source": [
    "## Median of popularity for each genre\n",
    "fig, ax = plt.subplots(figsize=(6,6))\n",
    "sns.barplot(x=genres_df.groupby('clean_genres')['popularity'].median().index, y=genres_df.groupby('clean_genres')['popularity'].median().values);\n",
    "ax.set_ylabel(\"Popularity\")\n",
    "ax.set_xlabel(\"Genres\")\n",
    "ax.set_title('Popularity by Genre');"
   ]
  },
  {
   "cell_type": "code",
   "execution_count": 40,
   "metadata": {},
   "outputs": [
    {
     "data": {
      "image/png": "[encoded data removed]",
      "text/plain": [
       "<Figure size 576x396 with 1 Axes>"
      ]
     },
     "metadata": {},
     "output_type": "display_data"
    },
    {
     "data": {
      "image/png": "[encoded data removed]",
      "text/plain": [
       "<Figure size 576x396 with 1 Axes>"
      ]
     },
     "metadata": {},
     "output_type": "display_data"
    },
    {
     "data": {
      "image/png": "[encoded data removed]",
      "text/plain": [
       "<Figure size 576x396 with 1 Axes>"
      ]
     },
     "metadata": {},
     "output_type": "display_data"
    },
    {
     "data": {
      "image/png": "[encoded data removed]",
      "text/plain": [
       "<Figure size 576x396 with 1 Axes>"
      ]
     },
     "metadata": {},
     "output_type": "display_data"
    }
   ],
   "source": [
    "plot1 = plt.figure(1)\n",
    "sns.histplot(genres_df[genres_df.clean_genres == 'rap'].popularity).set_title(\"Rap Artists Popularity\")\n",
    "\n",
    "plot2 = plt.figure(2)\n",
    "sns.histplot(genres_df[genres_df.clean_genres == 'country'].popularity).set_title(\"Country Artists Popularity\")\n",
    "\n",
    "plot3 = plt.figure(3)\n",
    "sns.histplot(genres_df[genres_df.clean_genres == 'classical'].popularity).set_title(\"Classical Artists Popularity\")\n",
    "\n",
    "plot2 = plt.figure(4)\n",
    "sns.histplot(genres_df[genres_df.clean_genres == 'jazz'].popularity).set_title(\"Jazz Artists Popularity\")\n",
    "\n",
    "plt.show()"
   ]
  },
  {
   "cell_type": "code",
   "execution_count": 41,
   "metadata": {},
   "outputs": [
    {
     "data": {
      "text/plain": [
       "0    1100\n",
       "1    3435\n",
       "Name: mode, dtype: int64"
      ]
     },
     "execution_count": 41,
     "metadata": {},
     "output_type": "execute_result"
    }
   ],
   "source": [
    "df['mode'].value_counts().sort_index()"
   ]
  },
  {
   "cell_type": "code",
   "execution_count": 42,
   "metadata": {},
   "outputs": [
    {
     "data": {
      "text/plain": [
       "0     451\n",
       "1     410\n",
       "2     482\n",
       "3     160\n",
       "4     303\n",
       "5     495\n",
       "6     255\n",
       "7     707\n",
       "8     220\n",
       "9     401\n",
       "10    356\n",
       "11    295\n",
       "Name: key, dtype: int64"
      ]
     },
     "execution_count": 42,
     "metadata": {},
     "output_type": "execute_result"
    }
   ],
   "source": [
    "## dummy data of keys\n",
    "genres_df['key'].value_counts().sort_index()"
   ]
  },
  {
   "cell_type": "code",
   "execution_count": 43,
   "metadata": {},
   "outputs": [],
   "source": [
    "genres_df = pd.get_dummies(data=genres_df,columns=['key'],drop_first=True)"
   ]
  },
  {
   "cell_type": "code",
   "execution_count": 44,
   "metadata": {},
   "outputs": [],
   "source": [
    "conditons = [genres_df['clean_genres'] == 'rap' ,\n",
    "             genres_df['clean_genres'] == 'country',\n",
    "             genres_df['clean_genres'] == 'classical',\n",
    "             genres_df['clean_genres'] == 'jazz'\n",
    "]\n",
    "\n",
    "choices = [0,\n",
    "           1,\n",
    "           2,\n",
    "           3\n",
    "           \n",
    "]\n",
    "\n",
    "genres_df['clean_genres'] = np.select(conditons, choices)"
   ]
  },
  {
   "cell_type": "code",
   "execution_count": 45,
   "metadata": {},
   "outputs": [
    {
     "data": {
      "text/plain": [
       "2    1226\n",
       "3    1172\n",
       "0    1132\n",
       "1    1005\n",
       "Name: clean_genres, dtype: int64"
      ]
     },
     "execution_count": 45,
     "metadata": {},
     "output_type": "execute_result"
    }
   ],
   "source": [
    "genres_df['clean_genres'].value_counts()"
   ]
  },
  {
   "cell_type": "code",
   "execution_count": 46,
   "metadata": {},
   "outputs": [],
   "source": [
    "y = genres_df['clean_genres']\n",
    "artists = genres_df['artists']"
   ]
  },
  {
   "cell_type": "code",
   "execution_count": 47,
   "metadata": {},
   "outputs": [],
   "source": [
    "#Drops the target value from the X df, and also removes multicollierity columns\n",
    "X = genres_df.drop(columns = ['genres','clean_genres','rap','country','classical','jazz', 'duration_ms','artists'])"
   ]
  },
  {
   "cell_type": "code",
   "execution_count": 48,
   "metadata": {},
   "outputs": [
    {
     "data": {
      "text/html": [
       "<div>\n",
       "<style scoped>\n",
       "    .dataframe tbody tr th:only-of-type {\n",
       "        vertical-align: middle;\n",
       "    }\n",
       "\n",
       "    .dataframe tbody tr th {\n",
       "        vertical-align: top;\n",
       "    }\n",
       "\n",
       "    .dataframe thead th {\n",
       "        text-align: right;\n",
       "    }\n",
       "</style>\n",
       "<table border=\"1\" class=\"dataframe\">\n",
       "  <thead>\n",
       "    <tr style=\"text-align: right;\">\n",
       "      <th></th>\n",
       "      <th>acousticness</th>\n",
       "      <th>danceability</th>\n",
       "      <th>energy</th>\n",
       "      <th>instrumentalness</th>\n",
       "      <th>liveness</th>\n",
       "      <th>loudness</th>\n",
       "      <th>speechiness</th>\n",
       "      <th>tempo</th>\n",
       "      <th>valence</th>\n",
       "      <th>popularity</th>\n",
       "      <th>mode</th>\n",
       "      <th>duration_sec</th>\n",
       "      <th>key_1</th>\n",
       "      <th>key_2</th>\n",
       "      <th>key_3</th>\n",
       "      <th>key_4</th>\n",
       "      <th>key_5</th>\n",
       "      <th>key_6</th>\n",
       "      <th>key_7</th>\n",
       "      <th>key_8</th>\n",
       "      <th>key_9</th>\n",
       "      <th>key_10</th>\n",
       "      <th>key_11</th>\n",
       "    </tr>\n",
       "  </thead>\n",
       "  <tbody>\n",
       "    <tr>\n",
       "      <th>0</th>\n",
       "      <td>0.458167</td>\n",
       "      <td>0.826667</td>\n",
       "      <td>0.518667</td>\n",
       "      <td>7.108333e-06</td>\n",
       "      <td>0.201683</td>\n",
       "      <td>-8.713167</td>\n",
       "      <td>0.272550</td>\n",
       "      <td>90.728833</td>\n",
       "      <td>0.426750</td>\n",
       "      <td>74.166667</td>\n",
       "      <td>1</td>\n",
       "      <td>146.89</td>\n",
       "      <td>0</td>\n",
       "      <td>0</td>\n",
       "      <td>0</td>\n",
       "      <td>0</td>\n",
       "      <td>0</td>\n",
       "      <td>0</td>\n",
       "      <td>0</td>\n",
       "      <td>0</td>\n",
       "      <td>0</td>\n",
       "      <td>0</td>\n",
       "      <td>0</td>\n",
       "    </tr>\n",
       "    <tr>\n",
       "      <th>1</th>\n",
       "      <td>0.239000</td>\n",
       "      <td>0.883000</td>\n",
       "      <td>0.625000</td>\n",
       "      <td>0.000000e+00</td>\n",
       "      <td>0.076500</td>\n",
       "      <td>-4.098000</td>\n",
       "      <td>0.245000</td>\n",
       "      <td>126.677000</td>\n",
       "      <td>0.871000</td>\n",
       "      <td>69.000000</td>\n",
       "      <td>1</td>\n",
       "      <td>141.52</td>\n",
       "      <td>0</td>\n",
       "      <td>0</td>\n",
       "      <td>0</td>\n",
       "      <td>0</td>\n",
       "      <td>0</td>\n",
       "      <td>1</td>\n",
       "      <td>0</td>\n",
       "      <td>0</td>\n",
       "      <td>0</td>\n",
       "      <td>0</td>\n",
       "      <td>0</td>\n",
       "    </tr>\n",
       "    <tr>\n",
       "      <th>2</th>\n",
       "      <td>0.154637</td>\n",
       "      <td>0.778551</td>\n",
       "      <td>0.625870</td>\n",
       "      <td>2.472048e-02</td>\n",
       "      <td>0.209223</td>\n",
       "      <td>-6.553899</td>\n",
       "      <td>0.149986</td>\n",
       "      <td>117.679087</td>\n",
       "      <td>0.242772</td>\n",
       "      <td>65.333333</td>\n",
       "      <td>1</td>\n",
       "      <td>149.92</td>\n",
       "      <td>1</td>\n",
       "      <td>0</td>\n",
       "      <td>0</td>\n",
       "      <td>0</td>\n",
       "      <td>0</td>\n",
       "      <td>0</td>\n",
       "      <td>0</td>\n",
       "      <td>0</td>\n",
       "      <td>0</td>\n",
       "      <td>0</td>\n",
       "      <td>0</td>\n",
       "    </tr>\n",
       "    <tr>\n",
       "      <th>3</th>\n",
       "      <td>0.144920</td>\n",
       "      <td>0.644600</td>\n",
       "      <td>0.526000</td>\n",
       "      <td>8.000000e-07</td>\n",
       "      <td>0.104660</td>\n",
       "      <td>-9.282200</td>\n",
       "      <td>0.066560</td>\n",
       "      <td>83.897800</td>\n",
       "      <td>0.356800</td>\n",
       "      <td>66.000000</td>\n",
       "      <td>0</td>\n",
       "      <td>244.53</td>\n",
       "      <td>0</td>\n",
       "      <td>0</td>\n",
       "      <td>1</td>\n",
       "      <td>0</td>\n",
       "      <td>0</td>\n",
       "      <td>0</td>\n",
       "      <td>0</td>\n",
       "      <td>0</td>\n",
       "      <td>0</td>\n",
       "      <td>0</td>\n",
       "      <td>0</td>\n",
       "    </tr>\n",
       "    <tr>\n",
       "      <th>4</th>\n",
       "      <td>0.011400</td>\n",
       "      <td>0.696000</td>\n",
       "      <td>0.667000</td>\n",
       "      <td>0.000000e+00</td>\n",
       "      <td>0.181000</td>\n",
       "      <td>-7.665000</td>\n",
       "      <td>0.040700</td>\n",
       "      <td>121.932000</td>\n",
       "      <td>0.287000</td>\n",
       "      <td>62.000000</td>\n",
       "      <td>0</td>\n",
       "      <td>398.11</td>\n",
       "      <td>0</td>\n",
       "      <td>0</td>\n",
       "      <td>0</td>\n",
       "      <td>0</td>\n",
       "      <td>0</td>\n",
       "      <td>0</td>\n",
       "      <td>0</td>\n",
       "      <td>0</td>\n",
       "      <td>0</td>\n",
       "      <td>0</td>\n",
       "      <td>0</td>\n",
       "    </tr>\n",
       "    <tr>\n",
       "      <th>...</th>\n",
       "      <td>...</td>\n",
       "      <td>...</td>\n",
       "      <td>...</td>\n",
       "      <td>...</td>\n",
       "      <td>...</td>\n",
       "      <td>...</td>\n",
       "      <td>...</td>\n",
       "      <td>...</td>\n",
       "      <td>...</td>\n",
       "      <td>...</td>\n",
       "      <td>...</td>\n",
       "      <td>...</td>\n",
       "      <td>...</td>\n",
       "      <td>...</td>\n",
       "      <td>...</td>\n",
       "      <td>...</td>\n",
       "      <td>...</td>\n",
       "      <td>...</td>\n",
       "      <td>...</td>\n",
       "      <td>...</td>\n",
       "      <td>...</td>\n",
       "      <td>...</td>\n",
       "      <td>...</td>\n",
       "    </tr>\n",
       "    <tr>\n",
       "      <th>4530</th>\n",
       "      <td>0.611615</td>\n",
       "      <td>0.425692</td>\n",
       "      <td>0.297062</td>\n",
       "      <td>4.252538e-01</td>\n",
       "      <td>0.091523</td>\n",
       "      <td>-13.489231</td>\n",
       "      <td>0.033900</td>\n",
       "      <td>124.615000</td>\n",
       "      <td>0.312800</td>\n",
       "      <td>31.153846</td>\n",
       "      <td>1</td>\n",
       "      <td>235.32</td>\n",
       "      <td>0</td>\n",
       "      <td>0</td>\n",
       "      <td>0</td>\n",
       "      <td>0</td>\n",
       "      <td>0</td>\n",
       "      <td>0</td>\n",
       "      <td>0</td>\n",
       "      <td>0</td>\n",
       "      <td>1</td>\n",
       "      <td>0</td>\n",
       "      <td>0</td>\n",
       "    </tr>\n",
       "    <tr>\n",
       "      <th>4531</th>\n",
       "      <td>0.870000</td>\n",
       "      <td>0.457000</td>\n",
       "      <td>0.115000</td>\n",
       "      <td>8.150000e-01</td>\n",
       "      <td>0.082400</td>\n",
       "      <td>-27.753000</td>\n",
       "      <td>0.061000</td>\n",
       "      <td>92.571000</td>\n",
       "      <td>0.162000</td>\n",
       "      <td>27.000000</td>\n",
       "      <td>1</td>\n",
       "      <td>395.07</td>\n",
       "      <td>1</td>\n",
       "      <td>0</td>\n",
       "      <td>0</td>\n",
       "      <td>0</td>\n",
       "      <td>0</td>\n",
       "      <td>0</td>\n",
       "      <td>0</td>\n",
       "      <td>0</td>\n",
       "      <td>0</td>\n",
       "      <td>0</td>\n",
       "      <td>0</td>\n",
       "    </tr>\n",
       "    <tr>\n",
       "      <th>4532</th>\n",
       "      <td>0.782500</td>\n",
       "      <td>0.463167</td>\n",
       "      <td>0.371000</td>\n",
       "      <td>3.808683e-01</td>\n",
       "      <td>0.163417</td>\n",
       "      <td>-12.028500</td>\n",
       "      <td>0.037417</td>\n",
       "      <td>97.863500</td>\n",
       "      <td>0.265217</td>\n",
       "      <td>42.166667</td>\n",
       "      <td>0</td>\n",
       "      <td>413.40</td>\n",
       "      <td>0</td>\n",
       "      <td>0</td>\n",
       "      <td>0</td>\n",
       "      <td>0</td>\n",
       "      <td>0</td>\n",
       "      <td>0</td>\n",
       "      <td>1</td>\n",
       "      <td>0</td>\n",
       "      <td>0</td>\n",
       "      <td>0</td>\n",
       "      <td>0</td>\n",
       "    </tr>\n",
       "    <tr>\n",
       "      <th>4533</th>\n",
       "      <td>0.085600</td>\n",
       "      <td>0.614000</td>\n",
       "      <td>0.761000</td>\n",
       "      <td>6.180000e-01</td>\n",
       "      <td>0.063000</td>\n",
       "      <td>-14.346000</td>\n",
       "      <td>0.047600</td>\n",
       "      <td>122.889000</td>\n",
       "      <td>0.881000</td>\n",
       "      <td>40.000000</td>\n",
       "      <td>0</td>\n",
       "      <td>428.43</td>\n",
       "      <td>0</td>\n",
       "      <td>0</td>\n",
       "      <td>0</td>\n",
       "      <td>0</td>\n",
       "      <td>0</td>\n",
       "      <td>0</td>\n",
       "      <td>0</td>\n",
       "      <td>1</td>\n",
       "      <td>0</td>\n",
       "      <td>0</td>\n",
       "      <td>0</td>\n",
       "    </tr>\n",
       "    <tr>\n",
       "      <th>4534</th>\n",
       "      <td>0.350400</td>\n",
       "      <td>0.557000</td>\n",
       "      <td>0.387000</td>\n",
       "      <td>8.468000e-01</td>\n",
       "      <td>0.149160</td>\n",
       "      <td>-13.733600</td>\n",
       "      <td>0.037400</td>\n",
       "      <td>92.183000</td>\n",
       "      <td>0.385800</td>\n",
       "      <td>38.000000</td>\n",
       "      <td>1</td>\n",
       "      <td>483.93</td>\n",
       "      <td>0</td>\n",
       "      <td>0</td>\n",
       "      <td>0</td>\n",
       "      <td>0</td>\n",
       "      <td>0</td>\n",
       "      <td>0</td>\n",
       "      <td>0</td>\n",
       "      <td>0</td>\n",
       "      <td>1</td>\n",
       "      <td>0</td>\n",
       "      <td>0</td>\n",
       "    </tr>\n",
       "  </tbody>\n",
       "</table>\n",
       "<p>4535 rows × 23 columns</p>\n",
       "</div>"
      ],
      "text/plain": [
       "      acousticness  danceability    energy  instrumentalness  liveness  \\\n",
       "0         0.458167      0.826667  0.518667      7.108333e-06  0.201683   \n",
       "1         0.239000      0.883000  0.625000      0.000000e+00  0.076500   \n",
       "2         0.154637      0.778551  0.625870      2.472048e-02  0.209223   \n",
       "3         0.144920      0.644600  0.526000      8.000000e-07  0.104660   \n",
       "4         0.011400      0.696000  0.667000      0.000000e+00  0.181000   \n",
       "...            ...           ...       ...               ...       ...   \n",
       "4530      0.611615      0.425692  0.297062      4.252538e-01  0.091523   \n",
       "4531      0.870000      0.457000  0.115000      8.150000e-01  0.082400   \n",
       "4532      0.782500      0.463167  0.371000      3.808683e-01  0.163417   \n",
       "4533      0.085600      0.614000  0.761000      6.180000e-01  0.063000   \n",
       "4534      0.350400      0.557000  0.387000      8.468000e-01  0.149160   \n",
       "\n",
       "       loudness  speechiness       tempo   valence  popularity  mode  \\\n",
       "0     -8.713167     0.272550   90.728833  0.426750   74.166667     1   \n",
       "1     -4.098000     0.245000  126.677000  0.871000   69.000000     1   \n",
       "2     -6.553899     0.149986  117.679087  0.242772   65.333333     1   \n",
       "3     -9.282200     0.066560   83.897800  0.356800   66.000000     0   \n",
       "4     -7.665000     0.040700  121.932000  0.287000   62.000000     0   \n",
       "...         ...          ...         ...       ...         ...   ...   \n",
       "4530 -13.489231     0.033900  124.615000  0.312800   31.153846     1   \n",
       "4531 -27.753000     0.061000   92.571000  0.162000   27.000000     1   \n",
       "4532 -12.028500     0.037417   97.863500  0.265217   42.166667     0   \n",
       "4533 -14.346000     0.047600  122.889000  0.881000   40.000000     0   \n",
       "4534 -13.733600     0.037400   92.183000  0.385800   38.000000     1   \n",
       "\n",
       "      duration_sec  key_1  key_2  key_3  key_4  key_5  key_6  key_7  key_8  \\\n",
       "0           146.89      0      0      0      0      0      0      0      0   \n",
       "1           141.52      0      0      0      0      0      1      0      0   \n",
       "2           149.92      1      0      0      0      0      0      0      0   \n",
       "3           244.53      0      0      1      0      0      0      0      0   \n",
       "4           398.11      0      0      0      0      0      0      0      0   \n",
       "...            ...    ...    ...    ...    ...    ...    ...    ...    ...   \n",
       "4530        235.32      0      0      0      0      0      0      0      0   \n",
       "4531        395.07      1      0      0      0      0      0      0      0   \n",
       "4532        413.40      0      0      0      0      0      0      1      0   \n",
       "4533        428.43      0      0      0      0      0      0      0      1   \n",
       "4534        483.93      0      0      0      0      0      0      0      0   \n",
       "\n",
       "      key_9  key_10  key_11  \n",
       "0         0       0       0  \n",
       "1         0       0       0  \n",
       "2         0       0       0  \n",
       "3         0       0       0  \n",
       "4         0       0       0  \n",
       "...     ...     ...     ...  \n",
       "4530      1       0       0  \n",
       "4531      0       0       0  \n",
       "4532      0       0       0  \n",
       "4533      0       0       0  \n",
       "4534      1       0       0  \n",
       "\n",
       "[4535 rows x 23 columns]"
      ]
     },
     "execution_count": 48,
     "metadata": {},
     "output_type": "execute_result"
    }
   ],
   "source": [
    "X"
   ]
  },
  {
   "cell_type": "code",
   "execution_count": 49,
   "metadata": {},
   "outputs": [
    {
     "data": {
      "text/plain": [
       "<AxesSubplot:>"
      ]
     },
     "execution_count": 49,
     "metadata": {},
     "output_type": "execute_result"
    },
    {
     "data": {
      "image/png": "[encoded data removed]",
      "text/plain": [
       "<Figure size 576x396 with 2 Axes>"
      ]
     },
     "metadata": {},
     "output_type": "display_data"
    }
   ],
   "source": [
    "sns.heatmap(genres_df.drop(columns=['rap','country','classical','jazz','duration_ms']).corr(),cmap=\"YlGnBu\")"
   ]
  },
  {
   "cell_type": "code",
   "execution_count": 50,
   "metadata": {},
   "outputs": [],
   "source": [
    "X_train, X_test, y_train, y_test = train_test_split(X,y,random_state=42)"
   ]
  },
  {
   "cell_type": "code",
   "execution_count": 51,
   "metadata": {},
   "outputs": [],
   "source": [
    "rfc = RandomForestClassifier(random_state=42,n_jobs=-1,n_estimators=1000)"
   ]
  },
  {
   "cell_type": "code",
   "execution_count": 52,
   "metadata": {},
   "outputs": [],
   "source": [
    "\n",
    "params_grid = {\n",
    "    'criterion' : ['gini','entropy'],\n",
    "    'max_depth':[None, 5,3],\n",
    "    'min_samples_split':[2,10,20],\n",
    "    'n_estimators': [100,1000,5000]\n",
    "}\n",
    "gridsearch_model = GridSearchCV(estimator=rfc,param_grid = params_grid,verbose=1,n_jobs=-1)"
   ]
  },
  {
   "cell_type": "code",
   "execution_count": 53,
   "metadata": {},
   "outputs": [
    {
     "name": "stdout",
     "output_type": "stream",
     "text": [
      "Fitting 5 folds for each of 54 candidates, totalling 270 fits\n"
     ]
    },
    {
     "name": "stderr",
     "output_type": "stream",
     "text": [
      "[Parallel(n_jobs=-1)]: Using backend LokyBackend with 8 concurrent workers.\n",
      "[Parallel(n_jobs=-1)]: Done  34 tasks      | elapsed:  1.0min\n",
      "[Parallel(n_jobs=-1)]: Done 184 tasks      | elapsed:  5.7min\n",
      "[Parallel(n_jobs=-1)]: Done 270 out of 270 | elapsed:  8.4min finished\n"
     ]
    },
    {
     "data": {
      "text/plain": [
       "GridSearchCV(estimator=RandomForestClassifier(n_estimators=1000, n_jobs=-1,\n",
       "                                              random_state=42),\n",
       "             n_jobs=-1,\n",
       "             param_grid={'criterion': ['gini', 'entropy'],\n",
       "                         'max_depth': [None, 5, 3],\n",
       "                         'min_samples_split': [2, 10, 20],\n",
       "                         'n_estimators': [100, 1000, 5000]},\n",
       "             verbose=1)"
      ]
     },
     "execution_count": 53,
     "metadata": {},
     "output_type": "execute_result"
    }
   ],
   "source": [
    "gridsearch_model.fit(X_train,y_train)"
   ]
  },
  {
   "cell_type": "code",
   "execution_count": 54,
   "metadata": {},
   "outputs": [
    {
     "data": {
      "text/plain": [
       "{'criterion': 'entropy',\n",
       " 'max_depth': None,\n",
       " 'min_samples_split': 2,\n",
       " 'n_estimators': 5000}"
      ]
     },
     "execution_count": 54,
     "metadata": {},
     "output_type": "execute_result"
    }
   ],
   "source": [
    "gridsearch_model.best_params_"
   ]
  },
  {
   "cell_type": "code",
   "execution_count": 55,
   "metadata": {},
   "outputs": [],
   "source": [
    "best_model = gridsearch_model.best_estimator_"
   ]
  },
  {
   "cell_type": "code",
   "execution_count": 56,
   "metadata": {},
   "outputs": [
    {
     "data": {
      "text/plain": [
       "RandomForestClassifier(criterion='entropy', n_estimators=5000, n_jobs=-1,\n",
       "                       random_state=42)"
      ]
     },
     "execution_count": 56,
     "metadata": {},
     "output_type": "execute_result"
    }
   ],
   "source": [
    "best_model"
   ]
  },
  {
   "cell_type": "code",
   "execution_count": 57,
   "metadata": {},
   "outputs": [],
   "source": [
    "y_pred = best_model.predict(X_test)"
   ]
  },
  {
   "cell_type": "code",
   "execution_count": 58,
   "metadata": {},
   "outputs": [],
   "source": [
    "y_preds = pd.Series(y_pred)"
   ]
  },
  {
   "cell_type": "code",
   "execution_count": 61,
   "metadata": {},
   "outputs": [
    {
     "data": {
      "text/plain": [
       "2    312\n",
       "0    295\n",
       "3    287\n",
       "1    240\n",
       "dtype: int64"
      ]
     },
     "execution_count": 61,
     "metadata": {},
     "output_type": "execute_result"
    }
   ],
   "source": [
    "y_preds.value_counts()"
   ]
  },
  {
   "cell_type": "code",
   "execution_count": 62,
   "metadata": {},
   "outputs": [
    {
     "data": {
      "text/plain": [
       "0.8226146432655901"
      ]
     },
     "execution_count": 62,
     "metadata": {},
     "output_type": "execute_result"
    }
   ],
   "source": [
    "f1_score(y_preds,y_test,average='weighted')"
   ]
  },
  {
   "cell_type": "code",
   "execution_count": 66,
   "metadata": {},
   "outputs": [],
   "source": [
    "knn = KNeighborsClassifier(n_jobs=-1,)"
   ]
  },
  {
   "cell_type": "code",
   "execution_count": 67,
   "metadata": {},
   "outputs": [],
   "source": [
    "\n",
    "params_grid = {\n",
    "    'n_neighbors':[3,5,11,19],\n",
    "    'weights':['uniform','distance'],\n",
    "    'metric':['euclidean','manhattan']\n",
    "}\n",
    "gridsearch_model = GridSearchCV(estimator=knn,param_grid = params_grid,verbose=1,cv=3, n_jobs=-1)"
   ]
  },
  {
   "cell_type": "code",
   "execution_count": 68,
   "metadata": {},
   "outputs": [
    {
     "name": "stdout",
     "output_type": "stream",
     "text": [
      "Fitting 3 folds for each of 16 candidates, totalling 48 fits\n"
     ]
    },
    {
     "name": "stderr",
     "output_type": "stream",
     "text": [
      "[Parallel(n_jobs=-1)]: Using backend LokyBackend with 8 concurrent workers.\n",
      "[Parallel(n_jobs=-1)]: Done  48 out of  48 | elapsed:    3.0s finished\n"
     ]
    },
    {
     "data": {
      "text/plain": [
       "GridSearchCV(cv=3, estimator=KNeighborsClassifier(n_jobs=-1), n_jobs=-1,\n",
       "             param_grid={'metric': ['euclidean', 'manhattan'],\n",
       "                         'n_neighbors': [3, 5, 11, 19],\n",
       "                         'weights': ['uniform', 'distance']},\n",
       "             verbose=1)"
      ]
     },
     "execution_count": 68,
     "metadata": {},
     "output_type": "execute_result"
    }
   ],
   "source": [
    "gridsearch_model.fit(X_train,y_train)"
   ]
  },
  {
   "cell_type": "code",
   "execution_count": 69,
   "metadata": {},
   "outputs": [
    {
     "data": {
      "text/plain": [
       "{'metric': 'manhattan', 'n_neighbors': 19, 'weights': 'distance'}"
      ]
     },
     "execution_count": 69,
     "metadata": {},
     "output_type": "execute_result"
    }
   ],
   "source": [
    "gridsearch_model.best_params_"
   ]
  },
  {
   "cell_type": "code",
   "execution_count": 70,
   "metadata": {},
   "outputs": [],
   "source": [
    "best_model = gridsearch_model.best_estimator_"
   ]
  },
  {
   "cell_type": "code",
   "execution_count": 71,
   "metadata": {},
   "outputs": [
    {
     "data": {
      "text/plain": [
       "KNeighborsClassifier(metric='manhattan', n_jobs=-1, n_neighbors=19,\n",
       "                     weights='distance')"
      ]
     },
     "execution_count": 71,
     "metadata": {},
     "output_type": "execute_result"
    }
   ],
   "source": [
    "best_model"
   ]
  },
  {
   "cell_type": "code",
   "execution_count": 72,
   "metadata": {},
   "outputs": [],
   "source": [
    "y_pred = best_model.predict(X_test)"
   ]
  },
  {
   "cell_type": "code",
   "execution_count": 73,
   "metadata": {},
   "outputs": [],
   "source": [
    "y_preds = pd.Series(y_pred)"
   ]
  },
  {
   "cell_type": "code",
   "execution_count": 74,
   "metadata": {},
   "outputs": [
    {
     "data": {
      "text/plain": [
       "0.654829145641549"
      ]
     },
     "execution_count": 74,
     "metadata": {},
     "output_type": "execute_result"
    }
   ],
   "source": [
    "f1_score(y_preds,y_test,average='weighted')"
   ]
  },
  {
   "cell_type": "code",
   "execution_count": 79,
   "metadata": {},
   "outputs": [
    {
     "data": {
      "text/plain": [
       "XGBRegressor(base_score=0.5, booster='gbtree', colsample_bylevel=1,\n",
       "             colsample_bynode=1, colsample_bytree=1, gamma=0, gpu_id=-1,\n",
       "             importance_type='gain', interaction_constraints='',\n",
       "             learning_rate=0.300000012, max_delta_step=0, max_depth=6,\n",
       "             min_child_weight=1, missing=nan, monotone_constraints='()',\n",
       "             n_estimators=100, n_jobs=0, num_class=4, num_parallel_tree=1,\n",
       "             objective='multi:softmax', random_state=42, reg_alpha=0,\n",
       "             reg_lambda=1, scale_pos_weight=None, subsample=1,\n",
       "             tree_method='exact', validate_parameters=1, verbosity=None)"
      ]
     },
     "execution_count": 79,
     "metadata": {},
     "output_type": "execute_result"
    }
   ],
   "source": [
    "grad_boost = xgboost.XGBRegressor(random_state=42, objective='multi:softmax',num_class=4)\n",
    "\n",
    "grad_boost.fit(X_train, y_train)"
   ]
  },
  {
   "cell_type": "code",
   "execution_count": 81,
   "metadata": {},
   "outputs": [],
   "source": [
    "y_pred = grad_boost.predict(X_test)"
   ]
  },
  {
   "cell_type": "code",
   "execution_count": 82,
   "metadata": {},
   "outputs": [
    {
     "data": {
      "text/plain": [
       "0.8182810598456766"
      ]
     },
     "execution_count": 82,
     "metadata": {},
     "output_type": "execute_result"
    }
   ],
   "source": [
    "f1_score(y_pred,y_test,average='weighted')"
   ]
  },
  {
   "cell_type": "code",
   "execution_count": null,
   "metadata": {},
   "outputs": [],
   "source": []
  }
 ],
 "metadata": {
  "kernelspec": {
   "display_name": "learn-env",
   "language": "python",
   "name": "learn-env"
  },
  "language_info": {
   "codemirror_mode": {
    "name": "ipython",
    "version": 3
   },
   "file_extension": ".py",
   "mimetype": "text/x-python",
   "name": "python",
   "nbconvert_exporter": "python",
   "pygments_lexer": "ipython3",
   "version": "3.8.5"
  }
 },
 "nbformat": 4,
 "nbformat_minor": 4
}
