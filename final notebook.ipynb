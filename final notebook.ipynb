{
 "cells": [
  {
   "cell_type": "markdown",
   "metadata": {},
   "source": [
    "# Phase 3 Artist Genre Prediction"
   ]
  },
  {
   "cell_type": "code",
   "execution_count": 1,
   "metadata": {},
   "outputs": [],
   "source": [
    "import pandas as pd\n",
    "import re\n",
    "import numpy as np\n",
    "import matplotlib.pyplot as plt\n",
    "import seaborn as sns\n",
    "from ast import literal_eval\n",
    "from sklearn.model_selection import train_test_split, GridSearchCV,\\\n",
    "cross_val_score, RandomizedSearchCV\n",
    "from sklearn.tree import DecisionTreeClassifier\n",
    "from sklearn.metrics import confusion_matrix\n",
    "from sklearn.metrics import f1_score\n",
    "from sklearn.neighbors import KNeighborsClassifier\n",
    "from sklearn.linear_model import LogisticRegression\n",
    "from sklearn.ensemble import RandomForestClassifier\n",
    "import xgboost\n",
    "pd.set_option('display.max_columns', 300)\n",
    "pd.set_option('display.max_rows', 200)\n",
    "pd.options.display.max_colwidth = 100\n",
    "plt.style.use('seaborn')"
   ]
  },
  {
   "cell_type": "code",
   "execution_count": 2,
   "metadata": {},
   "outputs": [],
   "source": [
    "df = pd.read_csv('data/data_w_genres.csv')"
   ]
  },
  {
   "cell_type": "markdown",
   "metadata": {},
   "source": [
    "## Column Descriptions: \n",
    "\n",
    "**Acousticness**: The relative metric of the track being acoustic\\\n",
    "**Danceability**: The relative measurement of the track being danceable\\\n",
    "**Duration_MS**: The duration length of track (in ms)\\\n",
    "**Energy**: The energy of the track\\\n",
    "**Instrumentalness**: The relative ratio of the track being instrumental\\\n",
    "**Liveness**: The relative duration of the track sounding as a live performance\\\n",
    "**Loudness**: Relative loudness of the track in the typical range [-60, 0] in decibel (dB)\\\n",
    "**Speechiness**: The relative length of the track containing any kind of human voice\\\n",
    "**Tempo**: The tempo of the track in Beat Per Minute (BPM)\\\n",
    "**Valence**: The positivity of the track\\\n",
    "**Popularity**: The popularity of the song lately, default country = US\\\n",
    "**Key**: The primary key of the track encoded as integers in between 0 and 11\\\n",
    "**Mode**: The binary value representing whether the track starts with a major (1) chord progression or not (0)\\\n",
    "**Count**: The number of tracks from the original dataset, produced by the given artist (Dropped)\n"
   ]
  },
  {
   "cell_type": "markdown",
   "metadata": {},
   "source": [
    "# Data Cleaning"
   ]
  },
  {
   "cell_type": "markdown",
   "metadata": {},
   "source": [
    "### Removed all the empty genres"
   ]
  },
  {
   "cell_type": "code",
   "execution_count": 3,
   "metadata": {},
   "outputs": [],
   "source": [
    "#This saves the enpty genres for predictions later on\n",
    "df_pred=df.loc[df['genres'] == '[]']\n",
    "df_pred = df_pred.reset_index()\n",
    "df_pred = df_pred.drop('index',axis=1)"
   ]
  },
  {
   "cell_type": "code",
   "execution_count": 4,
   "metadata": {},
   "outputs": [],
   "source": [
    "df = df.loc[df['genres'] != '[]']\n",
    "df = df.reset_index()\n",
    "df = df.drop('index',axis=1)"
   ]
  },
  {
   "cell_type": "markdown",
   "metadata": {},
   "source": [
    "### First Iteration: Map data to Rap or country ###"
   ]
  },
  {
   "cell_type": "code",
   "execution_count": 5,
   "metadata": {},
   "outputs": [],
   "source": [
    "df['rap'] = 0\n",
    "df['country'] = 0\n",
    "df['classical'] = 0\n",
    "df['jazz'] = 0"
   ]
  },
  {
   "cell_type": "code",
   "execution_count": 6,
   "metadata": {},
   "outputs": [
    {
     "name": "stderr",
     "output_type": "stream",
     "text": [
      "<ipython-input-6-365487a95f8b>:7: SettingWithCopyWarning: \n",
      "A value is trying to be set on a copy of a slice from a DataFrame\n",
      "\n",
      "See the caveats in the documentation: https://pandas.pydata.org/pandas-docs/stable/user_guide/indexing.html#returning-a-view-versus-a-copy\n",
      "  df['rap'][count] += 1\n",
      "<ipython-input-6-365487a95f8b>:9: SettingWithCopyWarning: \n",
      "A value is trying to be set on a copy of a slice from a DataFrame\n",
      "\n",
      "See the caveats in the documentation: https://pandas.pydata.org/pandas-docs/stable/user_guide/indexing.html#returning-a-view-versus-a-copy\n",
      "  df['country'][count] += 1\n",
      "<ipython-input-6-365487a95f8b>:11: SettingWithCopyWarning: \n",
      "A value is trying to be set on a copy of a slice from a DataFrame\n",
      "\n",
      "See the caveats in the documentation: https://pandas.pydata.org/pandas-docs/stable/user_guide/indexing.html#returning-a-view-versus-a-copy\n",
      "  df['classical'][count]+=1\n",
      "<ipython-input-6-365487a95f8b>:13: SettingWithCopyWarning: \n",
      "A value is trying to be set on a copy of a slice from a DataFrame\n",
      "\n",
      "See the caveats in the documentation: https://pandas.pydata.org/pandas-docs/stable/user_guide/indexing.html#returning-a-view-versus-a-copy\n",
      "  df['jazz'][count]+=1\n"
     ]
    }
   ],
   "source": [
    "count=0\n",
    "\n",
    "for songs in df['genres']:\n",
    "    song1 = songs.split(', ')\n",
    "    for song in song1:\n",
    "        if ' rap' in song and \"trap\" not in song and \"country rap\" not in song:\n",
    "            df['rap'][count] += 1\n",
    "        if \"country\" in song:\n",
    "            df['country'][count] += 1\n",
    "        if \"classical\" in song:\n",
    "            df['classical'][count]+=1\n",
    "        if \"jazz\" in song and 'jazz rap' not in song and 'classical jazz' not in song and 'country jazz' not in song:\n",
    "            df['jazz'][count]+=1\n",
    "    count+=1"
   ]
  },
  {
   "cell_type": "markdown",
   "metadata": {},
   "source": [
    "### Further Categorize Rap or country"
   ]
  },
  {
   "cell_type": "code",
   "execution_count": 7,
   "metadata": {},
   "outputs": [],
   "source": [
    "df = df[(df.rap >= 1) | (df.country >= 1) | (df.classical >= 1) | (df.jazz >= 1)]"
   ]
  },
  {
   "cell_type": "code",
   "execution_count": 8,
   "metadata": {},
   "outputs": [],
   "source": [
    "df['clean_genres'] = df[['rap','country','classical','jazz']].idxmax(axis=1)"
   ]
  },
  {
   "cell_type": "code",
   "execution_count": 9,
   "metadata": {},
   "outputs": [
    {
     "data": {
      "text/html": [
       "<div>\n",
       "<style scoped>\n",
       "    .dataframe tbody tr th:only-of-type {\n",
       "        vertical-align: middle;\n",
       "    }\n",
       "\n",
       "    .dataframe tbody tr th {\n",
       "        vertical-align: top;\n",
       "    }\n",
       "\n",
       "    .dataframe thead th {\n",
       "        text-align: right;\n",
       "    }\n",
       "</style>\n",
       "<table border=\"1\" class=\"dataframe\">\n",
       "  <thead>\n",
       "    <tr style=\"text-align: right;\">\n",
       "      <th></th>\n",
       "      <th>artists</th>\n",
       "      <th>genres</th>\n",
       "      <th>country</th>\n",
       "      <th>classical</th>\n",
       "      <th>clean_genres</th>\n",
       "    </tr>\n",
       "  </thead>\n",
       "  <tbody>\n",
       "  </tbody>\n",
       "</table>\n",
       "</div>"
      ],
      "text/plain": [
       "Empty DataFrame\n",
       "Columns: [artists, genres, country, classical, clean_genres]\n",
       "Index: []"
      ]
     },
     "execution_count": 9,
     "metadata": {},
     "output_type": "execute_result"
    }
   ],
   "source": [
    "df[\n",
    "    (df['classical'] >= 1) & (df['country'] >= 1) &\n",
    "    ((df['country'] == df['classical']))\n",
    "    ][['artists','genres', 'country', \"classical\", 'clean_genres']].sort_values(by=['classical'], ascending=False)"
   ]
  },
  {
   "cell_type": "code",
   "execution_count": 10,
   "metadata": {},
   "outputs": [
    {
     "data": {
      "text/html": [
       "<div>\n",
       "<style scoped>\n",
       "    .dataframe tbody tr th:only-of-type {\n",
       "        vertical-align: middle;\n",
       "    }\n",
       "\n",
       "    .dataframe tbody tr th {\n",
       "        vertical-align: top;\n",
       "    }\n",
       "\n",
       "    .dataframe thead th {\n",
       "        text-align: right;\n",
       "    }\n",
       "</style>\n",
       "<table border=\"1\" class=\"dataframe\">\n",
       "  <thead>\n",
       "    <tr style=\"text-align: right;\">\n",
       "      <th></th>\n",
       "      <th>artists</th>\n",
       "      <th>genres</th>\n",
       "      <th>rap</th>\n",
       "      <th>classical</th>\n",
       "      <th>clean_genres</th>\n",
       "    </tr>\n",
       "  </thead>\n",
       "  <tbody>\n",
       "  </tbody>\n",
       "</table>\n",
       "</div>"
      ],
      "text/plain": [
       "Empty DataFrame\n",
       "Columns: [artists, genres, rap, classical, clean_genres]\n",
       "Index: []"
      ]
     },
     "execution_count": 10,
     "metadata": {},
     "output_type": "execute_result"
    }
   ],
   "source": [
    "df[\n",
    "    (df['classical'] >= 1) & (df['rap'] >= 1) &\n",
    "    ((df['rap'] == df['classical']))\n",
    "    ][['artists','genres', 'rap', \"classical\", 'clean_genres']].sort_values(by=['rap'], ascending=False)"
   ]
  },
  {
   "cell_type": "code",
   "execution_count": 11,
   "metadata": {},
   "outputs": [
    {
     "data": {
      "text/html": [
       "<div>\n",
       "<style scoped>\n",
       "    .dataframe tbody tr th:only-of-type {\n",
       "        vertical-align: middle;\n",
       "    }\n",
       "\n",
       "    .dataframe tbody tr th {\n",
       "        vertical-align: top;\n",
       "    }\n",
       "\n",
       "    .dataframe thead th {\n",
       "        text-align: right;\n",
       "    }\n",
       "</style>\n",
       "<table border=\"1\" class=\"dataframe\">\n",
       "  <thead>\n",
       "    <tr style=\"text-align: right;\">\n",
       "      <th></th>\n",
       "      <th>artists</th>\n",
       "      <th>genres</th>\n",
       "      <th>rap</th>\n",
       "      <th>country</th>\n",
       "      <th>clean_genres</th>\n",
       "    </tr>\n",
       "  </thead>\n",
       "  <tbody>\n",
       "    <tr>\n",
       "      <th>257</th>\n",
       "      <td>Adam Calhoun</td>\n",
       "      <td>['country rap', 'military rap', 'redneck']</td>\n",
       "      <td>1</td>\n",
       "      <td>1</td>\n",
       "      <td>rap</td>\n",
       "    </tr>\n",
       "    <tr>\n",
       "      <th>13913</th>\n",
       "      <td>Rittz</td>\n",
       "      <td>['atl hip hop', 'country rap', 'pop rap', 'southern hip hop']</td>\n",
       "      <td>1</td>\n",
       "      <td>1</td>\n",
       "      <td>rap</td>\n",
       "    </tr>\n",
       "  </tbody>\n",
       "</table>\n",
       "</div>"
      ],
      "text/plain": [
       "            artists  \\\n",
       "257    Adam Calhoun   \n",
       "13913         Rittz   \n",
       "\n",
       "                                                              genres  rap  \\\n",
       "257                       ['country rap', 'military rap', 'redneck']    1   \n",
       "13913  ['atl hip hop', 'country rap', 'pop rap', 'southern hip hop']    1   \n",
       "\n",
       "       country clean_genres  \n",
       "257          1          rap  \n",
       "13913        1          rap  "
      ]
     },
     "execution_count": 11,
     "metadata": {},
     "output_type": "execute_result"
    }
   ],
   "source": [
    "df[\n",
    "    (df['country'] >= 1) & (df['rap'] >= 1) &\n",
    "    ((df['country'] == df['rap']))\n",
    "    ][['artists','genres', 'rap', \"country\", 'clean_genres']].sort_values(by=['rap'], ascending=False)"
   ]
  },
  {
   "cell_type": "code",
   "execution_count": 12,
   "metadata": {},
   "outputs": [
    {
     "data": {
      "text/html": [
       "<div>\n",
       "<style scoped>\n",
       "    .dataframe tbody tr th:only-of-type {\n",
       "        vertical-align: middle;\n",
       "    }\n",
       "\n",
       "    .dataframe tbody tr th {\n",
       "        vertical-align: top;\n",
       "    }\n",
       "\n",
       "    .dataframe thead th {\n",
       "        text-align: right;\n",
       "    }\n",
       "</style>\n",
       "<table border=\"1\" class=\"dataframe\">\n",
       "  <thead>\n",
       "    <tr style=\"text-align: right;\">\n",
       "      <th></th>\n",
       "      <th>artists</th>\n",
       "      <th>genres</th>\n",
       "      <th>rap</th>\n",
       "      <th>jazz</th>\n",
       "      <th>clean_genres</th>\n",
       "    </tr>\n",
       "  </thead>\n",
       "  <tbody>\n",
       "    <tr>\n",
       "      <th>17827</th>\n",
       "      <td>Us3</td>\n",
       "      <td>['electronica', 'jazz rap', 'nu jazz']</td>\n",
       "      <td>1</td>\n",
       "      <td>1</td>\n",
       "      <td>rap</td>\n",
       "    </tr>\n",
       "  </tbody>\n",
       "</table>\n",
       "</div>"
      ],
      "text/plain": [
       "      artists                                  genres  rap  jazz clean_genres\n",
       "17827     Us3  ['electronica', 'jazz rap', 'nu jazz']    1     1          rap"
      ]
     },
     "execution_count": 12,
     "metadata": {},
     "output_type": "execute_result"
    }
   ],
   "source": [
    "df[\n",
    "    (df['jazz'] >= 1) & (df['rap'] >= 1) &\n",
    "    ((df['jazz'] == df['rap']))\n",
    "    ][['artists','genres', 'rap', \"jazz\", 'clean_genres']].sort_values(by=['rap'], ascending=False)"
   ]
  },
  {
   "cell_type": "code",
   "execution_count": 13,
   "metadata": {},
   "outputs": [
    {
     "data": {
      "text/html": [
       "<div>\n",
       "<style scoped>\n",
       "    .dataframe tbody tr th:only-of-type {\n",
       "        vertical-align: middle;\n",
       "    }\n",
       "\n",
       "    .dataframe tbody tr th {\n",
       "        vertical-align: top;\n",
       "    }\n",
       "\n",
       "    .dataframe thead th {\n",
       "        text-align: right;\n",
       "    }\n",
       "</style>\n",
       "<table border=\"1\" class=\"dataframe\">\n",
       "  <thead>\n",
       "    <tr style=\"text-align: right;\">\n",
       "      <th></th>\n",
       "      <th>artists</th>\n",
       "      <th>genres</th>\n",
       "      <th>country</th>\n",
       "      <th>jazz</th>\n",
       "      <th>clean_genres</th>\n",
       "    </tr>\n",
       "  </thead>\n",
       "  <tbody>\n",
       "    <tr>\n",
       "      <th>2016</th>\n",
       "      <td>Blood, Sweat &amp; Tears</td>\n",
       "      <td>['album rock', 'art rock', 'blues rock', 'brill building pop', 'classic rock', 'country rock', '...</td>\n",
       "      <td>1</td>\n",
       "      <td>1</td>\n",
       "      <td>country</td>\n",
       "    </tr>\n",
       "    <tr>\n",
       "      <th>4641</th>\n",
       "      <td>Dr. John</td>\n",
       "      <td>['blues', 'blues rock', 'classic rock', 'country rock', 'electric blues', 'folk rock', 'funk', '...</td>\n",
       "      <td>1</td>\n",
       "      <td>1</td>\n",
       "      <td>country</td>\n",
       "    </tr>\n",
       "    <tr>\n",
       "      <th>7858</th>\n",
       "      <td>Jeff Beck</td>\n",
       "      <td>['album rock', 'art rock', 'blues', 'blues rock', 'british blues', 'classic rock', 'country rock...</td>\n",
       "      <td>1</td>\n",
       "      <td>1</td>\n",
       "      <td>country</td>\n",
       "    </tr>\n",
       "    <tr>\n",
       "      <th>9923</th>\n",
       "      <td>Lonnie Johnson</td>\n",
       "      <td>['acoustic blues', 'blues', 'country blues', 'jazz blues', 'louisiana blues', 'memphis blues', '...</td>\n",
       "      <td>1</td>\n",
       "      <td>1</td>\n",
       "      <td>country</td>\n",
       "    </tr>\n",
       "  </tbody>\n",
       "</table>\n",
       "</div>"
      ],
      "text/plain": [
       "                   artists  \\\n",
       "2016  Blood, Sweat & Tears   \n",
       "4641              Dr. John   \n",
       "7858             Jeff Beck   \n",
       "9923        Lonnie Johnson   \n",
       "\n",
       "                                                                                                   genres  \\\n",
       "2016  ['album rock', 'art rock', 'blues rock', 'brill building pop', 'classic rock', 'country rock', '...   \n",
       "4641  ['blues', 'blues rock', 'classic rock', 'country rock', 'electric blues', 'folk rock', 'funk', '...   \n",
       "7858  ['album rock', 'art rock', 'blues', 'blues rock', 'british blues', 'classic rock', 'country rock...   \n",
       "9923  ['acoustic blues', 'blues', 'country blues', 'jazz blues', 'louisiana blues', 'memphis blues', '...   \n",
       "\n",
       "      country  jazz clean_genres  \n",
       "2016        1     1      country  \n",
       "4641        1     1      country  \n",
       "7858        1     1      country  \n",
       "9923        1     1      country  "
      ]
     },
     "execution_count": 13,
     "metadata": {},
     "output_type": "execute_result"
    }
   ],
   "source": [
    "df[\n",
    "    (df['jazz'] >= 1) & (df['country'] >= 1) &\n",
    "    ((df['jazz'] == df['country']))\n",
    "    ][['artists','genres', 'country', \"jazz\", 'clean_genres']].sort_values(by=['country'], ascending=False)"
   ]
  },
  {
   "cell_type": "code",
   "execution_count": 14,
   "metadata": {},
   "outputs": [
    {
     "data": {
      "text/html": [
       "<div>\n",
       "<style scoped>\n",
       "    .dataframe tbody tr th:only-of-type {\n",
       "        vertical-align: middle;\n",
       "    }\n",
       "\n",
       "    .dataframe tbody tr th {\n",
       "        vertical-align: top;\n",
       "    }\n",
       "\n",
       "    .dataframe thead th {\n",
       "        text-align: right;\n",
       "    }\n",
       "</style>\n",
       "<table border=\"1\" class=\"dataframe\">\n",
       "  <thead>\n",
       "    <tr style=\"text-align: right;\">\n",
       "      <th></th>\n",
       "      <th>artists</th>\n",
       "      <th>genres</th>\n",
       "      <th>classical</th>\n",
       "      <th>jazz</th>\n",
       "      <th>clean_genres</th>\n",
       "    </tr>\n",
       "  </thead>\n",
       "  <tbody>\n",
       "    <tr>\n",
       "      <th>4954</th>\n",
       "      <td>Egberto Gismonti</td>\n",
       "      <td>['bossa nova', 'brazilian contemporary classical', 'brazilian jazz', 'ecm-style jazz', 'latin cl...</td>\n",
       "      <td>2</td>\n",
       "      <td>2</td>\n",
       "      <td>classical</td>\n",
       "    </tr>\n",
       "    <tr>\n",
       "      <th>938</th>\n",
       "      <td>Anja Lechner</td>\n",
       "      <td>['classical cello', 'ecm-style jazz']</td>\n",
       "      <td>1</td>\n",
       "      <td>1</td>\n",
       "      <td>classical</td>\n",
       "    </tr>\n",
       "    <tr>\n",
       "      <th>1677</th>\n",
       "      <td>Benny Andersson</td>\n",
       "      <td>['classic swedish pop', 'neo-classical', 'swedish jazz']</td>\n",
       "      <td>1</td>\n",
       "      <td>1</td>\n",
       "      <td>classical</td>\n",
       "    </tr>\n",
       "    <tr>\n",
       "      <th>8049</th>\n",
       "      <td>Jimmy Hamilton</td>\n",
       "      <td>['classical clarinet', 'jazz clarinet']</td>\n",
       "      <td>1</td>\n",
       "      <td>1</td>\n",
       "      <td>classical</td>\n",
       "    </tr>\n",
       "    <tr>\n",
       "      <th>9799</th>\n",
       "      <td>Liquid Tension Experiment</td>\n",
       "      <td>['instrumental rock', 'jazz metal', 'neo classical metal', 'progressive metal', 'shred']</td>\n",
       "      <td>1</td>\n",
       "      <td>1</td>\n",
       "      <td>classical</td>\n",
       "    </tr>\n",
       "    <tr>\n",
       "      <th>11796</th>\n",
       "      <td>Münir Nurettin Selçuk</td>\n",
       "      <td>['turkish classical', 'turkish jazz']</td>\n",
       "      <td>1</td>\n",
       "      <td>1</td>\n",
       "      <td>classical</td>\n",
       "    </tr>\n",
       "    <tr>\n",
       "      <th>14401</th>\n",
       "      <td>Safiye Ayla</td>\n",
       "      <td>['turkish classical', 'turkish jazz']</td>\n",
       "      <td>1</td>\n",
       "      <td>1</td>\n",
       "      <td>classical</td>\n",
       "    </tr>\n",
       "    <tr>\n",
       "      <th>15537</th>\n",
       "      <td>Steve Morse</td>\n",
       "      <td>['instrumental rock', 'jazz fusion', 'neo classical metal', 'shred']</td>\n",
       "      <td>1</td>\n",
       "      <td>1</td>\n",
       "      <td>classical</td>\n",
       "    </tr>\n",
       "    <tr>\n",
       "      <th>16049</th>\n",
       "      <td>Tension</td>\n",
       "      <td>['instrumental rock', 'jazz metal', 'neo classical metal', 'progressive metal', 'shred']</td>\n",
       "      <td>1</td>\n",
       "      <td>1</td>\n",
       "      <td>classical</td>\n",
       "    </tr>\n",
       "  </tbody>\n",
       "</table>\n",
       "</div>"
      ],
      "text/plain": [
       "                         artists  \\\n",
       "4954            Egberto Gismonti   \n",
       "938                 Anja Lechner   \n",
       "1677             Benny Andersson   \n",
       "8049              Jimmy Hamilton   \n",
       "9799   Liquid Tension Experiment   \n",
       "11796      Münir Nurettin Selçuk   \n",
       "14401                Safiye Ayla   \n",
       "15537                Steve Morse   \n",
       "16049                    Tension   \n",
       "\n",
       "                                                                                                    genres  \\\n",
       "4954   ['bossa nova', 'brazilian contemporary classical', 'brazilian jazz', 'ecm-style jazz', 'latin cl...   \n",
       "938                                                                  ['classical cello', 'ecm-style jazz']   \n",
       "1677                                              ['classic swedish pop', 'neo-classical', 'swedish jazz']   \n",
       "8049                                                               ['classical clarinet', 'jazz clarinet']   \n",
       "9799              ['instrumental rock', 'jazz metal', 'neo classical metal', 'progressive metal', 'shred']   \n",
       "11796                                                                ['turkish classical', 'turkish jazz']   \n",
       "14401                                                                ['turkish classical', 'turkish jazz']   \n",
       "15537                                 ['instrumental rock', 'jazz fusion', 'neo classical metal', 'shred']   \n",
       "16049             ['instrumental rock', 'jazz metal', 'neo classical metal', 'progressive metal', 'shred']   \n",
       "\n",
       "       classical  jazz clean_genres  \n",
       "4954           2     2    classical  \n",
       "938            1     1    classical  \n",
       "1677           1     1    classical  \n",
       "8049           1     1    classical  \n",
       "9799           1     1    classical  \n",
       "11796          1     1    classical  \n",
       "14401          1     1    classical  \n",
       "15537          1     1    classical  \n",
       "16049          1     1    classical  "
      ]
     },
     "execution_count": 14,
     "metadata": {},
     "output_type": "execute_result"
    }
   ],
   "source": [
    "df[\n",
    "    (df['jazz'] >= 1) & (df['classical'] >= 1) &\n",
    "    ((df['jazz'] == df['classical']))\n",
    "    ][['artists','genres', 'classical', \"jazz\", 'clean_genres']].sort_values(by=['classical'], ascending=False)"
   ]
  },
  {
   "cell_type": "code",
   "execution_count": 15,
   "metadata": {},
   "outputs": [
    {
     "name": "stderr",
     "output_type": "stream",
     "text": [
      "<ipython-input-15-030fec7978d1>:1: SettingWithCopyWarning: \n",
      "A value is trying to be set on a copy of a slice from a DataFrame\n",
      "\n",
      "See the caveats in the documentation: https://pandas.pydata.org/pandas-docs/stable/user_guide/indexing.html#returning-a-view-versus-a-copy\n",
      "  df['clean_genres'][257] = \"country\"\n",
      "<ipython-input-15-030fec7978d1>:2: SettingWithCopyWarning: \n",
      "A value is trying to be set on a copy of a slice from a DataFrame\n",
      "\n",
      "See the caveats in the documentation: https://pandas.pydata.org/pandas-docs/stable/user_guide/indexing.html#returning-a-view-versus-a-copy\n",
      "  df['clean_genres'][13913] = \"rap\"\n",
      "<ipython-input-15-030fec7978d1>:3: SettingWithCopyWarning: \n",
      "A value is trying to be set on a copy of a slice from a DataFrame\n",
      "\n",
      "See the caveats in the documentation: https://pandas.pydata.org/pandas-docs/stable/user_guide/indexing.html#returning-a-view-versus-a-copy\n",
      "  df['clean_genres'][17827] = \"rap\"\n",
      "<ipython-input-15-030fec7978d1>:4: SettingWithCopyWarning: \n",
      "A value is trying to be set on a copy of a slice from a DataFrame\n",
      "\n",
      "See the caveats in the documentation: https://pandas.pydata.org/pandas-docs/stable/user_guide/indexing.html#returning-a-view-versus-a-copy\n",
      "  df['clean_genres'][2016] = \"country\"\n",
      "<ipython-input-15-030fec7978d1>:5: SettingWithCopyWarning: \n",
      "A value is trying to be set on a copy of a slice from a DataFrame\n",
      "\n",
      "See the caveats in the documentation: https://pandas.pydata.org/pandas-docs/stable/user_guide/indexing.html#returning-a-view-versus-a-copy\n",
      "  df['clean_genres'][4641] = \"jazz\"\n",
      "<ipython-input-15-030fec7978d1>:6: SettingWithCopyWarning: \n",
      "A value is trying to be set on a copy of a slice from a DataFrame\n",
      "\n",
      "See the caveats in the documentation: https://pandas.pydata.org/pandas-docs/stable/user_guide/indexing.html#returning-a-view-versus-a-copy\n",
      "  df['clean_genres'][7858] = \"jazz\"\n",
      "<ipython-input-15-030fec7978d1>:7: SettingWithCopyWarning: \n",
      "A value is trying to be set on a copy of a slice from a DataFrame\n",
      "\n",
      "See the caveats in the documentation: https://pandas.pydata.org/pandas-docs/stable/user_guide/indexing.html#returning-a-view-versus-a-copy\n",
      "  df['clean_genres'][9923] = \"jazz\"\n",
      "<ipython-input-15-030fec7978d1>:8: SettingWithCopyWarning: \n",
      "A value is trying to be set on a copy of a slice from a DataFrame\n",
      "\n",
      "See the caveats in the documentation: https://pandas.pydata.org/pandas-docs/stable/user_guide/indexing.html#returning-a-view-versus-a-copy\n",
      "  df['clean_genres'][4954] = \"jazz\"\n",
      "<ipython-input-15-030fec7978d1>:9: SettingWithCopyWarning: \n",
      "A value is trying to be set on a copy of a slice from a DataFrame\n",
      "\n",
      "See the caveats in the documentation: https://pandas.pydata.org/pandas-docs/stable/user_guide/indexing.html#returning-a-view-versus-a-copy\n",
      "  df['clean_genres'][938] = \"classical\"\n",
      "<ipython-input-15-030fec7978d1>:10: SettingWithCopyWarning: \n",
      "A value is trying to be set on a copy of a slice from a DataFrame\n",
      "\n",
      "See the caveats in the documentation: https://pandas.pydata.org/pandas-docs/stable/user_guide/indexing.html#returning-a-view-versus-a-copy\n",
      "  df['clean_genres'][1677] = \"classical\"\n",
      "<ipython-input-15-030fec7978d1>:11: SettingWithCopyWarning: \n",
      "A value is trying to be set on a copy of a slice from a DataFrame\n",
      "\n",
      "See the caveats in the documentation: https://pandas.pydata.org/pandas-docs/stable/user_guide/indexing.html#returning-a-view-versus-a-copy\n",
      "  df['clean_genres'][8049] = \"jazz\"\n",
      "<ipython-input-15-030fec7978d1>:12: SettingWithCopyWarning: \n",
      "A value is trying to be set on a copy of a slice from a DataFrame\n",
      "\n",
      "See the caveats in the documentation: https://pandas.pydata.org/pandas-docs/stable/user_guide/indexing.html#returning-a-view-versus-a-copy\n",
      "  df['clean_genres'][9799] = \"jazz\"\n",
      "<ipython-input-15-030fec7978d1>:13: SettingWithCopyWarning: \n",
      "A value is trying to be set on a copy of a slice from a DataFrame\n",
      "\n",
      "See the caveats in the documentation: https://pandas.pydata.org/pandas-docs/stable/user_guide/indexing.html#returning-a-view-versus-a-copy\n",
      "  df['clean_genres'][11796] = \"classical\"\n",
      "<ipython-input-15-030fec7978d1>:14: SettingWithCopyWarning: \n",
      "A value is trying to be set on a copy of a slice from a DataFrame\n",
      "\n",
      "See the caveats in the documentation: https://pandas.pydata.org/pandas-docs/stable/user_guide/indexing.html#returning-a-view-versus-a-copy\n",
      "  df['clean_genres'][14401] = \"classical\"\n",
      "<ipython-input-15-030fec7978d1>:15: SettingWithCopyWarning: \n",
      "A value is trying to be set on a copy of a slice from a DataFrame\n",
      "\n",
      "See the caveats in the documentation: https://pandas.pydata.org/pandas-docs/stable/user_guide/indexing.html#returning-a-view-versus-a-copy\n",
      "  df['clean_genres'][15537] = \"jazz\"\n",
      "<ipython-input-15-030fec7978d1>:16: SettingWithCopyWarning: \n",
      "A value is trying to be set on a copy of a slice from a DataFrame\n",
      "\n",
      "See the caveats in the documentation: https://pandas.pydata.org/pandas-docs/stable/user_guide/indexing.html#returning-a-view-versus-a-copy\n",
      "  df['clean_genres'][16049] = \"jazz\"\n"
     ]
    }
   ],
   "source": [
    "df['clean_genres'][257] = \"country\"\n",
    "df['clean_genres'][13913] = \"rap\"\n",
    "df['clean_genres'][17827] = \"rap\"\n",
    "df['clean_genres'][2016] = \"country\"\n",
    "df['clean_genres'][4641] = \"jazz\"\n",
    "df['clean_genres'][7858] = \"jazz\"\n",
    "df['clean_genres'][9923] = \"jazz\"\n",
    "df['clean_genres'][4954] = \"jazz\"\n",
    "df['clean_genres'][938] = \"classical\"\n",
    "df['clean_genres'][1677] = \"classical\"\n",
    "df['clean_genres'][8049] = \"jazz\"\n",
    "df['clean_genres'][9799] = \"jazz\"\n",
    "df['clean_genres'][11796] = \"classical\"\n",
    "df['clean_genres'][14401] = \"classical\"\n",
    "df['clean_genres'][15537] = \"jazz\"\n",
    "df['clean_genres'][16049] = \"jazz\""
   ]
  },
  {
   "cell_type": "code",
   "execution_count": 16,
   "metadata": {},
   "outputs": [],
   "source": [
    "df['duration_sec'] = round(df['duration_ms']/1000,2)"
   ]
  },
  {
   "cell_type": "code",
   "execution_count": 17,
   "metadata": {},
   "outputs": [
    {
     "data": {
      "text/html": [
       "<div>\n",
       "<style scoped>\n",
       "    .dataframe tbody tr th:only-of-type {\n",
       "        vertical-align: middle;\n",
       "    }\n",
       "\n",
       "    .dataframe tbody tr th {\n",
       "        vertical-align: top;\n",
       "    }\n",
       "\n",
       "    .dataframe thead th {\n",
       "        text-align: right;\n",
       "    }\n",
       "</style>\n",
       "<table border=\"1\" class=\"dataframe\">\n",
       "  <thead>\n",
       "    <tr style=\"text-align: right;\">\n",
       "      <th></th>\n",
       "      <th>artists</th>\n",
       "      <th>genres</th>\n",
       "      <th>rap</th>\n",
       "      <th>country</th>\n",
       "      <th>classical</th>\n",
       "      <th>jazz</th>\n",
       "      <th>clean_genres</th>\n",
       "    </tr>\n",
       "  </thead>\n",
       "  <tbody>\n",
       "    <tr>\n",
       "      <th>91</th>\n",
       "      <td>5th Ward Boyz</td>\n",
       "      <td>['dirty south rap', 'dirty texas rap', 'gangster rap', 'houston rap']</td>\n",
       "      <td>4</td>\n",
       "      <td>0</td>\n",
       "      <td>0</td>\n",
       "      <td>0</td>\n",
       "      <td>rap</td>\n",
       "    </tr>\n",
       "    <tr>\n",
       "      <th>194</th>\n",
       "      <td>Aaron Copland</td>\n",
       "      <td>['american modern classical', 'classical', 'early modern classical']</td>\n",
       "      <td>0</td>\n",
       "      <td>0</td>\n",
       "      <td>3</td>\n",
       "      <td>0</td>\n",
       "      <td>classical</td>\n",
       "    </tr>\n",
       "    <tr>\n",
       "      <th>197</th>\n",
       "      <td>Aaron Lewis</td>\n",
       "      <td>['contemporary country', 'country', 'country road', 'modern country rock', 'outlaw country', 're...</td>\n",
       "      <td>0</td>\n",
       "      <td>5</td>\n",
       "      <td>0</td>\n",
       "      <td>0</td>\n",
       "      <td>country</td>\n",
       "    </tr>\n",
       "    <tr>\n",
       "      <th>204</th>\n",
       "      <td>Aaron Watson</td>\n",
       "      <td>['contemporary country', 'country', 'country road', 'modern country rock', 'texas country']</td>\n",
       "      <td>0</td>\n",
       "      <td>5</td>\n",
       "      <td>0</td>\n",
       "      <td>0</td>\n",
       "      <td>country</td>\n",
       "    </tr>\n",
       "    <tr>\n",
       "      <th>236</th>\n",
       "      <td>Ace</td>\n",
       "      <td>['dirty south rap', 'gangster rap', 'hip hop', 'miami hip hop', 'pop rap', 'rap', 'southern hip ...</td>\n",
       "      <td>3</td>\n",
       "      <td>0</td>\n",
       "      <td>0</td>\n",
       "      <td>0</td>\n",
       "      <td>rap</td>\n",
       "    </tr>\n",
       "    <tr>\n",
       "      <th>...</th>\n",
       "      <td>...</td>\n",
       "      <td>...</td>\n",
       "      <td>...</td>\n",
       "      <td>...</td>\n",
       "      <td>...</td>\n",
       "      <td>...</td>\n",
       "      <td>...</td>\n",
       "    </tr>\n",
       "    <tr>\n",
       "      <th>18727</th>\n",
       "      <td>Zoot Sims</td>\n",
       "      <td>['bebop', 'contemporary post-bop', 'cool jazz', 'hard bop', 'jazz', 'jazz saxophone', 'soul jazz...</td>\n",
       "      <td>0</td>\n",
       "      <td>0</td>\n",
       "      <td>0</td>\n",
       "      <td>4</td>\n",
       "      <td>jazz</td>\n",
       "    </tr>\n",
       "    <tr>\n",
       "      <th>18771</th>\n",
       "      <td>convolk</td>\n",
       "      <td>['dark trap', 'emo rap', 'melodic rap', 'sad rap']</td>\n",
       "      <td>3</td>\n",
       "      <td>0</td>\n",
       "      <td>0</td>\n",
       "      <td>0</td>\n",
       "      <td>rap</td>\n",
       "    </tr>\n",
       "    <tr>\n",
       "      <th>18807</th>\n",
       "      <td>ilyTOMMY</td>\n",
       "      <td>['emo rap', 'sad rap', 'viral rap']</td>\n",
       "      <td>3</td>\n",
       "      <td>0</td>\n",
       "      <td>0</td>\n",
       "      <td>0</td>\n",
       "      <td>rap</td>\n",
       "    </tr>\n",
       "    <tr>\n",
       "      <th>18834</th>\n",
       "      <td>nothing,nowhere.</td>\n",
       "      <td>['emo rap', 'pop rap', 'sad rap']</td>\n",
       "      <td>3</td>\n",
       "      <td>0</td>\n",
       "      <td>0</td>\n",
       "      <td>0</td>\n",
       "      <td>rap</td>\n",
       "    </tr>\n",
       "    <tr>\n",
       "      <th>18883</th>\n",
       "      <td>Ólafur Arnalds</td>\n",
       "      <td>['bow pop', 'compositional ambient', 'icelandic classical', 'neo-classical', 'neoclassical darkw...</td>\n",
       "      <td>0</td>\n",
       "      <td>0</td>\n",
       "      <td>3</td>\n",
       "      <td>0</td>\n",
       "      <td>classical</td>\n",
       "    </tr>\n",
       "  </tbody>\n",
       "</table>\n",
       "<p>680 rows × 7 columns</p>\n",
       "</div>"
      ],
      "text/plain": [
       "                artists  \\\n",
       "91        5th Ward Boyz   \n",
       "194       Aaron Copland   \n",
       "197         Aaron Lewis   \n",
       "204        Aaron Watson   \n",
       "236                 Ace   \n",
       "...                 ...   \n",
       "18727         Zoot Sims   \n",
       "18771           convolk   \n",
       "18807          ilyTOMMY   \n",
       "18834  nothing,nowhere.   \n",
       "18883    Ólafur Arnalds   \n",
       "\n",
       "                                                                                                    genres  \\\n",
       "91                                   ['dirty south rap', 'dirty texas rap', 'gangster rap', 'houston rap']   \n",
       "194                                   ['american modern classical', 'classical', 'early modern classical']   \n",
       "197    ['contemporary country', 'country', 'country road', 'modern country rock', 'outlaw country', 're...   \n",
       "204            ['contemporary country', 'country', 'country road', 'modern country rock', 'texas country']   \n",
       "236    ['dirty south rap', 'gangster rap', 'hip hop', 'miami hip hop', 'pop rap', 'rap', 'southern hip ...   \n",
       "...                                                                                                    ...   \n",
       "18727  ['bebop', 'contemporary post-bop', 'cool jazz', 'hard bop', 'jazz', 'jazz saxophone', 'soul jazz...   \n",
       "18771                                                   ['dark trap', 'emo rap', 'melodic rap', 'sad rap']   \n",
       "18807                                                                  ['emo rap', 'sad rap', 'viral rap']   \n",
       "18834                                                                    ['emo rap', 'pop rap', 'sad rap']   \n",
       "18883  ['bow pop', 'compositional ambient', 'icelandic classical', 'neo-classical', 'neoclassical darkw...   \n",
       "\n",
       "       rap  country  classical  jazz clean_genres  \n",
       "91       4        0          0     0          rap  \n",
       "194      0        0          3     0    classical  \n",
       "197      0        5          0     0      country  \n",
       "204      0        5          0     0      country  \n",
       "236      3        0          0     0          rap  \n",
       "...    ...      ...        ...   ...          ...  \n",
       "18727    0        0          0     4         jazz  \n",
       "18771    3        0          0     0          rap  \n",
       "18807    3        0          0     0          rap  \n",
       "18834    3        0          0     0          rap  \n",
       "18883    0        0          3     0    classical  \n",
       "\n",
       "[680 rows x 7 columns]"
      ]
     },
     "execution_count": 17,
     "metadata": {},
     "output_type": "execute_result"
    }
   ],
   "source": [
    "df[['artists','genres','rap','country','classical', 'jazz','clean_genres']][(df.rap > 2) | (df['country'] > 3) | (df['classical'] > 2) | (df['jazz'] > 2)]"
   ]
  },
  {
   "cell_type": "markdown",
   "metadata": {},
   "source": [
    "## Basic EDA"
   ]
  },
  {
   "cell_type": "code",
   "execution_count": 18,
   "metadata": {},
   "outputs": [],
   "source": [
    "genres_df = df.copy()\n",
    "genres_df.reset_index(inplace=True)"
   ]
  },
  {
   "cell_type": "code",
   "execution_count": 19,
   "metadata": {},
   "outputs": [],
   "source": [
    "genres_df = genres_df.drop('index', axis=1)"
   ]
  },
  {
   "cell_type": "code",
   "execution_count": 20,
   "metadata": {},
   "outputs": [],
   "source": [
    "## dropped count because it is the count of songs that the artist has in the dataset\n",
    "genres_df.drop('count', axis=1, inplace=True)"
   ]
  },
  {
   "cell_type": "code",
   "execution_count": 21,
   "metadata": {},
   "outputs": [
    {
     "data": {
      "image/png": "[encoded data removed]",
      "text/plain": [
       "<Figure size 1152x648 with 1 Axes>"
      ]
     },
     "metadata": {},
     "output_type": "display_data"
    }
   ],
   "source": [
    "#number of artists per genre\n",
    "\n",
    "fig, ax = plt.subplots(figsize=(16,9))\n",
    "sns.barplot(x=genres_df.clean_genres.value_counts().index, y=genres_df.clean_genres.value_counts().values);\n",
    "ax.set_ylabel('Artist Counts')\n",
    "ax.set_xlabel('Genre')\n",
    "ax.set_title('# of Artists by Genre');"
   ]
  },
  {
   "cell_type": "code",
   "execution_count": 22,
   "metadata": {},
   "outputs": [
    {
     "data": {
      "image/png": "[encoded data removed]",
      "text/plain": [
       "<Figure size 432x432 with 1 Axes>"
      ]
     },
     "metadata": {},
     "output_type": "display_data"
    }
   ],
   "source": [
    "## distribution of duration by each genre\n",
    "\n",
    "fig, ax = plt.subplots(figsize=(6,6))\n",
    "sns.boxplot(x=genres_df.clean_genres,y=genres_df.duration_sec);"
   ]
  },
  {
   "cell_type": "code",
   "execution_count": 23,
   "metadata": {},
   "outputs": [
    {
     "data": {
      "image/png": "[encoded data removed]",
      "text/plain": [
       "<Figure size 432x432 with 1 Axes>"
      ]
     },
     "metadata": {},
     "output_type": "display_data"
    }
   ],
   "source": [
    "## Mean of duration for each genre\n",
    "fig, ax = plt.subplots(figsize=(6,6))\n",
    "sns.barplot(x=genres_df.groupby('clean_genres')['duration_sec'].mean().index, y=genres_df.groupby('clean_genres')['duration_sec'].mean().values);\n",
    "ax.set_ylabel(\"Duration (Sec)\")\n",
    "ax.set_xlabel(\"Genres\")\n",
    "ax.set_title('Duration by Genre');"
   ]
  },
  {
   "cell_type": "code",
   "execution_count": 24,
   "metadata": {},
   "outputs": [
    {
     "data": {
      "text/plain": [
       "Text(0.5, 1.0, 'Popularity by Genre')"
      ]
     },
     "execution_count": 24,
     "metadata": {},
     "output_type": "execute_result"
    },
    {
     "data": {
      "image/png": "[encoded data removed]",
      "text/plain": [
       "<Figure size 432x432 with 1 Axes>"
      ]
     },
     "metadata": {},
     "output_type": "display_data"
    }
   ],
   "source": [
    "## Median of popularity for each genre\n",
    "fig, ax = plt.subplots(figsize=(6,6))\n",
    "sns.barplot(x=genres_df.groupby('clean_genres')['popularity'].median().index, y=genres_df.groupby('clean_genres')['popularity'].median().values);\n",
    "ax.set_ylabel(\"Popularity\")\n",
    "ax.set_xlabel(\"Genres\")\n",
    "ax.set_title('Popularity by Genre')"
   ]
  },
  {
   "cell_type": "code",
   "execution_count": 25,
   "metadata": {},
   "outputs": [
    {
     "data": {
      "image/png": "[encoded data removed]",
      "text/plain": [
       "<Figure size 576x396 with 1 Axes>"
      ]
     },
     "metadata": {},
     "output_type": "display_data"
    },
    {
     "data": {
      "image/png": "[encoded data removed]",
      "text/plain": [
       "<Figure size 576x396 with 1 Axes>"
      ]
     },
     "metadata": {},
     "output_type": "display_data"
    },
    {
     "data": {
      "image/png": "[encoded data removed]",
      "text/plain": [
       "<Figure size 576x396 with 1 Axes>"
      ]
     },
     "metadata": {},
     "output_type": "display_data"
    },
    {
     "data": {
      "image/png": "[encoded data removed]",
      "text/plain": [
       "<Figure size 576x396 with 1 Axes>"
      ]
     },
     "metadata": {},
     "output_type": "display_data"
    }
   ],
   "source": [
    "plot1 = plt.figure(1)\n",
    "sns.histplot(genres_df[genres_df.clean_genres == 'rap'].popularity).set_title(\"Rap Artists Popularity\")\n",
    "\n",
    "plot2 = plt.figure(2)\n",
    "sns.histplot(genres_df[genres_df.clean_genres == 'country'].popularity).set_title(\"Country Artists Popularity\")\n",
    "\n",
    "plot3 = plt.figure(3)\n",
    "sns.histplot(genres_df[genres_df.clean_genres == 'classical'].popularity).set_title(\"Classical Artists Popularity\")\n",
    "\n",
    "plot4 = plt.figure(4)\n",
    "sns.histplot(genres_df[genres_df.clean_genres == 'jazz'].popularity).set_title(\"Jazz Artists Popularity\")\n",
    "\n",
    "\n",
    "\n",
    "plt.show()"
   ]
  },
  {
   "cell_type": "code",
   "execution_count": 26,
   "metadata": {},
   "outputs": [],
   "source": [
    "genres_df = pd.get_dummies(data=genres_df,columns=['key'],drop_first=True)"
   ]
  },
  {
   "cell_type": "code",
   "execution_count": 27,
   "metadata": {},
   "outputs": [],
   "source": [
    "conditons = [genres_df['clean_genres'] == 'rap' ,\n",
    "             genres_df['clean_genres'] == 'country',\n",
    "             genres_df['clean_genres'] == 'classical',\n",
    "             genres_df['clean_genres'] == 'jazz'\n",
    "]\n",
    "\n",
    "choices = [0,\n",
    "           1,\n",
    "           2,\n",
    "           3\n",
    "           \n",
    "]\n",
    "\n",
    "genres_df['clean_genres'] = np.select(conditons, choices)"
   ]
  },
  {
   "cell_type": "code",
   "execution_count": 28,
   "metadata": {},
   "outputs": [],
   "source": [
    "y = genres_df['clean_genres']\n",
    "artists = genres_df['artists']"
   ]
  },
  {
   "cell_type": "code",
   "execution_count": 29,
   "metadata": {},
   "outputs": [],
   "source": [
    "#Drops the target value from the X df, and also removes multicollierity columns\n",
    "X = genres_df.drop(columns = ['genres','clean_genres','rap','country','classical','jazz', 'duration_ms','artists'])"
   ]
  },
  {
   "cell_type": "code",
   "execution_count": 30,
   "metadata": {},
   "outputs": [
    {
     "data": {
      "text/html": [
       "<div>\n",
       "<style scoped>\n",
       "    .dataframe tbody tr th:only-of-type {\n",
       "        vertical-align: middle;\n",
       "    }\n",
       "\n",
       "    .dataframe tbody tr th {\n",
       "        vertical-align: top;\n",
       "    }\n",
       "\n",
       "    .dataframe thead th {\n",
       "        text-align: right;\n",
       "    }\n",
       "</style>\n",
       "<table border=\"1\" class=\"dataframe\">\n",
       "  <thead>\n",
       "    <tr style=\"text-align: right;\">\n",
       "      <th></th>\n",
       "      <th>acousticness</th>\n",
       "      <th>danceability</th>\n",
       "      <th>energy</th>\n",
       "      <th>instrumentalness</th>\n",
       "      <th>liveness</th>\n",
       "      <th>loudness</th>\n",
       "      <th>speechiness</th>\n",
       "      <th>tempo</th>\n",
       "      <th>valence</th>\n",
       "      <th>popularity</th>\n",
       "      <th>mode</th>\n",
       "      <th>clean_genres</th>\n",
       "      <th>duration_sec</th>\n",
       "      <th>key_1</th>\n",
       "      <th>key_2</th>\n",
       "      <th>key_3</th>\n",
       "      <th>key_4</th>\n",
       "      <th>key_5</th>\n",
       "      <th>key_6</th>\n",
       "      <th>key_7</th>\n",
       "      <th>key_8</th>\n",
       "      <th>key_9</th>\n",
       "      <th>key_10</th>\n",
       "      <th>key_11</th>\n",
       "    </tr>\n",
       "  </thead>\n",
       "  <tbody>\n",
       "    <tr>\n",
       "      <th>acousticness</th>\n",
       "      <td>1.000000</td>\n",
       "      <td>-0.640637</td>\n",
       "      <td>-0.852734</td>\n",
       "      <td>0.474671</td>\n",
       "      <td>-0.057362</td>\n",
       "      <td>-0.742169</td>\n",
       "      <td>-0.352251</td>\n",
       "      <td>-0.303287</td>\n",
       "      <td>-0.443461</td>\n",
       "      <td>-0.495514</td>\n",
       "      <td>0.130139</td>\n",
       "      <td>0.577749</td>\n",
       "      <td>0.105000</td>\n",
       "      <td>-0.149881</td>\n",
       "      <td>0.046242</td>\n",
       "      <td>0.123078</td>\n",
       "      <td>-0.013442</td>\n",
       "      <td>0.124670</td>\n",
       "      <td>-0.075400</td>\n",
       "      <td>0.024478</td>\n",
       "      <td>0.002481</td>\n",
       "      <td>-0.016906</td>\n",
       "      <td>0.009778</td>\n",
       "      <td>-0.140107</td>\n",
       "    </tr>\n",
       "    <tr>\n",
       "      <th>danceability</th>\n",
       "      <td>-0.640637</td>\n",
       "      <td>1.000000</td>\n",
       "      <td>0.598596</td>\n",
       "      <td>-0.438412</td>\n",
       "      <td>-0.043839</td>\n",
       "      <td>0.643984</td>\n",
       "      <td>0.457486</td>\n",
       "      <td>0.213374</td>\n",
       "      <td>0.637346</td>\n",
       "      <td>0.394512</td>\n",
       "      <td>-0.121580</td>\n",
       "      <td>-0.447665</td>\n",
       "      <td>-0.256139</td>\n",
       "      <td>0.138757</td>\n",
       "      <td>-0.100284</td>\n",
       "      <td>-0.095755</td>\n",
       "      <td>-0.014861</td>\n",
       "      <td>-0.035423</td>\n",
       "      <td>0.058113</td>\n",
       "      <td>-0.021258</td>\n",
       "      <td>0.020706</td>\n",
       "      <td>-0.035722</td>\n",
       "      <td>0.019286</td>\n",
       "      <td>0.099902</td>\n",
       "    </tr>\n",
       "    <tr>\n",
       "      <th>energy</th>\n",
       "      <td>-0.852734</td>\n",
       "      <td>0.598596</td>\n",
       "      <td>1.000000</td>\n",
       "      <td>-0.477266</td>\n",
       "      <td>0.171266</td>\n",
       "      <td>0.865607</td>\n",
       "      <td>0.304125</td>\n",
       "      <td>0.355211</td>\n",
       "      <td>0.588328</td>\n",
       "      <td>0.369784</td>\n",
       "      <td>-0.107584</td>\n",
       "      <td>-0.470329</td>\n",
       "      <td>-0.116576</td>\n",
       "      <td>0.088512</td>\n",
       "      <td>-0.043957</td>\n",
       "      <td>-0.103642</td>\n",
       "      <td>-0.000787</td>\n",
       "      <td>-0.087335</td>\n",
       "      <td>0.079946</td>\n",
       "      <td>-0.007067</td>\n",
       "      <td>0.000960</td>\n",
       "      <td>0.024292</td>\n",
       "      <td>-0.014478</td>\n",
       "      <td>0.114901</td>\n",
       "    </tr>\n",
       "    <tr>\n",
       "      <th>instrumentalness</th>\n",
       "      <td>0.474671</td>\n",
       "      <td>-0.438412</td>\n",
       "      <td>-0.477266</td>\n",
       "      <td>1.000000</td>\n",
       "      <td>-0.126352</td>\n",
       "      <td>-0.600671</td>\n",
       "      <td>-0.296504</td>\n",
       "      <td>-0.155957</td>\n",
       "      <td>-0.374890</td>\n",
       "      <td>-0.309842</td>\n",
       "      <td>-0.021186</td>\n",
       "      <td>0.456556</td>\n",
       "      <td>0.235983</td>\n",
       "      <td>-0.060178</td>\n",
       "      <td>0.023987</td>\n",
       "      <td>0.065968</td>\n",
       "      <td>-0.024963</td>\n",
       "      <td>0.020497</td>\n",
       "      <td>-0.050661</td>\n",
       "      <td>0.008832</td>\n",
       "      <td>-0.007205</td>\n",
       "      <td>0.014196</td>\n",
       "      <td>0.013709</td>\n",
       "      <td>-0.067225</td>\n",
       "    </tr>\n",
       "    <tr>\n",
       "      <th>liveness</th>\n",
       "      <td>-0.057362</td>\n",
       "      <td>-0.043839</td>\n",
       "      <td>0.171266</td>\n",
       "      <td>-0.126352</td>\n",
       "      <td>1.000000</td>\n",
       "      <td>0.142570</td>\n",
       "      <td>0.140124</td>\n",
       "      <td>0.022637</td>\n",
       "      <td>0.060864</td>\n",
       "      <td>-0.147958</td>\n",
       "      <td>0.027486</td>\n",
       "      <td>-0.032673</td>\n",
       "      <td>0.021153</td>\n",
       "      <td>-0.021108</td>\n",
       "      <td>0.015890</td>\n",
       "      <td>-0.023685</td>\n",
       "      <td>-0.018537</td>\n",
       "      <td>0.034685</td>\n",
       "      <td>0.021112</td>\n",
       "      <td>-0.031552</td>\n",
       "      <td>0.015441</td>\n",
       "      <td>0.014979</td>\n",
       "      <td>-0.009154</td>\n",
       "      <td>-0.004973</td>\n",
       "    </tr>\n",
       "    <tr>\n",
       "      <th>loudness</th>\n",
       "      <td>-0.742169</td>\n",
       "      <td>0.643984</td>\n",
       "      <td>0.865607</td>\n",
       "      <td>-0.600671</td>\n",
       "      <td>0.142570</td>\n",
       "      <td>1.000000</td>\n",
       "      <td>0.301038</td>\n",
       "      <td>0.328462</td>\n",
       "      <td>0.551588</td>\n",
       "      <td>0.335458</td>\n",
       "      <td>-0.066460</td>\n",
       "      <td>-0.454822</td>\n",
       "      <td>-0.150877</td>\n",
       "      <td>0.079084</td>\n",
       "      <td>-0.050550</td>\n",
       "      <td>-0.089361</td>\n",
       "      <td>0.001063</td>\n",
       "      <td>-0.047795</td>\n",
       "      <td>0.070428</td>\n",
       "      <td>-0.018898</td>\n",
       "      <td>0.009341</td>\n",
       "      <td>-0.004046</td>\n",
       "      <td>-0.002010</td>\n",
       "      <td>0.088273</td>\n",
       "    </tr>\n",
       "    <tr>\n",
       "      <th>speechiness</th>\n",
       "      <td>-0.352251</td>\n",
       "      <td>0.457486</td>\n",
       "      <td>0.304125</td>\n",
       "      <td>-0.296504</td>\n",
       "      <td>0.140124</td>\n",
       "      <td>0.301038</td>\n",
       "      <td>1.000000</td>\n",
       "      <td>0.067932</td>\n",
       "      <td>0.191893</td>\n",
       "      <td>0.243484</td>\n",
       "      <td>-0.109142</td>\n",
       "      <td>-0.465579</td>\n",
       "      <td>-0.108829</td>\n",
       "      <td>0.184851</td>\n",
       "      <td>-0.060768</td>\n",
       "      <td>-0.060835</td>\n",
       "      <td>0.000277</td>\n",
       "      <td>-0.063876</td>\n",
       "      <td>0.076009</td>\n",
       "      <td>-0.059099</td>\n",
       "      <td>0.011802</td>\n",
       "      <td>-0.060317</td>\n",
       "      <td>0.035175</td>\n",
       "      <td>0.092526</td>\n",
       "    </tr>\n",
       "    <tr>\n",
       "      <th>tempo</th>\n",
       "      <td>-0.303287</td>\n",
       "      <td>0.213374</td>\n",
       "      <td>0.355211</td>\n",
       "      <td>-0.155957</td>\n",
       "      <td>0.022637</td>\n",
       "      <td>0.328462</td>\n",
       "      <td>0.067932</td>\n",
       "      <td>1.000000</td>\n",
       "      <td>0.280975</td>\n",
       "      <td>0.150223</td>\n",
       "      <td>-0.006365</td>\n",
       "      <td>-0.162536</td>\n",
       "      <td>-0.128038</td>\n",
       "      <td>-0.002422</td>\n",
       "      <td>-0.008824</td>\n",
       "      <td>-0.020717</td>\n",
       "      <td>0.022357</td>\n",
       "      <td>-0.035659</td>\n",
       "      <td>0.011248</td>\n",
       "      <td>-0.019741</td>\n",
       "      <td>0.001925</td>\n",
       "      <td>0.046703</td>\n",
       "      <td>-0.012661</td>\n",
       "      <td>0.016407</td>\n",
       "    </tr>\n",
       "    <tr>\n",
       "      <th>valence</th>\n",
       "      <td>-0.443461</td>\n",
       "      <td>0.637346</td>\n",
       "      <td>0.588328</td>\n",
       "      <td>-0.374890</td>\n",
       "      <td>0.060864</td>\n",
       "      <td>0.551588</td>\n",
       "      <td>0.191893</td>\n",
       "      <td>0.280975</td>\n",
       "      <td>1.000000</td>\n",
       "      <td>0.163200</td>\n",
       "      <td>-0.026051</td>\n",
       "      <td>-0.168948</td>\n",
       "      <td>-0.249777</td>\n",
       "      <td>-0.024877</td>\n",
       "      <td>-0.062354</td>\n",
       "      <td>-0.072059</td>\n",
       "      <td>-0.011965</td>\n",
       "      <td>0.027206</td>\n",
       "      <td>0.038647</td>\n",
       "      <td>0.041060</td>\n",
       "      <td>-0.004115</td>\n",
       "      <td>0.022224</td>\n",
       "      <td>-0.008212</td>\n",
       "      <td>0.033963</td>\n",
       "    </tr>\n",
       "    <tr>\n",
       "      <th>popularity</th>\n",
       "      <td>-0.495514</td>\n",
       "      <td>0.394512</td>\n",
       "      <td>0.369784</td>\n",
       "      <td>-0.309842</td>\n",
       "      <td>-0.147958</td>\n",
       "      <td>0.335458</td>\n",
       "      <td>0.243484</td>\n",
       "      <td>0.150223</td>\n",
       "      <td>0.163200</td>\n",
       "      <td>1.000000</td>\n",
       "      <td>-0.119744</td>\n",
       "      <td>-0.471184</td>\n",
       "      <td>-0.145586</td>\n",
       "      <td>0.136444</td>\n",
       "      <td>-0.020342</td>\n",
       "      <td>-0.049911</td>\n",
       "      <td>0.003248</td>\n",
       "      <td>-0.087693</td>\n",
       "      <td>0.055400</td>\n",
       "      <td>-0.006105</td>\n",
       "      <td>0.007185</td>\n",
       "      <td>-0.019864</td>\n",
       "      <td>-0.014243</td>\n",
       "      <td>0.093769</td>\n",
       "    </tr>\n",
       "    <tr>\n",
       "      <th>mode</th>\n",
       "      <td>0.130139</td>\n",
       "      <td>-0.121580</td>\n",
       "      <td>-0.107584</td>\n",
       "      <td>-0.021186</td>\n",
       "      <td>0.027486</td>\n",
       "      <td>-0.066460</td>\n",
       "      <td>-0.109142</td>\n",
       "      <td>-0.006365</td>\n",
       "      <td>-0.026051</td>\n",
       "      <td>-0.119744</td>\n",
       "      <td>1.000000</td>\n",
       "      <td>0.032642</td>\n",
       "      <td>-0.045890</td>\n",
       "      <td>0.024127</td>\n",
       "      <td>0.054938</td>\n",
       "      <td>0.030141</td>\n",
       "      <td>-0.073150</td>\n",
       "      <td>-0.009790</td>\n",
       "      <td>-0.042761</td>\n",
       "      <td>0.085782</td>\n",
       "      <td>0.015236</td>\n",
       "      <td>0.002293</td>\n",
       "      <td>-0.102617</td>\n",
       "      <td>-0.101059</td>\n",
       "    </tr>\n",
       "    <tr>\n",
       "      <th>clean_genres</th>\n",
       "      <td>0.577749</td>\n",
       "      <td>-0.447665</td>\n",
       "      <td>-0.470329</td>\n",
       "      <td>0.456556</td>\n",
       "      <td>-0.032673</td>\n",
       "      <td>-0.454822</td>\n",
       "      <td>-0.465579</td>\n",
       "      <td>-0.162536</td>\n",
       "      <td>-0.168948</td>\n",
       "      <td>-0.471184</td>\n",
       "      <td>0.032642</td>\n",
       "      <td>1.000000</td>\n",
       "      <td>0.192085</td>\n",
       "      <td>-0.179429</td>\n",
       "      <td>-0.010893</td>\n",
       "      <td>0.070130</td>\n",
       "      <td>-0.039963</td>\n",
       "      <td>0.186686</td>\n",
       "      <td>-0.062210</td>\n",
       "      <td>0.034009</td>\n",
       "      <td>-0.002073</td>\n",
       "      <td>-0.005232</td>\n",
       "      <td>0.001907</td>\n",
       "      <td>-0.111782</td>\n",
       "    </tr>\n",
       "    <tr>\n",
       "      <th>duration_sec</th>\n",
       "      <td>0.105000</td>\n",
       "      <td>-0.256139</td>\n",
       "      <td>-0.116576</td>\n",
       "      <td>0.235983</td>\n",
       "      <td>0.021153</td>\n",
       "      <td>-0.150877</td>\n",
       "      <td>-0.108829</td>\n",
       "      <td>-0.128038</td>\n",
       "      <td>-0.249777</td>\n",
       "      <td>-0.145586</td>\n",
       "      <td>-0.045890</td>\n",
       "      <td>0.192085</td>\n",
       "      <td>1.000000</td>\n",
       "      <td>-0.029521</td>\n",
       "      <td>0.032730</td>\n",
       "      <td>-0.009295</td>\n",
       "      <td>-0.029571</td>\n",
       "      <td>0.022722</td>\n",
       "      <td>-0.030559</td>\n",
       "      <td>-0.010460</td>\n",
       "      <td>-0.021616</td>\n",
       "      <td>0.016754</td>\n",
       "      <td>0.025520</td>\n",
       "      <td>0.013773</td>\n",
       "    </tr>\n",
       "    <tr>\n",
       "      <th>key_1</th>\n",
       "      <td>-0.149881</td>\n",
       "      <td>0.138757</td>\n",
       "      <td>0.088512</td>\n",
       "      <td>-0.060178</td>\n",
       "      <td>-0.021108</td>\n",
       "      <td>0.079084</td>\n",
       "      <td>0.184851</td>\n",
       "      <td>-0.002422</td>\n",
       "      <td>-0.024877</td>\n",
       "      <td>0.136444</td>\n",
       "      <td>0.024127</td>\n",
       "      <td>-0.179429</td>\n",
       "      <td>-0.029521</td>\n",
       "      <td>1.000000</td>\n",
       "      <td>-0.108721</td>\n",
       "      <td>-0.060291</td>\n",
       "      <td>-0.084358</td>\n",
       "      <td>-0.110355</td>\n",
       "      <td>-0.076953</td>\n",
       "      <td>-0.135489</td>\n",
       "      <td>-0.071187</td>\n",
       "      <td>-0.098190</td>\n",
       "      <td>-0.092017</td>\n",
       "      <td>-0.083159</td>\n",
       "    </tr>\n",
       "    <tr>\n",
       "      <th>key_2</th>\n",
       "      <td>0.046242</td>\n",
       "      <td>-0.100284</td>\n",
       "      <td>-0.043957</td>\n",
       "      <td>0.023987</td>\n",
       "      <td>0.015890</td>\n",
       "      <td>-0.050550</td>\n",
       "      <td>-0.060768</td>\n",
       "      <td>-0.008824</td>\n",
       "      <td>-0.062354</td>\n",
       "      <td>-0.020342</td>\n",
       "      <td>0.054938</td>\n",
       "      <td>-0.010893</td>\n",
       "      <td>0.032730</td>\n",
       "      <td>-0.108721</td>\n",
       "      <td>1.000000</td>\n",
       "      <td>-0.065949</td>\n",
       "      <td>-0.092275</td>\n",
       "      <td>-0.120711</td>\n",
       "      <td>-0.084175</td>\n",
       "      <td>-0.148204</td>\n",
       "      <td>-0.077867</td>\n",
       "      <td>-0.107404</td>\n",
       "      <td>-0.100652</td>\n",
       "      <td>-0.090963</td>\n",
       "    </tr>\n",
       "    <tr>\n",
       "      <th>key_3</th>\n",
       "      <td>0.123078</td>\n",
       "      <td>-0.095755</td>\n",
       "      <td>-0.103642</td>\n",
       "      <td>0.065968</td>\n",
       "      <td>-0.023685</td>\n",
       "      <td>-0.089361</td>\n",
       "      <td>-0.060835</td>\n",
       "      <td>-0.020717</td>\n",
       "      <td>-0.072059</td>\n",
       "      <td>-0.049911</td>\n",
       "      <td>0.030141</td>\n",
       "      <td>0.070130</td>\n",
       "      <td>-0.009295</td>\n",
       "      <td>-0.060291</td>\n",
       "      <td>-0.065949</td>\n",
       "      <td>1.000000</td>\n",
       "      <td>-0.051170</td>\n",
       "      <td>-0.066940</td>\n",
       "      <td>-0.046679</td>\n",
       "      <td>-0.082185</td>\n",
       "      <td>-0.043181</td>\n",
       "      <td>-0.059560</td>\n",
       "      <td>-0.055816</td>\n",
       "      <td>-0.050443</td>\n",
       "    </tr>\n",
       "    <tr>\n",
       "      <th>key_4</th>\n",
       "      <td>-0.013442</td>\n",
       "      <td>-0.014861</td>\n",
       "      <td>-0.000787</td>\n",
       "      <td>-0.024963</td>\n",
       "      <td>-0.018537</td>\n",
       "      <td>0.001063</td>\n",
       "      <td>0.000277</td>\n",
       "      <td>0.022357</td>\n",
       "      <td>-0.011965</td>\n",
       "      <td>0.003248</td>\n",
       "      <td>-0.073150</td>\n",
       "      <td>-0.039963</td>\n",
       "      <td>-0.029571</td>\n",
       "      <td>-0.084358</td>\n",
       "      <td>-0.092275</td>\n",
       "      <td>-0.051170</td>\n",
       "      <td>1.000000</td>\n",
       "      <td>-0.093661</td>\n",
       "      <td>-0.065313</td>\n",
       "      <td>-0.114993</td>\n",
       "      <td>-0.060418</td>\n",
       "      <td>-0.083337</td>\n",
       "      <td>-0.078098</td>\n",
       "      <td>-0.070579</td>\n",
       "    </tr>\n",
       "    <tr>\n",
       "      <th>key_5</th>\n",
       "      <td>0.124670</td>\n",
       "      <td>-0.035423</td>\n",
       "      <td>-0.087335</td>\n",
       "      <td>0.020497</td>\n",
       "      <td>0.034685</td>\n",
       "      <td>-0.047795</td>\n",
       "      <td>-0.063876</td>\n",
       "      <td>-0.035659</td>\n",
       "      <td>0.027206</td>\n",
       "      <td>-0.087693</td>\n",
       "      <td>-0.009790</td>\n",
       "      <td>0.186686</td>\n",
       "      <td>0.022722</td>\n",
       "      <td>-0.110355</td>\n",
       "      <td>-0.120711</td>\n",
       "      <td>-0.066940</td>\n",
       "      <td>-0.093661</td>\n",
       "      <td>1.000000</td>\n",
       "      <td>-0.085440</td>\n",
       "      <td>-0.150430</td>\n",
       "      <td>-0.079037</td>\n",
       "      <td>-0.109018</td>\n",
       "      <td>-0.102165</td>\n",
       "      <td>-0.092329</td>\n",
       "    </tr>\n",
       "    <tr>\n",
       "      <th>key_6</th>\n",
       "      <td>-0.075400</td>\n",
       "      <td>0.058113</td>\n",
       "      <td>0.079946</td>\n",
       "      <td>-0.050661</td>\n",
       "      <td>0.021112</td>\n",
       "      <td>0.070428</td>\n",
       "      <td>0.076009</td>\n",
       "      <td>0.011248</td>\n",
       "      <td>0.038647</td>\n",
       "      <td>0.055400</td>\n",
       "      <td>-0.042761</td>\n",
       "      <td>-0.062210</td>\n",
       "      <td>-0.030559</td>\n",
       "      <td>-0.076953</td>\n",
       "      <td>-0.084175</td>\n",
       "      <td>-0.046679</td>\n",
       "      <td>-0.065313</td>\n",
       "      <td>-0.085440</td>\n",
       "      <td>1.000000</td>\n",
       "      <td>-0.104899</td>\n",
       "      <td>-0.055115</td>\n",
       "      <td>-0.076021</td>\n",
       "      <td>-0.071242</td>\n",
       "      <td>-0.064384</td>\n",
       "    </tr>\n",
       "    <tr>\n",
       "      <th>key_7</th>\n",
       "      <td>0.024478</td>\n",
       "      <td>-0.021258</td>\n",
       "      <td>-0.007067</td>\n",
       "      <td>0.008832</td>\n",
       "      <td>-0.031552</td>\n",
       "      <td>-0.018898</td>\n",
       "      <td>-0.059099</td>\n",
       "      <td>-0.019741</td>\n",
       "      <td>0.041060</td>\n",
       "      <td>-0.006105</td>\n",
       "      <td>0.085782</td>\n",
       "      <td>0.034009</td>\n",
       "      <td>-0.010460</td>\n",
       "      <td>-0.135489</td>\n",
       "      <td>-0.148204</td>\n",
       "      <td>-0.082185</td>\n",
       "      <td>-0.114993</td>\n",
       "      <td>-0.150430</td>\n",
       "      <td>-0.104899</td>\n",
       "      <td>1.000000</td>\n",
       "      <td>-0.097039</td>\n",
       "      <td>-0.133848</td>\n",
       "      <td>-0.125433</td>\n",
       "      <td>-0.113358</td>\n",
       "    </tr>\n",
       "    <tr>\n",
       "      <th>key_8</th>\n",
       "      <td>0.002481</td>\n",
       "      <td>0.020706</td>\n",
       "      <td>0.000960</td>\n",
       "      <td>-0.007205</td>\n",
       "      <td>0.015441</td>\n",
       "      <td>0.009341</td>\n",
       "      <td>0.011802</td>\n",
       "      <td>0.001925</td>\n",
       "      <td>-0.004115</td>\n",
       "      <td>0.007185</td>\n",
       "      <td>0.015236</td>\n",
       "      <td>-0.002073</td>\n",
       "      <td>-0.021616</td>\n",
       "      <td>-0.071187</td>\n",
       "      <td>-0.077867</td>\n",
       "      <td>-0.043181</td>\n",
       "      <td>-0.060418</td>\n",
       "      <td>-0.079037</td>\n",
       "      <td>-0.055115</td>\n",
       "      <td>-0.097039</td>\n",
       "      <td>1.000000</td>\n",
       "      <td>-0.070325</td>\n",
       "      <td>-0.065904</td>\n",
       "      <td>-0.059559</td>\n",
       "    </tr>\n",
       "    <tr>\n",
       "      <th>key_9</th>\n",
       "      <td>-0.016906</td>\n",
       "      <td>-0.035722</td>\n",
       "      <td>0.024292</td>\n",
       "      <td>0.014196</td>\n",
       "      <td>0.014979</td>\n",
       "      <td>-0.004046</td>\n",
       "      <td>-0.060317</td>\n",
       "      <td>0.046703</td>\n",
       "      <td>0.022224</td>\n",
       "      <td>-0.019864</td>\n",
       "      <td>0.002293</td>\n",
       "      <td>-0.005232</td>\n",
       "      <td>0.016754</td>\n",
       "      <td>-0.098190</td>\n",
       "      <td>-0.107404</td>\n",
       "      <td>-0.059560</td>\n",
       "      <td>-0.083337</td>\n",
       "      <td>-0.109018</td>\n",
       "      <td>-0.076021</td>\n",
       "      <td>-0.133848</td>\n",
       "      <td>-0.070325</td>\n",
       "      <td>1.000000</td>\n",
       "      <td>-0.090902</td>\n",
       "      <td>-0.082151</td>\n",
       "    </tr>\n",
       "    <tr>\n",
       "      <th>key_10</th>\n",
       "      <td>0.009778</td>\n",
       "      <td>0.019286</td>\n",
       "      <td>-0.014478</td>\n",
       "      <td>0.013709</td>\n",
       "      <td>-0.009154</td>\n",
       "      <td>-0.002010</td>\n",
       "      <td>0.035175</td>\n",
       "      <td>-0.012661</td>\n",
       "      <td>-0.008212</td>\n",
       "      <td>-0.014243</td>\n",
       "      <td>-0.102617</td>\n",
       "      <td>0.001907</td>\n",
       "      <td>0.025520</td>\n",
       "      <td>-0.092017</td>\n",
       "      <td>-0.100652</td>\n",
       "      <td>-0.055816</td>\n",
       "      <td>-0.078098</td>\n",
       "      <td>-0.102165</td>\n",
       "      <td>-0.071242</td>\n",
       "      <td>-0.125433</td>\n",
       "      <td>-0.065904</td>\n",
       "      <td>-0.090902</td>\n",
       "      <td>1.000000</td>\n",
       "      <td>-0.076987</td>\n",
       "    </tr>\n",
       "    <tr>\n",
       "      <th>key_11</th>\n",
       "      <td>-0.140107</td>\n",
       "      <td>0.099902</td>\n",
       "      <td>0.114901</td>\n",
       "      <td>-0.067225</td>\n",
       "      <td>-0.004973</td>\n",
       "      <td>0.088273</td>\n",
       "      <td>0.092526</td>\n",
       "      <td>0.016407</td>\n",
       "      <td>0.033963</td>\n",
       "      <td>0.093769</td>\n",
       "      <td>-0.101059</td>\n",
       "      <td>-0.111782</td>\n",
       "      <td>0.013773</td>\n",
       "      <td>-0.083159</td>\n",
       "      <td>-0.090963</td>\n",
       "      <td>-0.050443</td>\n",
       "      <td>-0.070579</td>\n",
       "      <td>-0.092329</td>\n",
       "      <td>-0.064384</td>\n",
       "      <td>-0.113358</td>\n",
       "      <td>-0.059559</td>\n",
       "      <td>-0.082151</td>\n",
       "      <td>-0.076987</td>\n",
       "      <td>1.000000</td>\n",
       "    </tr>\n",
       "  </tbody>\n",
       "</table>\n",
       "</div>"
      ],
      "text/plain": [
       "                  acousticness  danceability    energy  instrumentalness  \\\n",
       "acousticness          1.000000     -0.640637 -0.852734          0.474671   \n",
       "danceability         -0.640637      1.000000  0.598596         -0.438412   \n",
       "energy               -0.852734      0.598596  1.000000         -0.477266   \n",
       "instrumentalness      0.474671     -0.438412 -0.477266          1.000000   \n",
       "liveness             -0.057362     -0.043839  0.171266         -0.126352   \n",
       "loudness             -0.742169      0.643984  0.865607         -0.600671   \n",
       "speechiness          -0.352251      0.457486  0.304125         -0.296504   \n",
       "tempo                -0.303287      0.213374  0.355211         -0.155957   \n",
       "valence              -0.443461      0.637346  0.588328         -0.374890   \n",
       "popularity           -0.495514      0.394512  0.369784         -0.309842   \n",
       "mode                  0.130139     -0.121580 -0.107584         -0.021186   \n",
       "clean_genres          0.577749     -0.447665 -0.470329          0.456556   \n",
       "duration_sec          0.105000     -0.256139 -0.116576          0.235983   \n",
       "key_1                -0.149881      0.138757  0.088512         -0.060178   \n",
       "key_2                 0.046242     -0.100284 -0.043957          0.023987   \n",
       "key_3                 0.123078     -0.095755 -0.103642          0.065968   \n",
       "key_4                -0.013442     -0.014861 -0.000787         -0.024963   \n",
       "key_5                 0.124670     -0.035423 -0.087335          0.020497   \n",
       "key_6                -0.075400      0.058113  0.079946         -0.050661   \n",
       "key_7                 0.024478     -0.021258 -0.007067          0.008832   \n",
       "key_8                 0.002481      0.020706  0.000960         -0.007205   \n",
       "key_9                -0.016906     -0.035722  0.024292          0.014196   \n",
       "key_10                0.009778      0.019286 -0.014478          0.013709   \n",
       "key_11               -0.140107      0.099902  0.114901         -0.067225   \n",
       "\n",
       "                  liveness  loudness  speechiness     tempo   valence  \\\n",
       "acousticness     -0.057362 -0.742169    -0.352251 -0.303287 -0.443461   \n",
       "danceability     -0.043839  0.643984     0.457486  0.213374  0.637346   \n",
       "energy            0.171266  0.865607     0.304125  0.355211  0.588328   \n",
       "instrumentalness -0.126352 -0.600671    -0.296504 -0.155957 -0.374890   \n",
       "liveness          1.000000  0.142570     0.140124  0.022637  0.060864   \n",
       "loudness          0.142570  1.000000     0.301038  0.328462  0.551588   \n",
       "speechiness       0.140124  0.301038     1.000000  0.067932  0.191893   \n",
       "tempo             0.022637  0.328462     0.067932  1.000000  0.280975   \n",
       "valence           0.060864  0.551588     0.191893  0.280975  1.000000   \n",
       "popularity       -0.147958  0.335458     0.243484  0.150223  0.163200   \n",
       "mode              0.027486 -0.066460    -0.109142 -0.006365 -0.026051   \n",
       "clean_genres     -0.032673 -0.454822    -0.465579 -0.162536 -0.168948   \n",
       "duration_sec      0.021153 -0.150877    -0.108829 -0.128038 -0.249777   \n",
       "key_1            -0.021108  0.079084     0.184851 -0.002422 -0.024877   \n",
       "key_2             0.015890 -0.050550    -0.060768 -0.008824 -0.062354   \n",
       "key_3            -0.023685 -0.089361    -0.060835 -0.020717 -0.072059   \n",
       "key_4            -0.018537  0.001063     0.000277  0.022357 -0.011965   \n",
       "key_5             0.034685 -0.047795    -0.063876 -0.035659  0.027206   \n",
       "key_6             0.021112  0.070428     0.076009  0.011248  0.038647   \n",
       "key_7            -0.031552 -0.018898    -0.059099 -0.019741  0.041060   \n",
       "key_8             0.015441  0.009341     0.011802  0.001925 -0.004115   \n",
       "key_9             0.014979 -0.004046    -0.060317  0.046703  0.022224   \n",
       "key_10           -0.009154 -0.002010     0.035175 -0.012661 -0.008212   \n",
       "key_11           -0.004973  0.088273     0.092526  0.016407  0.033963   \n",
       "\n",
       "                  popularity      mode  clean_genres  duration_sec     key_1  \\\n",
       "acousticness       -0.495514  0.130139      0.577749      0.105000 -0.149881   \n",
       "danceability        0.394512 -0.121580     -0.447665     -0.256139  0.138757   \n",
       "energy              0.369784 -0.107584     -0.470329     -0.116576  0.088512   \n",
       "instrumentalness   -0.309842 -0.021186      0.456556      0.235983 -0.060178   \n",
       "liveness           -0.147958  0.027486     -0.032673      0.021153 -0.021108   \n",
       "loudness            0.335458 -0.066460     -0.454822     -0.150877  0.079084   \n",
       "speechiness         0.243484 -0.109142     -0.465579     -0.108829  0.184851   \n",
       "tempo               0.150223 -0.006365     -0.162536     -0.128038 -0.002422   \n",
       "valence             0.163200 -0.026051     -0.168948     -0.249777 -0.024877   \n",
       "popularity          1.000000 -0.119744     -0.471184     -0.145586  0.136444   \n",
       "mode               -0.119744  1.000000      0.032642     -0.045890  0.024127   \n",
       "clean_genres       -0.471184  0.032642      1.000000      0.192085 -0.179429   \n",
       "duration_sec       -0.145586 -0.045890      0.192085      1.000000 -0.029521   \n",
       "key_1               0.136444  0.024127     -0.179429     -0.029521  1.000000   \n",
       "key_2              -0.020342  0.054938     -0.010893      0.032730 -0.108721   \n",
       "key_3              -0.049911  0.030141      0.070130     -0.009295 -0.060291   \n",
       "key_4               0.003248 -0.073150     -0.039963     -0.029571 -0.084358   \n",
       "key_5              -0.087693 -0.009790      0.186686      0.022722 -0.110355   \n",
       "key_6               0.055400 -0.042761     -0.062210     -0.030559 -0.076953   \n",
       "key_7              -0.006105  0.085782      0.034009     -0.010460 -0.135489   \n",
       "key_8               0.007185  0.015236     -0.002073     -0.021616 -0.071187   \n",
       "key_9              -0.019864  0.002293     -0.005232      0.016754 -0.098190   \n",
       "key_10             -0.014243 -0.102617      0.001907      0.025520 -0.092017   \n",
       "key_11              0.093769 -0.101059     -0.111782      0.013773 -0.083159   \n",
       "\n",
       "                     key_2     key_3     key_4     key_5     key_6     key_7  \\\n",
       "acousticness      0.046242  0.123078 -0.013442  0.124670 -0.075400  0.024478   \n",
       "danceability     -0.100284 -0.095755 -0.014861 -0.035423  0.058113 -0.021258   \n",
       "energy           -0.043957 -0.103642 -0.000787 -0.087335  0.079946 -0.007067   \n",
       "instrumentalness  0.023987  0.065968 -0.024963  0.020497 -0.050661  0.008832   \n",
       "liveness          0.015890 -0.023685 -0.018537  0.034685  0.021112 -0.031552   \n",
       "loudness         -0.050550 -0.089361  0.001063 -0.047795  0.070428 -0.018898   \n",
       "speechiness      -0.060768 -0.060835  0.000277 -0.063876  0.076009 -0.059099   \n",
       "tempo            -0.008824 -0.020717  0.022357 -0.035659  0.011248 -0.019741   \n",
       "valence          -0.062354 -0.072059 -0.011965  0.027206  0.038647  0.041060   \n",
       "popularity       -0.020342 -0.049911  0.003248 -0.087693  0.055400 -0.006105   \n",
       "mode              0.054938  0.030141 -0.073150 -0.009790 -0.042761  0.085782   \n",
       "clean_genres     -0.010893  0.070130 -0.039963  0.186686 -0.062210  0.034009   \n",
       "duration_sec      0.032730 -0.009295 -0.029571  0.022722 -0.030559 -0.010460   \n",
       "key_1            -0.108721 -0.060291 -0.084358 -0.110355 -0.076953 -0.135489   \n",
       "key_2             1.000000 -0.065949 -0.092275 -0.120711 -0.084175 -0.148204   \n",
       "key_3            -0.065949  1.000000 -0.051170 -0.066940 -0.046679 -0.082185   \n",
       "key_4            -0.092275 -0.051170  1.000000 -0.093661 -0.065313 -0.114993   \n",
       "key_5            -0.120711 -0.066940 -0.093661  1.000000 -0.085440 -0.150430   \n",
       "key_6            -0.084175 -0.046679 -0.065313 -0.085440  1.000000 -0.104899   \n",
       "key_7            -0.148204 -0.082185 -0.114993 -0.150430 -0.104899  1.000000   \n",
       "key_8            -0.077867 -0.043181 -0.060418 -0.079037 -0.055115 -0.097039   \n",
       "key_9            -0.107404 -0.059560 -0.083337 -0.109018 -0.076021 -0.133848   \n",
       "key_10           -0.100652 -0.055816 -0.078098 -0.102165 -0.071242 -0.125433   \n",
       "key_11           -0.090963 -0.050443 -0.070579 -0.092329 -0.064384 -0.113358   \n",
       "\n",
       "                     key_8     key_9    key_10    key_11  \n",
       "acousticness      0.002481 -0.016906  0.009778 -0.140107  \n",
       "danceability      0.020706 -0.035722  0.019286  0.099902  \n",
       "energy            0.000960  0.024292 -0.014478  0.114901  \n",
       "instrumentalness -0.007205  0.014196  0.013709 -0.067225  \n",
       "liveness          0.015441  0.014979 -0.009154 -0.004973  \n",
       "loudness          0.009341 -0.004046 -0.002010  0.088273  \n",
       "speechiness       0.011802 -0.060317  0.035175  0.092526  \n",
       "tempo             0.001925  0.046703 -0.012661  0.016407  \n",
       "valence          -0.004115  0.022224 -0.008212  0.033963  \n",
       "popularity        0.007185 -0.019864 -0.014243  0.093769  \n",
       "mode              0.015236  0.002293 -0.102617 -0.101059  \n",
       "clean_genres     -0.002073 -0.005232  0.001907 -0.111782  \n",
       "duration_sec     -0.021616  0.016754  0.025520  0.013773  \n",
       "key_1            -0.071187 -0.098190 -0.092017 -0.083159  \n",
       "key_2            -0.077867 -0.107404 -0.100652 -0.090963  \n",
       "key_3            -0.043181 -0.059560 -0.055816 -0.050443  \n",
       "key_4            -0.060418 -0.083337 -0.078098 -0.070579  \n",
       "key_5            -0.079037 -0.109018 -0.102165 -0.092329  \n",
       "key_6            -0.055115 -0.076021 -0.071242 -0.064384  \n",
       "key_7            -0.097039 -0.133848 -0.125433 -0.113358  \n",
       "key_8             1.000000 -0.070325 -0.065904 -0.059559  \n",
       "key_9            -0.070325  1.000000 -0.090902 -0.082151  \n",
       "key_10           -0.065904 -0.090902  1.000000 -0.076987  \n",
       "key_11           -0.059559 -0.082151 -0.076987  1.000000  "
      ]
     },
     "execution_count": 30,
     "metadata": {},
     "output_type": "execute_result"
    }
   ],
   "source": [
    "genres_df.drop(columns=['rap','country','classical','jazz','duration_ms']).corr()"
   ]
  },
  {
   "cell_type": "code",
   "execution_count": 31,
   "metadata": {},
   "outputs": [
    {
     "data": {
      "image/png": "[encoded data removed]",
      "text/plain": [
       "<Figure size 1152x648 with 2 Axes>"
      ]
     },
     "metadata": {},
     "output_type": "display_data"
    }
   ],
   "source": [
    "fig, ax = plt.subplots(figsize=(16,9))\n",
    "sns.heatmap(genres_df.drop(columns=['rap','country','classical','jazz','duration_ms','key_1','key_2','key_3','key_4','key_5','key_6','key_7','key_8','key_9','key_10','key_11',]).corr(),cmap=\"YlGnBu\");"
   ]
  },
  {
   "cell_type": "markdown",
   "metadata": {},
   "source": [
    "### Model 1 - Random Forest"
   ]
  },
  {
   "cell_type": "code",
   "execution_count": 32,
   "metadata": {},
   "outputs": [],
   "source": [
    "X_train, X_test, y_train, y_test = train_test_split(X,y,random_state=42)"
   ]
  },
  {
   "cell_type": "code",
   "execution_count": 33,
   "metadata": {},
   "outputs": [],
   "source": [
    "rfc = RandomForestClassifier(random_state=42,n_jobs=-1,n_estimators=1000)"
   ]
  },
  {
   "cell_type": "code",
   "execution_count": 34,
   "metadata": {},
   "outputs": [],
   "source": [
    "\n",
    "params_grid = {\n",
    "    'criterion' : ['gini','entropy'],\n",
    "    'max_depth':[None, 5,3],\n",
    "    'min_samples_split':[2,10,20],\n",
    "    'n_estimators': [100,1000,5000]\n",
    "}\n",
    "gridsearch_model = GridSearchCV(estimator=rfc,param_grid = params_grid,verbose=1,n_jobs=-1)"
   ]
  },
  {
   "cell_type": "code",
   "execution_count": 35,
   "metadata": {},
   "outputs": [
    {
     "name": "stdout",
     "output_type": "stream",
     "text": [
      "Fitting 5 folds for each of 54 candidates, totalling 270 fits\n"
     ]
    },
    {
     "name": "stderr",
     "output_type": "stream",
     "text": [
      "[Parallel(n_jobs=-1)]: Using backend LokyBackend with 8 concurrent workers.\n",
      "[Parallel(n_jobs=-1)]: Done  34 tasks      | elapsed:  1.2min\n",
      "[Parallel(n_jobs=-1)]: Done 184 tasks      | elapsed:  6.2min\n",
      "[Parallel(n_jobs=-1)]: Done 270 out of 270 | elapsed:  8.9min finished\n"
     ]
    },
    {
     "data": {
      "text/plain": [
       "GridSearchCV(estimator=RandomForestClassifier(n_estimators=1000, n_jobs=-1,\n",
       "                                              random_state=42),\n",
       "             n_jobs=-1,\n",
       "             param_grid={'criterion': ['gini', 'entropy'],\n",
       "                         'max_depth': [None, 5, 3],\n",
       "                         'min_samples_split': [2, 10, 20],\n",
       "                         'n_estimators': [100, 1000, 5000]},\n",
       "             verbose=1)"
      ]
     },
     "execution_count": 35,
     "metadata": {},
     "output_type": "execute_result"
    }
   ],
   "source": [
    "gridsearch_model.fit(X_train,y_train)"
   ]
  },
  {
   "cell_type": "code",
   "execution_count": 36,
   "metadata": {},
   "outputs": [],
   "source": [
    "best_model_rf = gridsearch_model.best_estimator_"
   ]
  },
  {
   "cell_type": "code",
   "execution_count": 37,
   "metadata": {},
   "outputs": [
    {
     "data": {
      "text/plain": [
       "{'criterion': 'entropy',\n",
       " 'max_depth': None,\n",
       " 'min_samples_split': 2,\n",
       " 'n_estimators': 5000}"
      ]
     },
     "execution_count": 37,
     "metadata": {},
     "output_type": "execute_result"
    }
   ],
   "source": [
    "gridsearch_model.best_params_"
   ]
  },
  {
   "cell_type": "code",
   "execution_count": 38,
   "metadata": {},
   "outputs": [
    {
     "data": {
      "text/plain": [
       "RandomForestClassifier(criterion='entropy', n_estimators=5000, n_jobs=-1,\n",
       "                       random_state=42)"
      ]
     },
     "execution_count": 38,
     "metadata": {},
     "output_type": "execute_result"
    }
   ],
   "source": [
    "best_model_rf"
   ]
  },
  {
   "cell_type": "code",
   "execution_count": 39,
   "metadata": {},
   "outputs": [],
   "source": [
    "y_pred_rf = best_model_rf.predict(X_test)"
   ]
  },
  {
   "cell_type": "code",
   "execution_count": 40,
   "metadata": {},
   "outputs": [],
   "source": [
    "y_preds_rf = pd.Series(y_pred_rf)"
   ]
  },
  {
   "cell_type": "code",
   "execution_count": 41,
   "metadata": {},
   "outputs": [],
   "source": [
    "cf_matrix = confusion_matrix(y_test, y_preds_rf)"
   ]
  },
  {
   "cell_type": "code",
   "execution_count": 42,
   "metadata": {},
   "outputs": [
    {
     "data": {
      "image/png": "[encoded data removed]",
      "text/plain": [
       "<Figure size 1152x648 with 2 Axes>"
      ]
     },
     "metadata": {},
     "output_type": "display_data"
    }
   ],
   "source": [
    "fig, ax = plt.subplots(figsize=(16,9))\n",
    "sns.heatmap(cf_matrix, annot=True, cmap=\"YlGnBu\", fmt='g', \n",
    "            xticklabels=['Rap', 'Country', 'Classical', 'Jazz'], \n",
    "            yticklabels=['Rap', 'Country', 'Classical', 'Jazz'])\n",
    "sns.set(font_scale=3)\n",
    "ax.set_title('Confusion Matrix (Random Forest)');"
   ]
  },
  {
   "cell_type": "code",
   "execution_count": 43,
   "metadata": {},
   "outputs": [
    {
     "data": {
      "text/plain": [
       "0.8226146432655901"
      ]
     },
     "execution_count": 43,
     "metadata": {},
     "output_type": "execute_result"
    }
   ],
   "source": [
    "f1_score(y_preds_rf,y_test,average='weighted')"
   ]
  },
  {
   "cell_type": "markdown",
   "metadata": {},
   "source": [
    "### Model 2 - KNN"
   ]
  },
  {
   "cell_type": "code",
   "execution_count": 44,
   "metadata": {},
   "outputs": [],
   "source": [
    "knn = KNeighborsClassifier(n_jobs=-1)"
   ]
  },
  {
   "cell_type": "code",
   "execution_count": 45,
   "metadata": {},
   "outputs": [],
   "source": [
    "\n",
    "params_grid = {\n",
    "    'n_neighbors':[3,5,11,19],\n",
    "    'weights':['uniform','distance'],\n",
    "    'metric':['euclidean','manhattan']\n",
    "}\n",
    "gridsearch_model = GridSearchCV(estimator=knn,param_grid = params_grid,verbose=1,cv=3, n_jobs=-1)"
   ]
  },
  {
   "cell_type": "code",
   "execution_count": 46,
   "metadata": {},
   "outputs": [
    {
     "name": "stdout",
     "output_type": "stream",
     "text": [
      "Fitting 3 folds for each of 16 candidates, totalling 48 fits\n"
     ]
    },
    {
     "name": "stderr",
     "output_type": "stream",
     "text": [
      "[Parallel(n_jobs=-1)]: Using backend LokyBackend with 8 concurrent workers.\n",
      "[Parallel(n_jobs=-1)]: Done  48 out of  48 | elapsed:    0.7s finished\n"
     ]
    },
    {
     "data": {
      "text/plain": [
       "GridSearchCV(cv=3, estimator=KNeighborsClassifier(n_jobs=-1), n_jobs=-1,\n",
       "             param_grid={'metric': ['euclidean', 'manhattan'],\n",
       "                         'n_neighbors': [3, 5, 11, 19],\n",
       "                         'weights': ['uniform', 'distance']},\n",
       "             verbose=1)"
      ]
     },
     "execution_count": 46,
     "metadata": {},
     "output_type": "execute_result"
    }
   ],
   "source": [
    "gridsearch_model.fit(X_train,y_train)"
   ]
  },
  {
   "cell_type": "code",
   "execution_count": 47,
   "metadata": {},
   "outputs": [],
   "source": [
    "best_model_knn = gridsearch_model.best_estimator_"
   ]
  },
  {
   "cell_type": "code",
   "execution_count": 62,
   "metadata": {},
   "outputs": [
    {
     "data": {
      "text/plain": [
       "{'metric': 'manhattan', 'n_neighbors': 19, 'weights': 'distance'}"
      ]
     },
     "execution_count": 62,
     "metadata": {},
     "output_type": "execute_result"
    }
   ],
   "source": [
    "gridsearch_model.best_params_"
   ]
  },
  {
   "cell_type": "code",
   "execution_count": 48,
   "metadata": {},
   "outputs": [
    {
     "data": {
      "text/plain": [
       "KNeighborsClassifier(metric='manhattan', n_jobs=-1, n_neighbors=19,\n",
       "                     weights='distance')"
      ]
     },
     "execution_count": 48,
     "metadata": {},
     "output_type": "execute_result"
    }
   ],
   "source": [
    "best_model_knn"
   ]
  },
  {
   "cell_type": "code",
   "execution_count": 49,
   "metadata": {},
   "outputs": [],
   "source": [
    "y_pred_knn = best_model_knn.predict(X_test)"
   ]
  },
  {
   "cell_type": "code",
   "execution_count": 50,
   "metadata": {},
   "outputs": [],
   "source": [
    "y_preds_knn = pd.Series(y_pred_knn)"
   ]
  },
  {
   "cell_type": "code",
   "execution_count": 51,
   "metadata": {},
   "outputs": [
    {
     "data": {
      "text/plain": [
       "0.654829145641549"
      ]
     },
     "execution_count": 51,
     "metadata": {},
     "output_type": "execute_result"
    }
   ],
   "source": [
    "f1_score(y_preds_knn,y_test,average='weighted')"
   ]
  },
  {
   "cell_type": "markdown",
   "metadata": {},
   "source": [
    "### Model 3 - XGBoost"
   ]
  },
  {
   "cell_type": "code",
   "execution_count": 52,
   "metadata": {},
   "outputs": [
    {
     "data": {
      "text/plain": [
       "XGBRegressor(base_score=0.5, booster='gbtree', colsample_bylevel=1,\n",
       "             colsample_bynode=1, colsample_bytree=1, gamma=0, gpu_id=-1,\n",
       "             importance_type='gain', interaction_constraints='',\n",
       "             learning_rate=0.300000012, max_delta_step=0, max_depth=6,\n",
       "             min_child_weight=1, missing=nan, monotone_constraints='()',\n",
       "             n_estimators=100, n_jobs=0, num_class=4, num_parallel_tree=1,\n",
       "             objective='multi:softmax', random_state=42, reg_alpha=0,\n",
       "             reg_lambda=1, scale_pos_weight=None, subsample=1,\n",
       "             tree_method='exact', validate_parameters=1, verbosity=None)"
      ]
     },
     "execution_count": 52,
     "metadata": {},
     "output_type": "execute_result"
    }
   ],
   "source": [
    "grad_boost = xgboost.XGBRegressor(random_state=42, objective='multi:softmax',num_class=4)\n",
    "\n",
    "grad_boost.fit(X_train, y_train)"
   ]
  },
  {
   "cell_type": "code",
   "execution_count": 53,
   "metadata": {},
   "outputs": [],
   "source": [
    "y_pred_xg = grad_boost.predict(X_test)"
   ]
  },
  {
   "cell_type": "code",
   "execution_count": 54,
   "metadata": {},
   "outputs": [
    {
     "data": {
      "text/plain": [
       "0.8182810598456766"
      ]
     },
     "execution_count": 54,
     "metadata": {},
     "output_type": "execute_result"
    }
   ],
   "source": [
    "f1_score(y_pred_xg,y_test,average='weighted')"
   ]
  },
  {
   "cell_type": "markdown",
   "metadata": {},
   "source": [
    "### Predictions"
   ]
  },
  {
   "cell_type": "code",
   "execution_count": 55,
   "metadata": {},
   "outputs": [],
   "source": [
    "df_pred_genres = pd.get_dummies(data=df_pred,columns=['key'],drop_first=True)"
   ]
  },
  {
   "cell_type": "code",
   "execution_count": 56,
   "metadata": {},
   "outputs": [],
   "source": [
    "pred_X = df_pred_genres.drop(columns = ['genres', 'duration_ms','artists'])"
   ]
  },
  {
   "cell_type": "code",
   "execution_count": 57,
   "metadata": {},
   "outputs": [],
   "source": [
    "pred_y_pred_rf = best_model_rf.predict(pred_X)"
   ]
  },
  {
   "cell_type": "code",
   "execution_count": 58,
   "metadata": {},
   "outputs": [],
   "source": [
    "pred_y_preds_rf = pd.Series(pred_y_pred_rf)"
   ]
  },
  {
   "cell_type": "code",
   "execution_count": 59,
   "metadata": {},
   "outputs": [],
   "source": [
    "df_pred['preds'] = pred_y_preds_rf"
   ]
  },
  {
   "cell_type": "code",
   "execution_count": 60,
   "metadata": {},
   "outputs": [],
   "source": [
    "conditons = [df_pred['preds'] == 0 ,\n",
    "             df_pred['preds'] == 1,\n",
    "             df_pred['preds'] == 2,\n",
    "            df_pred['preds'] == 3\n",
    "]\n",
    "\n",
    "choices = ['rap',\n",
    "           'country',\n",
    "           'classical',\n",
    "           'jazz'\n",
    "           \n",
    "]\n",
    "\n",
    "df_pred['clean_genres'] = np.select(conditons, choices)"
   ]
  },
  {
   "cell_type": "code",
   "execution_count": 61,
   "metadata": {},
   "outputs": [
    {
     "data": {
      "text/html": [
       "<div>\n",
       "<style scoped>\n",
       "    .dataframe tbody tr th:only-of-type {\n",
       "        vertical-align: middle;\n",
       "    }\n",
       "\n",
       "    .dataframe tbody tr th {\n",
       "        vertical-align: top;\n",
       "    }\n",
       "\n",
       "    .dataframe thead th {\n",
       "        text-align: right;\n",
       "    }\n",
       "</style>\n",
       "<table border=\"1\" class=\"dataframe\">\n",
       "  <thead>\n",
       "    <tr style=\"text-align: right;\">\n",
       "      <th></th>\n",
       "      <th>artists</th>\n",
       "      <th>clean_genres</th>\n",
       "    </tr>\n",
       "  </thead>\n",
       "  <tbody>\n",
       "    <tr>\n",
       "      <th>4971</th>\n",
       "      <td>Hot Girl Meg</td>\n",
       "      <td>rap</td>\n",
       "    </tr>\n",
       "    <tr>\n",
       "      <th>12365</th>\n",
       "      <td>Trey Lewis</td>\n",
       "      <td>country</td>\n",
       "    </tr>\n",
       "    <tr>\n",
       "      <th>570</th>\n",
       "      <td>Andrew Andraos</td>\n",
       "      <td>classical</td>\n",
       "    </tr>\n",
       "    <tr>\n",
       "      <th>966</th>\n",
       "      <td>Avenue Blue (Featuring Jeff Golub)</td>\n",
       "      <td>jazz</td>\n",
       "    </tr>\n",
       "  </tbody>\n",
       "</table>\n",
       "</div>"
      ],
      "text/plain": [
       "                                  artists clean_genres\n",
       "4971                         Hot Girl Meg          rap\n",
       "12365                          Trey Lewis      country\n",
       "570                        Andrew Andraos    classical\n",
       "966    Avenue Blue (Featuring Jeff Golub)         jazz"
      ]
     },
     "execution_count": 61,
     "metadata": {},
     "output_type": "execute_result"
    }
   ],
   "source": [
    "df_pred.iloc[[4971,12365,570,966]][['artists','clean_genres']]"
   ]
  }
 ],
 "metadata": {
  "kernelspec": {
   "display_name": "learn-env",
   "language": "python",
   "name": "learn-env"
  },
  "language_info": {
   "codemirror_mode": {
    "name": "ipython",
    "version": 3
   },
   "file_extension": ".py",
   "mimetype": "text/x-python",
   "name": "python",
   "nbconvert_exporter": "python",
   "pygments_lexer": "ipython3",
   "version": "3.8.5"
  }
 },
 "nbformat": 4,
 "nbformat_minor": 4
}
